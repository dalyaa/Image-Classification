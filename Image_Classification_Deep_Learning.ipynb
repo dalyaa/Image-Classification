{
  "nbformat": 4,
  "nbformat_minor": 0,
  "metadata": {
    "colab": {
      "name": "Assignment 6.ipynb",
      "version": "0.3.2",
      "views": {},
      "default_view": {},
      "provenance": []
    }
  },
  "cells": [
    {
      "metadata": {
        "id": "_tvTRUMP53pN",
        "colab_type": "text"
      },
      "cell_type": "markdown",
      "source": [
        "# Import and Set Up"
      ]
    },
    {
      "metadata": {
        "id": "qij4ACzM466x",
        "colab_type": "code",
        "colab": {
          "autoexec": {
            "startup": false,
            "wait_interval": 0
          }
        }
      },
      "cell_type": "code",
      "source": [
        "#Authenticate into Google Drive and find file ids in order to read in data files\n",
        "!pip install -U -q PyDrive\n",
        "\n",
        "from pydrive.auth import GoogleAuth\n",
        "from pydrive.drive import GoogleDrive\n",
        "from google.colab import auth\n",
        "from oauth2client.client import GoogleCredentials\n",
        "\n",
        "# 1. Authenticate and create the PyDrive client.\n",
        "auth.authenticate_user()\n",
        "gauth = GoogleAuth()\n",
        "gauth.credentials = GoogleCredentials.get_application_default()\n",
        "drive = GoogleDrive(gauth)"
      ],
      "execution_count": 0,
      "outputs": []
    },
    {
      "metadata": {
        "id": "F8daUUnysSIZ",
        "colab_type": "code",
        "colab": {
          "autoexec": {
            "startup": false,
            "wait_interval": 0
          },
          "base_uri": "https://localhost:8080/",
          "height": 125
        },
        "outputId": "d9cb8853-5fbe-4844-98e5-64370f861b5c",
        "executionInfo": {
          "status": "ok",
          "timestamp": 1533499483625,
          "user_tz": 300,
          "elapsed": 1948,
          "user": {
            "displayName": "dalya adams",
            "photoUrl": "https://lh3.googleusercontent.com/a/default-user=s128",
            "userId": "101705127410802501621"
          }
        }
      },
      "cell_type": "code",
      "source": [
        "import pandas as pd \n",
        "import numpy as np \n",
        "import statsmodels.api as sm  \n",
        "import matplotlib.pyplot as plt \n",
        "from sklearn.model_selection import train_test_split\n",
        "from sklearn import metrics\n",
        "from sklearn.metrics import mean_squared_error\n",
        "from sklearn.model_selection import KFold\n",
        "from sklearn.cross_validation import cross_val_score, cross_val_predict\n",
        "from sklearn.metrics import mean_squared_error, r2_score\n",
        "from sklearn.model_selection import KFold\n",
        "from math import sqrt \n",
        "import tensorflow as tf\n",
        "import time\n",
        "from sklearn.metrics import accuracy_score\n",
        "\n",
        "\n",
        "\n",
        "get_ipython().magic(u'matplotlib inline')\n",
        "#these are some options to control output on your screen \n",
        "pd.set_option('display.notebook_repr_html', False) \n",
        "pd.set_option('display.max_columns', 40) \n",
        "pd.set_option('display.max_rows', 50) \n",
        "pd.set_option('display.width', 120)"
      ],
      "execution_count": 7,
      "outputs": [
        {
          "output_type": "stream",
          "text": [
            "/usr/local/lib/python2.7/dist-packages/statsmodels/compat/pandas.py:56: FutureWarning: The pandas.core.datetools module is deprecated and will be removed in a future version. Please use the pandas.tseries module instead.\n",
            "  from pandas.core import datetools\n",
            "/usr/local/lib/python2.7/dist-packages/sklearn/cross_validation.py:41: DeprecationWarning: This module was deprecated in version 0.18 in favor of the model_selection module into which all the refactored classes and functions are moved. Also note that the interface of the new CV iterators are different from that of this module. This module will be removed in 0.20.\n",
            "  \"This module will be removed in 0.20.\", DeprecationWarning)\n"
          ],
          "name": "stderr"
        }
      ]
    },
    {
      "metadata": {
        "id": "exHN7Dk148fc",
        "colab_type": "code",
        "colab": {
          "autoexec": {
            "startup": false,
            "wait_interval": 0
          }
        }
      },
      "cell_type": "code",
      "source": [
        "# seed value for random number generators to obtain reproducible results\n",
        "RANDOM_SEED = 1"
      ],
      "execution_count": 0,
      "outputs": []
    },
    {
      "metadata": {
        "id": "X-aqi3GZGp7u",
        "colab_type": "code",
        "colab": {
          "autoexec": {
            "startup": false,
            "wait_interval": 0
          }
        }
      },
      "cell_type": "code",
      "source": [
        "# function to clear output console\n",
        "def clear():\n",
        "    print(\"\\033[H\\033[J\")"
      ],
      "execution_count": 0,
      "outputs": []
    },
    {
      "metadata": {
        "id": "lMCNxJ-RGhlh",
        "colab_type": "code",
        "colab": {
          "autoexec": {
            "startup": false,
            "wait_interval": 0
          },
          "base_uri": "https://localhost:8080/",
          "height": 519
        },
        "outputId": "34020c6f-10a3-4c8e-b904-11bd740b347c",
        "executionInfo": {
          "status": "ok",
          "timestamp": 1533479386875,
          "user_tz": 300,
          "elapsed": 2949,
          "user": {
            "displayName": "dalya adams",
            "photoUrl": "https://lh3.googleusercontent.com/a/default-user=s128",
            "userId": "101705127410802501621"
          }
        }
      },
      "cell_type": "code",
      "source": [
        "from tensorflow.contrib.learn.python.learn.datasets.mnist import read_data_sets\n",
        "\n",
        "mnist = read_data_sets('MNIST_data')\n",
        "mnist_X = np.concatenate([mnist.train.images, mnist.validation.images, mnist.test.images])\n",
        "mnist_y = np.concatenate([mnist.train.labels, mnist.validation.labels, mnist.test.labels])"
      ],
      "execution_count": 4,
      "outputs": [
        {
          "output_type": "stream",
          "text": [
            "WARNING:tensorflow:From <ipython-input-4-c611f3bf1dec>:3: read_data_sets (from tensorflow.contrib.learn.python.learn.datasets.mnist) is deprecated and will be removed in a future version.\n",
            "Instructions for updating:\n",
            "Please use alternatives such as official/mnist/dataset.py from tensorflow/models.\n",
            "WARNING:tensorflow:From /usr/local/lib/python2.7/dist-packages/tensorflow/contrib/learn/python/learn/datasets/mnist.py:260: maybe_download (from tensorflow.contrib.learn.python.learn.datasets.base) is deprecated and will be removed in a future version.\n",
            "Instructions for updating:\n",
            "Please write your own downloading logic.\n",
            "WARNING:tensorflow:From /usr/local/lib/python2.7/dist-packages/tensorflow/contrib/learn/python/learn/datasets/base.py:252: wrapped_fn (from tensorflow.contrib.learn.python.learn.datasets.base) is deprecated and will be removed in a future version.\n",
            "Instructions for updating:\n",
            "Please use urllib or similar directly.\n",
            "Successfully downloaded train-images-idx3-ubyte.gz 9912422 bytes.\n",
            "WARNING:tensorflow:From /usr/local/lib/python2.7/dist-packages/tensorflow/contrib/learn/python/learn/datasets/mnist.py:262: extract_images (from tensorflow.contrib.learn.python.learn.datasets.mnist) is deprecated and will be removed in a future version.\n",
            "Instructions for updating:\n",
            "Please use tf.data to implement this functionality.\n",
            "Extracting MNIST_data/train-images-idx3-ubyte.gz\n",
            "Successfully downloaded train-labels-idx1-ubyte.gz 28881 bytes.\n",
            "WARNING:tensorflow:From /usr/local/lib/python2.7/dist-packages/tensorflow/contrib/learn/python/learn/datasets/mnist.py:267: extract_labels (from tensorflow.contrib.learn.python.learn.datasets.mnist) is deprecated and will be removed in a future version.\n",
            "Instructions for updating:\n",
            "Please use tf.data to implement this functionality.\n",
            "Extracting MNIST_data/train-labels-idx1-ubyte.gz\n",
            "Successfully downloaded t10k-images-idx3-ubyte.gz 1648877 bytes.\n",
            "Extracting MNIST_data/t10k-images-idx3-ubyte.gz\n",
            "Successfully downloaded t10k-labels-idx1-ubyte.gz 4542 bytes.\n",
            "Extracting MNIST_data/t10k-labels-idx1-ubyte.gz\n",
            "WARNING:tensorflow:From /usr/local/lib/python2.7/dist-packages/tensorflow/contrib/learn/python/learn/datasets/mnist.py:290: __init__ (from tensorflow.contrib.learn.python.learn.datasets.mnist) is deprecated and will be removed in a future version.\n",
            "Instructions for updating:\n",
            "Please use alternatives such as official/mnist/dataset.py from tensorflow/models.\n"
          ],
          "name": "stdout"
        }
      ]
    },
    {
      "metadata": {
        "id": "DWHgnN5dPNtV",
        "colab_type": "code",
        "colab": {
          "autoexec": {
            "startup": false,
            "wait_interval": 0
          },
          "base_uri": "https://localhost:8080/",
          "height": 34
        },
        "outputId": "c17e3a43-71f9-4feb-fa1a-f499ba4478ad",
        "executionInfo": {
          "status": "ok",
          "timestamp": 1533479387267,
          "user_tz": 300,
          "elapsed": 360,
          "user": {
            "displayName": "dalya adams",
            "photoUrl": "https://lh3.googleusercontent.com/a/default-user=s128",
            "userId": "101705127410802501621"
          }
        }
      },
      "cell_type": "code",
      "source": [
        "mnist_X.dtype"
      ],
      "execution_count": 5,
      "outputs": [
        {
          "output_type": "execute_result",
          "data": {
            "text/plain": [
              "dtype('float32')"
            ]
          },
          "metadata": {
            "tags": []
          },
          "execution_count": 5
        }
      ]
    },
    {
      "metadata": {
        "id": "n7sDwyWNPRvC",
        "colab_type": "code",
        "colab": {
          "autoexec": {
            "startup": false,
            "wait_interval": 0
          },
          "base_uri": "https://localhost:8080/",
          "height": 34
        },
        "outputId": "369a421c-f0fb-4af9-a4f0-c7af9b00b8b5",
        "executionInfo": {
          "status": "ok",
          "timestamp": 1533479387674,
          "user_tz": 300,
          "elapsed": 329,
          "user": {
            "displayName": "dalya adams",
            "photoUrl": "https://lh3.googleusercontent.com/a/default-user=s128",
            "userId": "101705127410802501621"
          }
        }
      },
      "cell_type": "code",
      "source": [
        "mnist_y.dtype"
      ],
      "execution_count": 6,
      "outputs": [
        {
          "output_type": "execute_result",
          "data": {
            "text/plain": [
              "dtype('uint8')"
            ]
          },
          "metadata": {
            "tags": []
          },
          "execution_count": 6
        }
      ]
    },
    {
      "metadata": {
        "id": "Bc6ah2Q2PVFS",
        "colab_type": "code",
        "colab": {
          "autoexec": {
            "startup": false,
            "wait_interval": 0
          }
        }
      },
      "cell_type": "code",
      "source": [
        "mnist_y=mnist_y.astype(int)"
      ],
      "execution_count": 0,
      "outputs": []
    },
    {
      "metadata": {
        "id": "YLGiWwRE58XS",
        "colab_type": "text"
      },
      "cell_type": "markdown",
      "source": [
        "# EDA"
      ]
    },
    {
      "metadata": {
        "id": "gxFkuV3N5P4b",
        "colab_type": "code",
        "colab": {
          "autoexec": {
            "startup": false,
            "wait_interval": 0
          },
          "base_uri": "https://localhost:8080/",
          "height": 51
        },
        "outputId": "6172c1e0-c5a7-46fe-ff8f-fbcee1a7d656",
        "executionInfo": {
          "status": "ok",
          "timestamp": 1533479390657,
          "user_tz": 300,
          "elapsed": 310,
          "user": {
            "displayName": "dalya adams",
            "photoUrl": "https://lh3.googleusercontent.com/a/default-user=s128",
            "userId": "101705127410802501621"
          }
        }
      },
      "cell_type": "code",
      "source": [
        "print('\\n Structure of explanatory variable array:', mnist_X.shape)\n",
        "print('\\n Structure of response array:', mnist_y.shape)"
      ],
      "execution_count": 8,
      "outputs": [
        {
          "output_type": "stream",
          "text": [
            "('\\n Structure of explanatory variable array:', (70000, 784))\n",
            "('\\n Structure of response array:', (70000,))\n"
          ],
          "name": "stdout"
        }
      ]
    },
    {
      "metadata": {
        "id": "dk3wRAfA5U2Z",
        "colab_type": "code",
        "colab": {
          "autoexec": {
            "startup": false,
            "wait_interval": 0
          }
        }
      },
      "cell_type": "code",
      "source": [
        "X_train, X_test, y_train, y_test = mnist_X[:60000], mnist_X[60000:], mnist_y[:60000], mnist_y[60000:]"
      ],
      "execution_count": 0,
      "outputs": []
    },
    {
      "metadata": {
        "id": "T1whjNE95WiB",
        "colab_type": "code",
        "colab": {
          "autoexec": {
            "startup": false,
            "wait_interval": 0
          }
        }
      },
      "cell_type": "code",
      "source": [
        "shuffle_index = np.random.permutation(60000)\n",
        "X_train, y_train = X_train[shuffle_index], y_train[shuffle_index]"
      ],
      "execution_count": 0,
      "outputs": []
    },
    {
      "metadata": {
        "id": "8dg6J37W5ukp",
        "colab_type": "text"
      },
      "cell_type": "markdown",
      "source": [
        "# Analysis"
      ]
    },
    {
      "metadata": {
        "id": "xaswku_V5X05",
        "colab_type": "code",
        "colab": {
          "autoexec": {
            "startup": false,
            "wait_interval": 0
          }
        }
      },
      "cell_type": "code",
      "source": [
        "#fitting a neural network to the MNIST data"
      ],
      "execution_count": 0,
      "outputs": []
    },
    {
      "metadata": {
        "id": "zyES7W8uFQ2k",
        "colab_type": "code",
        "colab": {
          "autoexec": {
            "startup": false,
            "wait_interval": 0
          },
          "base_uri": "https://localhost:8080/",
          "height": 414
        },
        "outputId": "f092b748-b33b-4eb7-e5cd-e623a055bcbc",
        "executionInfo": {
          "status": "ok",
          "timestamp": 1533479404889,
          "user_tz": 300,
          "elapsed": 730,
          "user": {
            "displayName": "dalya adams",
            "photoUrl": "https://lh3.googleusercontent.com/a/default-user=s128",
            "userId": "101705127410802501621"
          }
        }
      },
      "cell_type": "code",
      "source": [
        "config = tf.contrib.learn.RunConfig(tf_random_seed=42) # not shown in the config\n",
        "feature_cols = tf.contrib.learn.infer_real_valued_columns_from_input(X_train)"
      ],
      "execution_count": 12,
      "outputs": [
        {
          "output_type": "stream",
          "text": [
            "WARNING:tensorflow:From <ipython-input-12-8e7042282ae5>:1: __init__ (from tensorflow.contrib.learn.python.learn.estimators.run_config) is deprecated and will be removed in a future version.\n",
            "Instructions for updating:\n",
            "When switching to tf.estimator.Estimator, use tf.estimator.RunConfig instead.\n",
            "WARNING:tensorflow:From <ipython-input-12-8e7042282ae5>:2: infer_real_valued_columns_from_input (from tensorflow.contrib.learn.python.learn.estimators.estimator) is deprecated and will be removed in a future version.\n",
            "Instructions for updating:\n",
            "Please specify feature columns explicitly.\n",
            "WARNING:tensorflow:From /usr/local/lib/python2.7/dist-packages/tensorflow/contrib/learn/python/learn/estimators/estimator.py:142: setup_train_data_feeder (from tensorflow.contrib.learn.python.learn.learn_io.data_feeder) is deprecated and will be removed in a future version.\n",
            "Instructions for updating:\n",
            "Please use tensorflow/transform or tf.data.\n",
            "WARNING:tensorflow:From /usr/local/lib/python2.7/dist-packages/tensorflow/contrib/learn/python/learn/learn_io/data_feeder.py:100: extract_pandas_data (from tensorflow.contrib.learn.python.learn.learn_io.pandas_io) is deprecated and will be removed in a future version.\n",
            "Instructions for updating:\n",
            "Please access pandas data directly.\n",
            "WARNING:tensorflow:From /usr/local/lib/python2.7/dist-packages/tensorflow/contrib/learn/python/learn/learn_io/data_feeder.py:159: __init__ (from tensorflow.contrib.learn.python.learn.learn_io.data_feeder) is deprecated and will be removed in a future version.\n",
            "Instructions for updating:\n",
            "Please use tensorflow/transform or tf.data.\n",
            "WARNING:tensorflow:From /usr/local/lib/python2.7/dist-packages/tensorflow/contrib/learn/python/learn/learn_io/data_feeder.py:340: check_array (from tensorflow.contrib.learn.python.learn.learn_io.data_feeder) is deprecated and will be removed in a future version.\n",
            "Instructions for updating:\n",
            "Please convert numpy dtypes explicitly.\n",
            "WARNING:tensorflow:From /usr/local/lib/python2.7/dist-packages/tensorflow/contrib/learn/python/learn/estimators/estimator.py:182: infer_real_valued_columns_from_input_fn (from tensorflow.contrib.learn.python.learn.estimators.estimator) is deprecated and will be removed in a future version.\n",
            "Instructions for updating:\n",
            "Please specify feature columns explicitly.\n"
          ],
          "name": "stdout"
        }
      ]
    },
    {
      "metadata": {
        "id": "BYE7z7sbN__2",
        "colab_type": "code",
        "colab": {
          "autoexec": {
            "startup": false,
            "wait_interval": 0
          }
        }
      },
      "cell_type": "code",
      "source": [
        "##assess classification performance accuracy and processing time.\n",
        "\n",
        "start = time.time()\n",
        "dnn_clf = tf.contrib.learn.DNNClassifier(hidden_units=[300,100], n_classes=10,\n",
        "                                         feature_columns=feature_cols, config=config)\n",
        "dnn_clf = tf.contrib.learn.SKCompat(dnn_clf) # if TensorFlow >= 1.1\n",
        "dnn_clf.fit(X_train, y_train, batch_size=50, steps=40000)\n",
        "end = time.time()\n",
        "end-start"
      ],
      "execution_count": 0,
      "outputs": []
    },
    {
      "metadata": {
        "id": "R5EYevmfYjYZ",
        "colab_type": "code",
        "colab": {
          "autoexec": {
            "startup": false,
            "wait_interval": 0
          },
          "base_uri": "https://localhost:8080/",
          "height": 173
        },
        "outputId": "f6898528-0195-45ad-a674-e2c5aae7adf5",
        "executionInfo": {
          "status": "ok",
          "timestamp": 1533479609547,
          "user_tz": 300,
          "elapsed": 2941,
          "user": {
            "displayName": "dalya adams",
            "photoUrl": "https://lh3.googleusercontent.com/a/default-user=s128",
            "userId": "101705127410802501621"
          }
        }
      },
      "cell_type": "code",
      "source": [
        "#training accuracy\n",
        "dnn_clf.score(X_train,y_train)"
      ],
      "execution_count": 14,
      "outputs": [
        {
          "output_type": "stream",
          "text": [
            "INFO:tensorflow:Starting evaluation at 2018-08-05-14:33:27\n",
            "INFO:tensorflow:Graph was finalized.\n",
            "INFO:tensorflow:Restoring parameters from /tmp/tmp4LLzmK/model.ckpt-40000\n",
            "INFO:tensorflow:Running local_init_op.\n",
            "INFO:tensorflow:Done running local_init_op.\n",
            "INFO:tensorflow:Finished evaluation at 2018-08-05-14:33:29\n",
            "INFO:tensorflow:Saving dict for global step 40000: accuracy = 1.0, global_step = 40000, loss = 0.00048598158\n"
          ],
          "name": "stdout"
        },
        {
          "output_type": "execute_result",
          "data": {
            "text/plain": [
              "{'accuracy': 1.0, 'global_step': 40000, 'loss': 0.00048598158}"
            ]
          },
          "metadata": {
            "tags": []
          },
          "execution_count": 14
        }
      ]
    },
    {
      "metadata": {
        "id": "aSrrNO-PWgFW",
        "colab_type": "code",
        "colab": {
          "autoexec": {
            "startup": false,
            "wait_interval": 0
          },
          "base_uri": "https://localhost:8080/",
          "height": 122
        },
        "outputId": "c829981e-a577-43d9-d901-40c284608dad",
        "executionInfo": {
          "status": "ok",
          "timestamp": 1533479690174,
          "user_tz": 300,
          "elapsed": 2565,
          "user": {
            "displayName": "dalya adams",
            "photoUrl": "https://lh3.googleusercontent.com/a/default-user=s128",
            "userId": "101705127410802501621"
          }
        }
      },
      "cell_type": "code",
      "source": [
        "yt_pred = dnn_clf.predict(X_train)\n",
        "accuracy_score(y_train, yt_pred['classes'])"
      ],
      "execution_count": 15,
      "outputs": [
        {
          "output_type": "stream",
          "text": [
            "INFO:tensorflow:Graph was finalized.\n",
            "INFO:tensorflow:Restoring parameters from /tmp/tmp4LLzmK/model.ckpt-40000\n",
            "INFO:tensorflow:Running local_init_op.\n",
            "INFO:tensorflow:Done running local_init_op.\n"
          ],
          "name": "stdout"
        },
        {
          "output_type": "execute_result",
          "data": {
            "text/plain": [
              "1.0"
            ]
          },
          "metadata": {
            "tags": []
          },
          "execution_count": 15
        }
      ]
    },
    {
      "metadata": {
        "id": "WH--eykIYvWs",
        "colab_type": "code",
        "colab": {
          "autoexec": {
            "startup": false,
            "wait_interval": 0
          },
          "base_uri": "https://localhost:8080/",
          "height": 173
        },
        "outputId": "da622d57-2313-48ab-f249-0e773b78326a",
        "executionInfo": {
          "status": "ok",
          "timestamp": 1533479692581,
          "user_tz": 300,
          "elapsed": 1219,
          "user": {
            "displayName": "dalya adams",
            "photoUrl": "https://lh3.googleusercontent.com/a/default-user=s128",
            "userId": "101705127410802501621"
          }
        }
      },
      "cell_type": "code",
      "source": [
        "#test accuracy\n",
        "dnn_clf.score(X_test,y_test)"
      ],
      "execution_count": 16,
      "outputs": [
        {
          "output_type": "stream",
          "text": [
            "INFO:tensorflow:Starting evaluation at 2018-08-05-14:34:51\n",
            "INFO:tensorflow:Graph was finalized.\n",
            "INFO:tensorflow:Restoring parameters from /tmp/tmp4LLzmK/model.ckpt-40000\n",
            "INFO:tensorflow:Running local_init_op.\n",
            "INFO:tensorflow:Done running local_init_op.\n",
            "INFO:tensorflow:Finished evaluation at 2018-08-05-14:34:52\n",
            "INFO:tensorflow:Saving dict for global step 40000: accuracy = 0.9832, global_step = 40000, loss = 0.0683699\n"
          ],
          "name": "stdout"
        },
        {
          "output_type": "execute_result",
          "data": {
            "text/plain": [
              "{'accuracy': 0.9832, 'global_step': 40000, 'loss': 0.0683699}"
            ]
          },
          "metadata": {
            "tags": []
          },
          "execution_count": 16
        }
      ]
    },
    {
      "metadata": {
        "id": "9FZL8YfqF8cg",
        "colab_type": "code",
        "colab": {
          "autoexec": {
            "startup": false,
            "wait_interval": 0
          },
          "base_uri": "https://localhost:8080/",
          "height": 122
        },
        "outputId": "a908aac4-2de6-4c5b-a690-2180608a859b",
        "executionInfo": {
          "status": "ok",
          "timestamp": 1533479694713,
          "user_tz": 300,
          "elapsed": 843,
          "user": {
            "displayName": "dalya adams",
            "photoUrl": "https://lh3.googleusercontent.com/a/default-user=s128",
            "userId": "101705127410802501621"
          }
        }
      },
      "cell_type": "code",
      "source": [
        "y_pred = dnn_clf.predict(X_test)\n",
        "accuracy_score(y_test, y_pred['classes'])"
      ],
      "execution_count": 17,
      "outputs": [
        {
          "output_type": "stream",
          "text": [
            "INFO:tensorflow:Graph was finalized.\n",
            "INFO:tensorflow:Restoring parameters from /tmp/tmp4LLzmK/model.ckpt-40000\n",
            "INFO:tensorflow:Running local_init_op.\n",
            "INFO:tensorflow:Done running local_init_op.\n"
          ],
          "name": "stdout"
        },
        {
          "output_type": "execute_result",
          "data": {
            "text/plain": [
              "0.9832"
            ]
          },
          "metadata": {
            "tags": []
          },
          "execution_count": 17
        }
      ]
    },
    {
      "metadata": {
        "id": "WgviKhZR5D_B",
        "colab_type": "code",
        "colab": {
          "autoexec": {
            "startup": false,
            "wait_interval": 0
          }
        }
      },
      "cell_type": "code",
      "source": [
        "#testing alternative network structures, activation functions, optimization methods, and/or hyperparameter settings"
      ],
      "execution_count": 0,
      "outputs": []
    },
    {
      "metadata": {
        "id": "5cOZZsuG5KRy",
        "colab_type": "code",
        "colab": {
          "autoexec": {
            "startup": false,
            "wait_interval": 0
          }
        }
      },
      "cell_type": "code",
      "source": [
        "##assess classification performance accuracy and processing time.\n",
        "\n",
        "start = time.time()\n",
        "dnn_clf = tf.contrib.learn.DNNClassifier(hidden_units=[300,300], n_classes=10,\n",
        "                                         feature_columns=feature_cols, config=config)\n",
        "dnn_clf = tf.contrib.learn.SKCompat(dnn_clf) # if TensorFlow >= 1.1\n",
        "dnn_clf.fit(X_train, y_train, batch_size=50, steps=40000)\n",
        "end = time.time()\n",
        "end-start"
      ],
      "execution_count": 0,
      "outputs": []
    },
    {
      "metadata": {
        "id": "tdz4PTxJMMCV",
        "colab_type": "code",
        "colab": {
          "autoexec": {
            "startup": false,
            "wait_interval": 0
          },
          "base_uri": "https://localhost:8080/",
          "height": 173
        },
        "outputId": "3dc386de-9aed-4757-fc78-a79dcf2742d0",
        "executionInfo": {
          "status": "ok",
          "timestamp": 1533480562857,
          "user_tz": 300,
          "elapsed": 2683,
          "user": {
            "displayName": "dalya adams",
            "photoUrl": "https://lh3.googleusercontent.com/a/default-user=s128",
            "userId": "101705127410802501621"
          }
        }
      },
      "cell_type": "code",
      "source": [
        "#training accuracy\n",
        "dnn_clf.score(X_train,y_train)"
      ],
      "execution_count": 20,
      "outputs": [
        {
          "output_type": "stream",
          "text": [
            "INFO:tensorflow:Starting evaluation at 2018-08-05-14:49:20\n",
            "INFO:tensorflow:Graph was finalized.\n",
            "INFO:tensorflow:Restoring parameters from /tmp/tmpE0Q0o3/model.ckpt-40000\n",
            "INFO:tensorflow:Running local_init_op.\n",
            "INFO:tensorflow:Done running local_init_op.\n",
            "INFO:tensorflow:Finished evaluation at 2018-08-05-14:49:22\n",
            "INFO:tensorflow:Saving dict for global step 40000: accuracy = 1.0, global_step = 40000, loss = 0.00038670935\n"
          ],
          "name": "stdout"
        },
        {
          "output_type": "execute_result",
          "data": {
            "text/plain": [
              "{'accuracy': 1.0, 'global_step': 40000, 'loss': 0.00038670935}"
            ]
          },
          "metadata": {
            "tags": []
          },
          "execution_count": 20
        }
      ]
    },
    {
      "metadata": {
        "id": "9NXwlknh5SXS",
        "colab_type": "code",
        "colab": {
          "autoexec": {
            "startup": false,
            "wait_interval": 0
          },
          "base_uri": "https://localhost:8080/",
          "height": 122
        },
        "outputId": "0ce5954b-0112-4507-d535-4a15f7746b89",
        "executionInfo": {
          "status": "ok",
          "timestamp": 1533480565258,
          "user_tz": 300,
          "elapsed": 2351,
          "user": {
            "displayName": "dalya adams",
            "photoUrl": "https://lh3.googleusercontent.com/a/default-user=s128",
            "userId": "101705127410802501621"
          }
        }
      },
      "cell_type": "code",
      "source": [
        "yt_pred = dnn_clf.predict(X_train)\n",
        "accuracy_score(y_train, yt_pred['classes'])"
      ],
      "execution_count": 21,
      "outputs": [
        {
          "output_type": "stream",
          "text": [
            "INFO:tensorflow:Graph was finalized.\n",
            "INFO:tensorflow:Restoring parameters from /tmp/tmpE0Q0o3/model.ckpt-40000\n",
            "INFO:tensorflow:Running local_init_op.\n",
            "INFO:tensorflow:Done running local_init_op.\n"
          ],
          "name": "stdout"
        },
        {
          "output_type": "execute_result",
          "data": {
            "text/plain": [
              "1.0"
            ]
          },
          "metadata": {
            "tags": []
          },
          "execution_count": 21
        }
      ]
    },
    {
      "metadata": {
        "id": "X7Cqp5zf5MS6",
        "colab_type": "code",
        "colab": {
          "autoexec": {
            "startup": false,
            "wait_interval": 0
          },
          "base_uri": "https://localhost:8080/",
          "height": 173
        },
        "outputId": "dcd44ac5-97a5-4f79-c7de-9a625a2ff9c5",
        "executionInfo": {
          "status": "ok",
          "timestamp": 1533480566366,
          "user_tz": 300,
          "elapsed": 1089,
          "user": {
            "displayName": "dalya adams",
            "photoUrl": "https://lh3.googleusercontent.com/a/default-user=s128",
            "userId": "101705127410802501621"
          }
        }
      },
      "cell_type": "code",
      "source": [
        "#test accuracy\n",
        "dnn_clf.score(X_test,y_test)"
      ],
      "execution_count": 22,
      "outputs": [
        {
          "output_type": "stream",
          "text": [
            "INFO:tensorflow:Starting evaluation at 2018-08-05-14:49:25\n",
            "INFO:tensorflow:Graph was finalized.\n",
            "INFO:tensorflow:Restoring parameters from /tmp/tmpE0Q0o3/model.ckpt-40000\n",
            "INFO:tensorflow:Running local_init_op.\n",
            "INFO:tensorflow:Done running local_init_op.\n",
            "INFO:tensorflow:Finished evaluation at 2018-08-05-14:49:26\n",
            "INFO:tensorflow:Saving dict for global step 40000: accuracy = 0.9829, global_step = 40000, loss = 0.07188314\n"
          ],
          "name": "stdout"
        },
        {
          "output_type": "execute_result",
          "data": {
            "text/plain": [
              "{'accuracy': 0.9829, 'global_step': 40000, 'loss': 0.07188314}"
            ]
          },
          "metadata": {
            "tags": []
          },
          "execution_count": 22
        }
      ]
    },
    {
      "metadata": {
        "id": "grz12AQqjOPl",
        "colab_type": "code",
        "colab": {
          "autoexec": {
            "startup": false,
            "wait_interval": 0
          },
          "base_uri": "https://localhost:8080/",
          "height": 122
        },
        "outputId": "24a37e32-209f-49bf-ee8d-10e8ab51aadd",
        "executionInfo": {
          "status": "ok",
          "timestamp": 1533480567597,
          "user_tz": 300,
          "elapsed": 1216,
          "user": {
            "displayName": "dalya adams",
            "photoUrl": "https://lh3.googleusercontent.com/a/default-user=s128",
            "userId": "101705127410802501621"
          }
        }
      },
      "cell_type": "code",
      "source": [
        "y_pred = dnn_clf.predict(X_test)\n",
        "accuracy_score(y_test, y_pred['classes'])"
      ],
      "execution_count": 23,
      "outputs": [
        {
          "output_type": "stream",
          "text": [
            "INFO:tensorflow:Graph was finalized.\n",
            "INFO:tensorflow:Restoring parameters from /tmp/tmpE0Q0o3/model.ckpt-40000\n",
            "INFO:tensorflow:Running local_init_op.\n",
            "INFO:tensorflow:Done running local_init_op.\n"
          ],
          "name": "stdout"
        },
        {
          "output_type": "execute_result",
          "data": {
            "text/plain": [
              "0.9829"
            ]
          },
          "metadata": {
            "tags": []
          },
          "execution_count": 23
        }
      ]
    },
    {
      "metadata": {
        "id": "auQajqrRjSQ3",
        "colab_type": "text"
      },
      "cell_type": "markdown",
      "source": [
        "# layers with 100 nodes each"
      ]
    },
    {
      "metadata": {
        "id": "BeYR5r6djOZ5",
        "colab_type": "code",
        "colab": {
          "autoexec": {
            "startup": false,
            "wait_interval": 0
          }
        }
      },
      "cell_type": "code",
      "source": [
        "##assess classification performance accuracy and processing time.\n",
        "\n",
        "start = time.time()\n",
        "dnn_clf = tf.contrib.learn.DNNClassifier(hidden_units=[100,100,100], n_classes=10,\n",
        "                                         feature_columns=feature_cols, config=config)\n",
        "dnn_clf = tf.contrib.learn.SKCompat(dnn_clf) # if TensorFlow >= 1.1\n",
        "dnn_clf.fit(X_train, y_train, batch_size=50, steps=40000)\n",
        "end = time.time()\n",
        "end-start"
      ],
      "execution_count": 0,
      "outputs": []
    },
    {
      "metadata": {
        "id": "SR7bLWLYjOk1",
        "colab_type": "code",
        "colab": {
          "autoexec": {
            "startup": false,
            "wait_interval": 0
          },
          "base_uri": "https://localhost:8080/",
          "height": 173
        },
        "outputId": "0664aeb8-abc4-4f09-9d82-d357a096d2f7",
        "executionInfo": {
          "status": "ok",
          "timestamp": 1533480733966,
          "user_tz": 300,
          "elapsed": 2107,
          "user": {
            "displayName": "dalya adams",
            "photoUrl": "https://lh3.googleusercontent.com/a/default-user=s128",
            "userId": "101705127410802501621"
          }
        }
      },
      "cell_type": "code",
      "source": [
        "#training accuracy\n",
        "dnn_clf.score(X_train,y_train)"
      ],
      "execution_count": 25,
      "outputs": [
        {
          "output_type": "stream",
          "text": [
            "INFO:tensorflow:Starting evaluation at 2018-08-05-14:52:12\n",
            "INFO:tensorflow:Graph was finalized.\n",
            "INFO:tensorflow:Restoring parameters from /tmp/tmpxqoc2C/model.ckpt-40000\n",
            "INFO:tensorflow:Running local_init_op.\n",
            "INFO:tensorflow:Done running local_init_op.\n",
            "INFO:tensorflow:Finished evaluation at 2018-08-05-14:52:13\n",
            "INFO:tensorflow:Saving dict for global step 40000: accuracy = 1.0, global_step = 40000, loss = 0.0002791477\n"
          ],
          "name": "stdout"
        },
        {
          "output_type": "execute_result",
          "data": {
            "text/plain": [
              "{'accuracy': 1.0, 'global_step': 40000, 'loss': 0.0002791477}"
            ]
          },
          "metadata": {
            "tags": []
          },
          "execution_count": 25
        }
      ]
    },
    {
      "metadata": {
        "id": "5QwWrFGdkZOi",
        "colab_type": "code",
        "colab": {
          "autoexec": {
            "startup": false,
            "wait_interval": 0
          },
          "base_uri": "https://localhost:8080/",
          "height": 122
        },
        "outputId": "b7ea4e4e-4128-497a-f771-44799f5ee2d1",
        "executionInfo": {
          "status": "ok",
          "timestamp": 1533480735788,
          "user_tz": 300,
          "elapsed": 1786,
          "user": {
            "displayName": "dalya adams",
            "photoUrl": "https://lh3.googleusercontent.com/a/default-user=s128",
            "userId": "101705127410802501621"
          }
        }
      },
      "cell_type": "code",
      "source": [
        "yt_pred = dnn_clf.predict(X_train)\n",
        "accuracy_score(y_train, yt_pred['classes'])"
      ],
      "execution_count": 26,
      "outputs": [
        {
          "output_type": "stream",
          "text": [
            "INFO:tensorflow:Graph was finalized.\n",
            "INFO:tensorflow:Restoring parameters from /tmp/tmpxqoc2C/model.ckpt-40000\n",
            "INFO:tensorflow:Running local_init_op.\n",
            "INFO:tensorflow:Done running local_init_op.\n"
          ],
          "name": "stdout"
        },
        {
          "output_type": "execute_result",
          "data": {
            "text/plain": [
              "1.0"
            ]
          },
          "metadata": {
            "tags": []
          },
          "execution_count": 26
        }
      ]
    },
    {
      "metadata": {
        "id": "21rMT2iTkZWF",
        "colab_type": "code",
        "colab": {
          "autoexec": {
            "startup": false,
            "wait_interval": 0
          },
          "base_uri": "https://localhost:8080/",
          "height": 173
        },
        "outputId": "1cd98979-11fb-4295-bc69-a1b8964f74b1",
        "executionInfo": {
          "status": "ok",
          "timestamp": 1533480736816,
          "user_tz": 300,
          "elapsed": 999,
          "user": {
            "displayName": "dalya adams",
            "photoUrl": "https://lh3.googleusercontent.com/a/default-user=s128",
            "userId": "101705127410802501621"
          }
        }
      },
      "cell_type": "code",
      "source": [
        "#test accuracy\n",
        "dnn_clf.score(X_test,y_test)"
      ],
      "execution_count": 27,
      "outputs": [
        {
          "output_type": "stream",
          "text": [
            "INFO:tensorflow:Starting evaluation at 2018-08-05-14:52:16\n",
            "INFO:tensorflow:Graph was finalized.\n",
            "INFO:tensorflow:Restoring parameters from /tmp/tmpxqoc2C/model.ckpt-40000\n",
            "INFO:tensorflow:Running local_init_op.\n",
            "INFO:tensorflow:Done running local_init_op.\n",
            "INFO:tensorflow:Finished evaluation at 2018-08-05-14:52:16\n",
            "INFO:tensorflow:Saving dict for global step 40000: accuracy = 0.9815, global_step = 40000, loss = 0.1004074\n"
          ],
          "name": "stdout"
        },
        {
          "output_type": "execute_result",
          "data": {
            "text/plain": [
              "{'accuracy': 0.9815, 'global_step': 40000, 'loss': 0.1004074}"
            ]
          },
          "metadata": {
            "tags": []
          },
          "execution_count": 27
        }
      ]
    },
    {
      "metadata": {
        "id": "ZjJ_gwgMkZZc",
        "colab_type": "code",
        "colab": {
          "autoexec": {
            "startup": false,
            "wait_interval": 0
          },
          "base_uri": "https://localhost:8080/",
          "height": 122
        },
        "outputId": "d6bb1525-c720-414f-803e-eeb4fd197d7a",
        "executionInfo": {
          "status": "ok",
          "timestamp": 1533480737742,
          "user_tz": 300,
          "elapsed": 884,
          "user": {
            "displayName": "dalya adams",
            "photoUrl": "https://lh3.googleusercontent.com/a/default-user=s128",
            "userId": "101705127410802501621"
          }
        }
      },
      "cell_type": "code",
      "source": [
        "y_pred = dnn_clf.predict(X_test)\n",
        "accuracy_score(y_test, y_pred['classes'])"
      ],
      "execution_count": 28,
      "outputs": [
        {
          "output_type": "stream",
          "text": [
            "INFO:tensorflow:Graph was finalized.\n",
            "INFO:tensorflow:Restoring parameters from /tmp/tmpxqoc2C/model.ckpt-40000\n",
            "INFO:tensorflow:Running local_init_op.\n",
            "INFO:tensorflow:Done running local_init_op.\n"
          ],
          "name": "stdout"
        },
        {
          "output_type": "execute_result",
          "data": {
            "text/plain": [
              "0.9815"
            ]
          },
          "metadata": {
            "tags": []
          },
          "execution_count": 28
        }
      ]
    },
    {
      "metadata": {
        "id": "PTVDaAAgkpod",
        "colab_type": "text"
      },
      "cell_type": "markdown",
      "source": [
        "4 layers with 500,300,100,50 nodes"
      ]
    },
    {
      "metadata": {
        "id": "hgqyErcmkZcm",
        "colab_type": "code",
        "colab": {
          "autoexec": {
            "startup": false,
            "wait_interval": 0
          }
        }
      },
      "cell_type": "code",
      "source": [
        "##assess classification performance accuracy and processing time.\n",
        "\n",
        "start = time.time()\n",
        "dnn_clf = tf.contrib.learn.DNNClassifier(hidden_units=[500,300,100,50], n_classes=10,\n",
        "                                         feature_columns=feature_cols, config=config)\n",
        "dnn_clf = tf.contrib.learn.SKCompat(dnn_clf) # if TensorFlow >= 1.1\n",
        "dnn_clf.fit(X_train, y_train, batch_size=50, steps=40000)\n",
        "end = time.time()\n",
        "end-start"
      ],
      "execution_count": 0,
      "outputs": []
    },
    {
      "metadata": {
        "id": "k_0c3sNBkZf-",
        "colab_type": "code",
        "colab": {
          "autoexec": {
            "startup": false,
            "wait_interval": 0
          },
          "base_uri": "https://localhost:8080/",
          "height": 173
        },
        "outputId": "30a3efe8-4c50-4c28-a232-f656f302a73a",
        "executionInfo": {
          "status": "ok",
          "timestamp": 1533481149403,
          "user_tz": 300,
          "elapsed": 4040,
          "user": {
            "displayName": "dalya adams",
            "photoUrl": "https://lh3.googleusercontent.com/a/default-user=s128",
            "userId": "101705127410802501621"
          }
        }
      },
      "cell_type": "code",
      "source": [
        "#training accuracy\n",
        "dnn_clf.score(X_train,y_train)"
      ],
      "execution_count": 30,
      "outputs": [
        {
          "output_type": "stream",
          "text": [
            "INFO:tensorflow:Starting evaluation at 2018-08-05-14:59:06\n",
            "INFO:tensorflow:Graph was finalized.\n",
            "INFO:tensorflow:Restoring parameters from /tmp/tmp9_gzGa/model.ckpt-40000\n",
            "INFO:tensorflow:Running local_init_op.\n",
            "INFO:tensorflow:Done running local_init_op.\n",
            "INFO:tensorflow:Finished evaluation at 2018-08-05-14:59:08\n",
            "INFO:tensorflow:Saving dict for global step 40000: accuracy = 1.0, global_step = 40000, loss = 4.4731372e-05\n"
          ],
          "name": "stdout"
        },
        {
          "output_type": "execute_result",
          "data": {
            "text/plain": [
              "{'accuracy': 1.0, 'global_step': 40000, 'loss': 4.4731372e-05}"
            ]
          },
          "metadata": {
            "tags": []
          },
          "execution_count": 30
        }
      ]
    },
    {
      "metadata": {
        "id": "oA7bOZOck5J0",
        "colab_type": "code",
        "colab": {
          "autoexec": {
            "startup": false,
            "wait_interval": 0
          },
          "base_uri": "https://localhost:8080/",
          "height": 122
        },
        "outputId": "5e81b328-f718-4d08-a335-fe43dfa37da9",
        "executionInfo": {
          "status": "ok",
          "timestamp": 1533481152730,
          "user_tz": 300,
          "elapsed": 3291,
          "user": {
            "displayName": "dalya adams",
            "photoUrl": "https://lh3.googleusercontent.com/a/default-user=s128",
            "userId": "101705127410802501621"
          }
        }
      },
      "cell_type": "code",
      "source": [
        "yt_pred = dnn_clf.predict(X_train)\n",
        "accuracy_score(y_train, yt_pred['classes'])"
      ],
      "execution_count": 31,
      "outputs": [
        {
          "output_type": "stream",
          "text": [
            "INFO:tensorflow:Graph was finalized.\n",
            "INFO:tensorflow:Restoring parameters from /tmp/tmp9_gzGa/model.ckpt-40000\n",
            "INFO:tensorflow:Running local_init_op.\n",
            "INFO:tensorflow:Done running local_init_op.\n"
          ],
          "name": "stdout"
        },
        {
          "output_type": "execute_result",
          "data": {
            "text/plain": [
              "1.0"
            ]
          },
          "metadata": {
            "tags": []
          },
          "execution_count": 31
        }
      ]
    },
    {
      "metadata": {
        "id": "MiE44bJ_k5SH",
        "colab_type": "code",
        "colab": {
          "autoexec": {
            "startup": false,
            "wait_interval": 0
          },
          "base_uri": "https://localhost:8080/",
          "height": 173
        },
        "outputId": "d614be79-df3f-4164-9019-85c4292a4521",
        "executionInfo": {
          "status": "ok",
          "timestamp": 1533481154105,
          "user_tz": 300,
          "elapsed": 1346,
          "user": {
            "displayName": "dalya adams",
            "photoUrl": "https://lh3.googleusercontent.com/a/default-user=s128",
            "userId": "101705127410802501621"
          }
        }
      },
      "cell_type": "code",
      "source": [
        "#test accuracy\n",
        "dnn_clf.score(X_test,y_test)"
      ],
      "execution_count": 32,
      "outputs": [
        {
          "output_type": "stream",
          "text": [
            "INFO:tensorflow:Starting evaluation at 2018-08-05-14:59:13\n",
            "INFO:tensorflow:Graph was finalized.\n",
            "INFO:tensorflow:Restoring parameters from /tmp/tmp9_gzGa/model.ckpt-40000\n",
            "INFO:tensorflow:Running local_init_op.\n",
            "INFO:tensorflow:Done running local_init_op.\n",
            "INFO:tensorflow:Finished evaluation at 2018-08-05-14:59:13\n",
            "INFO:tensorflow:Saving dict for global step 40000: accuracy = 0.9846, global_step = 40000, loss = 0.08410017\n"
          ],
          "name": "stdout"
        },
        {
          "output_type": "execute_result",
          "data": {
            "text/plain": [
              "{'accuracy': 0.9846, 'global_step': 40000, 'loss': 0.08410017}"
            ]
          },
          "metadata": {
            "tags": []
          },
          "execution_count": 32
        }
      ]
    },
    {
      "metadata": {
        "id": "amuLby6rkZjP",
        "colab_type": "code",
        "colab": {
          "autoexec": {
            "startup": false,
            "wait_interval": 0
          },
          "base_uri": "https://localhost:8080/",
          "height": 122
        },
        "outputId": "ecb7b691-fd12-4c42-8a5a-cfdd7e4c8740",
        "executionInfo": {
          "status": "ok",
          "timestamp": 1533481155671,
          "user_tz": 300,
          "elapsed": 1538,
          "user": {
            "displayName": "dalya adams",
            "photoUrl": "https://lh3.googleusercontent.com/a/default-user=s128",
            "userId": "101705127410802501621"
          }
        }
      },
      "cell_type": "code",
      "source": [
        "y_pred = dnn_clf.predict(X_test)\n",
        "accuracy_score(y_test, y_pred['classes'])"
      ],
      "execution_count": 33,
      "outputs": [
        {
          "output_type": "stream",
          "text": [
            "INFO:tensorflow:Graph was finalized.\n",
            "INFO:tensorflow:Restoring parameters from /tmp/tmp9_gzGa/model.ckpt-40000\n",
            "INFO:tensorflow:Running local_init_op.\n",
            "INFO:tensorflow:Done running local_init_op.\n"
          ],
          "name": "stdout"
        },
        {
          "output_type": "execute_result",
          "data": {
            "text/plain": [
              "0.9846"
            ]
          },
          "metadata": {
            "tags": []
          },
          "execution_count": 33
        }
      ]
    },
    {
      "metadata": {
        "id": "bOhQ9qJi5ODa",
        "colab_type": "code",
        "colab": {
          "autoexec": {
            "startup": false,
            "wait_interval": 0
          }
        }
      },
      "cell_type": "code",
      "source": [
        "#try all of this with scaled data"
      ],
      "execution_count": 0,
      "outputs": []
    },
    {
      "metadata": {
        "id": "DgjNhwRrFrcj",
        "colab_type": "code",
        "colab": {
          "autoexec": {
            "startup": false,
            "wait_interval": 0
          }
        }
      },
      "cell_type": "code",
      "source": [
        "#try a different scaling method to see if that works\n",
        "#MinMaxScaler\n",
        "from sklearn.preprocessing import MinMaxScaler"
      ],
      "execution_count": 0,
      "outputs": []
    },
    {
      "metadata": {
        "id": "FSn_lxsYmXNg",
        "colab_type": "code",
        "colab": {
          "autoexec": {
            "startup": false,
            "wait_interval": 0
          }
        }
      },
      "cell_type": "code",
      "source": [
        "#Lets standardize prior to PCA and PCA on training set\n",
        "mscaler=MinMaxScaler()\n",
        "#X_scale=scaler.fit_transform(X)\n",
        "mscaler.fit(X_train)\n",
        "X_train_mscaled=mscaler.transform(X_train)\n",
        "X_test_mscaled=mscaler.transform(X_test)"
      ],
      "execution_count": 0,
      "outputs": []
    },
    {
      "metadata": {
        "id": "DEBB9Ahimomi",
        "colab_type": "code",
        "colab": {
          "autoexec": {
            "startup": false,
            "wait_interval": 0
          },
          "base_uri": "https://localhost:8080/",
          "height": 13841
        },
        "outputId": "7e90d39f-b43f-448e-e1d7-d86505fd8811",
        "executionInfo": {
          "status": "ok",
          "timestamp": 1533481430769,
          "user_tz": 300,
          "elapsed": 157875,
          "user": {
            "displayName": "dalya adams",
            "photoUrl": "https://lh3.googleusercontent.com/a/default-user=s128",
            "userId": "101705127410802501621"
          }
        }
      },
      "cell_type": "code",
      "source": [
        "##assess classification performance accuracy and processing time.\n",
        "\n",
        "start = time.time()\n",
        "dnn_clf = tf.contrib.learn.DNNClassifier(hidden_units=[300,100], n_classes=10,\n",
        "                                         feature_columns=feature_cols, config=config)\n",
        "dnn_clf = tf.contrib.learn.SKCompat(dnn_clf) # if TensorFlow >= 1.1\n",
        "dnn_clf.fit(X_train_mscaled, y_train, batch_size=50, steps=40000)\n",
        "end = time.time()\n",
        "end-start"
      ],
      "execution_count": 37,
      "outputs": [
        {
          "output_type": "stream",
          "text": [
            "WARNING:tensorflow:Using temporary folder as model directory: /tmp/tmpJfpoIn\n",
            "INFO:tensorflow:Using config: {'_save_checkpoints_secs': 600, '_num_ps_replicas': 0, '_keep_checkpoint_max': 5, '_task_type': None, '_train_distribute': None, '_is_chief': True, '_cluster_spec': <tensorflow.python.training.server_lib.ClusterSpec object at 0x7f435dc74610>, '_model_dir': '/tmp/tmpJfpoIn', '_save_checkpoints_steps': None, '_keep_checkpoint_every_n_hours': 10000, '_session_config': None, '_tf_random_seed': 42, '_save_summary_steps': 100, '_device_fn': None, '_num_worker_replicas': 0, '_task_id': 0, '_log_step_count_steps': 100, '_tf_config': gpu_options {\n",
            "  per_process_gpu_memory_fraction: 1.0\n",
            "}\n",
            ", '_evaluation_master': '', '_environment': 'local', '_master': ''}\n",
            "INFO:tensorflow:Create CheckpointSaverHook.\n",
            "INFO:tensorflow:Graph was finalized.\n",
            "INFO:tensorflow:Running local_init_op.\n",
            "INFO:tensorflow:Done running local_init_op.\n",
            "INFO:tensorflow:Saving checkpoints for 0 into /tmp/tmpJfpoIn/model.ckpt.\n",
            "INFO:tensorflow:loss = 2.311769, step = 1\n",
            "INFO:tensorflow:global_step/sec: 205.058\n",
            "INFO:tensorflow:loss = 0.2601617, step = 101 (0.491 sec)\n",
            "INFO:tensorflow:global_step/sec: 227.138\n",
            "INFO:tensorflow:loss = 0.4645314, step = 201 (0.443 sec)\n",
            "INFO:tensorflow:global_step/sec: 258.624\n",
            "INFO:tensorflow:loss = 0.3260149, step = 301 (0.385 sec)\n",
            "INFO:tensorflow:global_step/sec: 258.112\n",
            "INFO:tensorflow:loss = 0.27174014, step = 401 (0.388 sec)\n",
            "INFO:tensorflow:global_step/sec: 272.364\n",
            "INFO:tensorflow:loss = 0.252656, step = 501 (0.368 sec)\n",
            "INFO:tensorflow:global_step/sec: 278.487\n",
            "INFO:tensorflow:loss = 0.2080909, step = 601 (0.355 sec)\n",
            "INFO:tensorflow:global_step/sec: 285.067\n",
            "INFO:tensorflow:loss = 0.16730641, step = 701 (0.351 sec)\n",
            "INFO:tensorflow:global_step/sec: 281.937\n",
            "INFO:tensorflow:loss = 0.23582105, step = 801 (0.355 sec)\n",
            "INFO:tensorflow:global_step/sec: 275.8\n",
            "INFO:tensorflow:loss = 0.15163314, step = 901 (0.365 sec)\n",
            "INFO:tensorflow:global_step/sec: 278.023\n",
            "INFO:tensorflow:loss = 0.20076409, step = 1001 (0.361 sec)\n",
            "INFO:tensorflow:global_step/sec: 283.657\n",
            "INFO:tensorflow:loss = 0.11883065, step = 1101 (0.348 sec)\n",
            "INFO:tensorflow:global_step/sec: 278.708\n",
            "INFO:tensorflow:loss = 0.046262447, step = 1201 (0.362 sec)\n",
            "INFO:tensorflow:global_step/sec: 272.259\n",
            "INFO:tensorflow:loss = 0.07769495, step = 1301 (0.365 sec)\n",
            "INFO:tensorflow:global_step/sec: 260.318\n",
            "INFO:tensorflow:loss = 0.12347133, step = 1401 (0.387 sec)\n",
            "INFO:tensorflow:global_step/sec: 234.743\n",
            "INFO:tensorflow:loss = 0.050554834, step = 1501 (0.422 sec)\n",
            "INFO:tensorflow:global_step/sec: 233.63\n",
            "INFO:tensorflow:loss = 0.058576908, step = 1601 (0.432 sec)\n",
            "INFO:tensorflow:global_step/sec: 238.75\n",
            "INFO:tensorflow:loss = 0.059951793, step = 1701 (0.417 sec)\n",
            "INFO:tensorflow:global_step/sec: 242.254\n",
            "INFO:tensorflow:loss = 0.10088771, step = 1801 (0.412 sec)\n",
            "INFO:tensorflow:global_step/sec: 238.762\n",
            "INFO:tensorflow:loss = 0.022952141, step = 1901 (0.420 sec)\n",
            "INFO:tensorflow:global_step/sec: 239.401\n",
            "INFO:tensorflow:loss = 0.1127536, step = 2001 (0.416 sec)\n",
            "INFO:tensorflow:global_step/sec: 241.981\n",
            "INFO:tensorflow:loss = 0.01375006, step = 2101 (0.416 sec)\n",
            "INFO:tensorflow:global_step/sec: 247.327\n"
          ],
          "name": "stdout"
        },
        {
          "output_type": "stream",
          "text": [
            "INFO:tensorflow:loss = 0.062025677, step = 2201 (0.405 sec)\n",
            "INFO:tensorflow:global_step/sec: 238.422\n",
            "INFO:tensorflow:loss = 0.0817397, step = 2301 (0.419 sec)\n",
            "INFO:tensorflow:global_step/sec: 237.417\n",
            "INFO:tensorflow:loss = 0.042997524, step = 2401 (0.421 sec)\n",
            "INFO:tensorflow:global_step/sec: 238.023\n",
            "INFO:tensorflow:loss = 0.0386536, step = 2501 (0.421 sec)\n",
            "INFO:tensorflow:global_step/sec: 218.524\n",
            "INFO:tensorflow:loss = 0.11867508, step = 2601 (0.458 sec)\n",
            "INFO:tensorflow:global_step/sec: 235.517\n",
            "INFO:tensorflow:loss = 0.0832029, step = 2701 (0.424 sec)\n",
            "INFO:tensorflow:global_step/sec: 240.705\n",
            "INFO:tensorflow:loss = 0.04444643, step = 2801 (0.414 sec)\n",
            "INFO:tensorflow:global_step/sec: 243.482\n",
            "INFO:tensorflow:loss = 0.032744445, step = 2901 (0.413 sec)\n",
            "INFO:tensorflow:global_step/sec: 247.903\n",
            "INFO:tensorflow:loss = 0.04564888, step = 3001 (0.400 sec)\n",
            "INFO:tensorflow:global_step/sec: 252.255\n",
            "INFO:tensorflow:loss = 0.06318544, step = 3101 (0.397 sec)\n",
            "INFO:tensorflow:global_step/sec: 250.684\n",
            "INFO:tensorflow:loss = 0.08133779, step = 3201 (0.400 sec)\n",
            "INFO:tensorflow:global_step/sec: 251.09\n",
            "INFO:tensorflow:loss = 0.01281834, step = 3301 (0.397 sec)\n",
            "INFO:tensorflow:global_step/sec: 249.76\n",
            "INFO:tensorflow:loss = 0.056227747, step = 3401 (0.401 sec)\n",
            "INFO:tensorflow:global_step/sec: 257.156\n",
            "INFO:tensorflow:loss = 0.03517636, step = 3501 (0.387 sec)\n",
            "INFO:tensorflow:global_step/sec: 256.985\n",
            "INFO:tensorflow:loss = 0.032950666, step = 3601 (0.391 sec)\n",
            "INFO:tensorflow:global_step/sec: 256.602\n",
            "INFO:tensorflow:loss = 0.011337034, step = 3701 (0.389 sec)\n",
            "INFO:tensorflow:global_step/sec: 251.67\n",
            "INFO:tensorflow:loss = 0.017297653, step = 3801 (0.399 sec)\n",
            "INFO:tensorflow:global_step/sec: 251.87\n",
            "INFO:tensorflow:loss = 0.03413593, step = 3901 (0.394 sec)\n",
            "INFO:tensorflow:global_step/sec: 275.637\n",
            "INFO:tensorflow:loss = 0.016341735, step = 4001 (0.363 sec)\n",
            "INFO:tensorflow:global_step/sec: 274.27\n",
            "INFO:tensorflow:loss = 0.047950733, step = 4101 (0.365 sec)\n",
            "INFO:tensorflow:global_step/sec: 262.211\n",
            "INFO:tensorflow:loss = 0.021604149, step = 4201 (0.384 sec)\n",
            "INFO:tensorflow:global_step/sec: 262.173\n",
            "INFO:tensorflow:loss = 0.019742804, step = 4301 (0.381 sec)\n",
            "INFO:tensorflow:global_step/sec: 259.523\n",
            "INFO:tensorflow:loss = 0.0030672594, step = 4401 (0.386 sec)\n",
            "INFO:tensorflow:global_step/sec: 265.513\n",
            "INFO:tensorflow:loss = 0.034867987, step = 4501 (0.374 sec)\n",
            "INFO:tensorflow:global_step/sec: 258.582\n",
            "INFO:tensorflow:loss = 0.011588454, step = 4601 (0.387 sec)\n",
            "INFO:tensorflow:global_step/sec: 253.862\n",
            "INFO:tensorflow:loss = 0.004314192, step = 4701 (0.393 sec)\n",
            "INFO:tensorflow:global_step/sec: 249.079\n",
            "INFO:tensorflow:loss = 0.012498524, step = 4801 (0.404 sec)\n",
            "INFO:tensorflow:global_step/sec: 246.052\n",
            "INFO:tensorflow:loss = 0.006209823, step = 4901 (0.404 sec)\n",
            "INFO:tensorflow:global_step/sec: 251.136\n",
            "INFO:tensorflow:loss = 0.01277142, step = 5001 (0.401 sec)\n",
            "INFO:tensorflow:global_step/sec: 245.729\n",
            "INFO:tensorflow:loss = 0.013958548, step = 5101 (0.404 sec)\n",
            "INFO:tensorflow:global_step/sec: 241.547\n",
            "INFO:tensorflow:loss = 0.014074507, step = 5201 (0.415 sec)\n",
            "INFO:tensorflow:global_step/sec: 244.282\n"
          ],
          "name": "stdout"
        },
        {
          "output_type": "stream",
          "text": [
            "INFO:tensorflow:loss = 0.020817934, step = 5301 (0.409 sec)\n",
            "INFO:tensorflow:global_step/sec: 255.021\n",
            "INFO:tensorflow:loss = 0.11988892, step = 5401 (0.392 sec)\n",
            "INFO:tensorflow:global_step/sec: 260.243\n",
            "INFO:tensorflow:loss = 0.02064723, step = 5501 (0.385 sec)\n",
            "INFO:tensorflow:global_step/sec: 295.852\n",
            "INFO:tensorflow:loss = 0.004703219, step = 5601 (0.340 sec)\n",
            "INFO:tensorflow:global_step/sec: 294.348\n",
            "INFO:tensorflow:loss = 0.011123795, step = 5701 (0.337 sec)\n",
            "INFO:tensorflow:global_step/sec: 313.478\n",
            "INFO:tensorflow:loss = 0.09007611, step = 5801 (0.322 sec)\n",
            "INFO:tensorflow:global_step/sec: 310.413\n",
            "INFO:tensorflow:loss = 0.07978357, step = 5901 (0.320 sec)\n",
            "INFO:tensorflow:global_step/sec: 293.321\n",
            "INFO:tensorflow:loss = 0.030832144, step = 6001 (0.344 sec)\n",
            "INFO:tensorflow:global_step/sec: 296.573\n",
            "INFO:tensorflow:loss = 0.033288397, step = 6101 (0.338 sec)\n",
            "INFO:tensorflow:global_step/sec: 289.267\n",
            "INFO:tensorflow:loss = 0.015925495, step = 6201 (0.343 sec)\n",
            "INFO:tensorflow:global_step/sec: 279.519\n",
            "INFO:tensorflow:loss = 0.009373075, step = 6301 (0.357 sec)\n",
            "INFO:tensorflow:global_step/sec: 285.704\n",
            "INFO:tensorflow:loss = 0.030138725, step = 6401 (0.351 sec)\n",
            "INFO:tensorflow:global_step/sec: 280.089\n",
            "INFO:tensorflow:loss = 0.05617758, step = 6501 (0.358 sec)\n",
            "INFO:tensorflow:global_step/sec: 291.822\n",
            "INFO:tensorflow:loss = 0.009851646, step = 6601 (0.343 sec)\n",
            "INFO:tensorflow:global_step/sec: 306.002\n",
            "INFO:tensorflow:loss = 0.028617542, step = 6701 (0.327 sec)\n",
            "INFO:tensorflow:global_step/sec: 276.508\n",
            "INFO:tensorflow:loss = 0.0039387895, step = 6801 (0.360 sec)\n",
            "INFO:tensorflow:global_step/sec: 256.207\n",
            "INFO:tensorflow:loss = 0.045602676, step = 6901 (0.391 sec)\n",
            "INFO:tensorflow:global_step/sec: 259.991\n",
            "INFO:tensorflow:loss = 0.02778192, step = 7001 (0.384 sec)\n",
            "INFO:tensorflow:global_step/sec: 253.169\n",
            "INFO:tensorflow:loss = 0.037896704, step = 7101 (0.395 sec)\n",
            "INFO:tensorflow:global_step/sec: 246.136\n",
            "INFO:tensorflow:loss = 0.008359716, step = 7201 (0.409 sec)\n",
            "INFO:tensorflow:global_step/sec: 253.057\n",
            "INFO:tensorflow:loss = 0.017308854, step = 7301 (0.392 sec)\n",
            "INFO:tensorflow:global_step/sec: 255.726\n",
            "INFO:tensorflow:loss = 0.0147276195, step = 7401 (0.392 sec)\n",
            "INFO:tensorflow:global_step/sec: 260.024\n",
            "INFO:tensorflow:loss = 0.013854439, step = 7501 (0.384 sec)\n",
            "INFO:tensorflow:global_step/sec: 253.183\n",
            "INFO:tensorflow:loss = 0.008805776, step = 7601 (0.396 sec)\n",
            "INFO:tensorflow:global_step/sec: 242.329\n",
            "INFO:tensorflow:loss = 0.009765515, step = 7701 (0.415 sec)\n",
            "INFO:tensorflow:global_step/sec: 245.029\n",
            "INFO:tensorflow:loss = 0.009428085, step = 7801 (0.406 sec)\n",
            "INFO:tensorflow:global_step/sec: 243.705\n",
            "INFO:tensorflow:loss = 0.018842656, step = 7901 (0.410 sec)\n",
            "INFO:tensorflow:global_step/sec: 251.715\n",
            "INFO:tensorflow:loss = 0.004524568, step = 8001 (0.397 sec)\n",
            "INFO:tensorflow:global_step/sec: 244.49\n",
            "INFO:tensorflow:loss = 0.02319123, step = 8101 (0.410 sec)\n",
            "INFO:tensorflow:global_step/sec: 257.351\n",
            "INFO:tensorflow:loss = 0.023632798, step = 8201 (0.389 sec)\n",
            "INFO:tensorflow:global_step/sec: 245.829\n",
            "INFO:tensorflow:loss = 0.002076506, step = 8301 (0.407 sec)\n",
            "INFO:tensorflow:global_step/sec: 249.321\n"
          ],
          "name": "stdout"
        },
        {
          "output_type": "stream",
          "text": [
            "INFO:tensorflow:loss = 0.0030981686, step = 8401 (0.404 sec)\n",
            "INFO:tensorflow:global_step/sec: 245.909\n",
            "INFO:tensorflow:loss = 0.04464214, step = 8501 (0.403 sec)\n",
            "INFO:tensorflow:global_step/sec: 249.281\n",
            "INFO:tensorflow:loss = 0.026176054, step = 8601 (0.401 sec)\n",
            "INFO:tensorflow:global_step/sec: 251.231\n",
            "INFO:tensorflow:loss = 0.006545673, step = 8701 (0.398 sec)\n",
            "INFO:tensorflow:global_step/sec: 253.859\n",
            "INFO:tensorflow:loss = 0.004882335, step = 8801 (0.395 sec)\n",
            "INFO:tensorflow:global_step/sec: 252.219\n",
            "INFO:tensorflow:loss = 0.0017491174, step = 8901 (0.398 sec)\n",
            "INFO:tensorflow:global_step/sec: 245.795\n",
            "INFO:tensorflow:loss = 0.009426334, step = 9001 (0.404 sec)\n",
            "INFO:tensorflow:global_step/sec: 242.911\n",
            "INFO:tensorflow:loss = 0.006284533, step = 9101 (0.414 sec)\n",
            "INFO:tensorflow:global_step/sec: 240.947\n",
            "INFO:tensorflow:loss = 0.025789212, step = 9201 (0.413 sec)\n",
            "INFO:tensorflow:global_step/sec: 250.578\n",
            "INFO:tensorflow:loss = 0.008820767, step = 9301 (0.399 sec)\n",
            "INFO:tensorflow:global_step/sec: 250.074\n",
            "INFO:tensorflow:loss = 0.006436615, step = 9401 (0.400 sec)\n",
            "INFO:tensorflow:global_step/sec: 292.555\n",
            "INFO:tensorflow:loss = 0.003584451, step = 9501 (0.342 sec)\n",
            "INFO:tensorflow:global_step/sec: 250.222\n",
            "INFO:tensorflow:loss = 0.0039689927, step = 9601 (0.401 sec)\n",
            "INFO:tensorflow:global_step/sec: 245.447\n",
            "INFO:tensorflow:loss = 0.005720086, step = 9701 (0.411 sec)\n",
            "INFO:tensorflow:global_step/sec: 247.493\n",
            "INFO:tensorflow:loss = 0.004988228, step = 9801 (0.404 sec)\n",
            "INFO:tensorflow:global_step/sec: 242.193\n",
            "INFO:tensorflow:loss = 0.0026836367, step = 9901 (0.409 sec)\n",
            "INFO:tensorflow:global_step/sec: 248.136\n",
            "INFO:tensorflow:loss = 0.0075481473, step = 10001 (0.403 sec)\n",
            "INFO:tensorflow:global_step/sec: 245.419\n",
            "INFO:tensorflow:loss = 0.0015180542, step = 10101 (0.408 sec)\n",
            "INFO:tensorflow:global_step/sec: 238.738\n",
            "INFO:tensorflow:loss = 0.0042061326, step = 10201 (0.421 sec)\n",
            "INFO:tensorflow:global_step/sec: 229.664\n",
            "INFO:tensorflow:loss = 0.004085864, step = 10301 (0.432 sec)\n",
            "INFO:tensorflow:global_step/sec: 232.793\n",
            "INFO:tensorflow:loss = 0.0034468109, step = 10401 (0.432 sec)\n",
            "INFO:tensorflow:global_step/sec: 247.722\n",
            "INFO:tensorflow:loss = 0.0124355005, step = 10501 (0.406 sec)\n",
            "INFO:tensorflow:global_step/sec: 242.108\n",
            "INFO:tensorflow:loss = 0.0046512596, step = 10601 (0.411 sec)\n",
            "INFO:tensorflow:global_step/sec: 251.019\n",
            "INFO:tensorflow:loss = 0.008605539, step = 10701 (0.397 sec)\n",
            "INFO:tensorflow:global_step/sec: 253.213\n",
            "INFO:tensorflow:loss = 0.008929487, step = 10801 (0.396 sec)\n",
            "INFO:tensorflow:global_step/sec: 248.577\n",
            "INFO:tensorflow:loss = 0.0086190915, step = 10901 (0.401 sec)\n",
            "INFO:tensorflow:global_step/sec: 288.554\n",
            "INFO:tensorflow:loss = 0.0018484716, step = 11001 (0.346 sec)\n",
            "INFO:tensorflow:global_step/sec: 295.686\n",
            "INFO:tensorflow:loss = 0.009067201, step = 11101 (0.341 sec)\n",
            "INFO:tensorflow:global_step/sec: 300.058\n",
            "INFO:tensorflow:loss = 0.0017774191, step = 11201 (0.331 sec)\n",
            "INFO:tensorflow:global_step/sec: 293.043\n",
            "INFO:tensorflow:loss = 0.0022922277, step = 11301 (0.345 sec)\n",
            "INFO:tensorflow:global_step/sec: 289.936\n",
            "INFO:tensorflow:loss = 0.017749177, step = 11401 (0.344 sec)\n",
            "INFO:tensorflow:global_step/sec: 297.578\n"
          ],
          "name": "stdout"
        },
        {
          "output_type": "stream",
          "text": [
            "INFO:tensorflow:loss = 0.007008184, step = 11501 (0.335 sec)\n",
            "INFO:tensorflow:global_step/sec: 295.665\n",
            "INFO:tensorflow:loss = 0.010162791, step = 11601 (0.338 sec)\n",
            "INFO:tensorflow:global_step/sec: 293.313\n",
            "INFO:tensorflow:loss = 0.018813595, step = 11701 (0.342 sec)\n",
            "INFO:tensorflow:global_step/sec: 291.56\n",
            "INFO:tensorflow:loss = 0.015704727, step = 11801 (0.345 sec)\n",
            "INFO:tensorflow:global_step/sec: 287.693\n",
            "INFO:tensorflow:loss = 0.0024252692, step = 11901 (0.347 sec)\n",
            "INFO:tensorflow:global_step/sec: 290.885\n",
            "INFO:tensorflow:loss = 0.0009222906, step = 12001 (0.344 sec)\n",
            "INFO:tensorflow:global_step/sec: 281.944\n",
            "INFO:tensorflow:loss = 0.012167728, step = 12101 (0.353 sec)\n",
            "INFO:tensorflow:global_step/sec: 275.483\n",
            "INFO:tensorflow:loss = 0.005968025, step = 12201 (0.366 sec)\n",
            "INFO:tensorflow:global_step/sec: 251.376\n",
            "INFO:tensorflow:loss = 0.005323849, step = 12301 (0.394 sec)\n",
            "INFO:tensorflow:global_step/sec: 246.5\n",
            "INFO:tensorflow:loss = 0.00064170285, step = 12401 (0.405 sec)\n",
            "INFO:tensorflow:global_step/sec: 253.473\n",
            "INFO:tensorflow:loss = 0.002711731, step = 12501 (0.396 sec)\n",
            "INFO:tensorflow:global_step/sec: 251.752\n",
            "INFO:tensorflow:loss = 0.069383815, step = 12601 (0.396 sec)\n",
            "INFO:tensorflow:global_step/sec: 255.44\n",
            "INFO:tensorflow:loss = 0.0014834837, step = 12701 (0.393 sec)\n",
            "INFO:tensorflow:global_step/sec: 250.439\n",
            "INFO:tensorflow:loss = 0.0019857313, step = 12801 (0.400 sec)\n",
            "INFO:tensorflow:global_step/sec: 250.474\n",
            "INFO:tensorflow:loss = 0.0072225602, step = 12901 (0.398 sec)\n",
            "INFO:tensorflow:global_step/sec: 249.185\n",
            "INFO:tensorflow:loss = 0.0127361845, step = 13001 (0.403 sec)\n",
            "INFO:tensorflow:global_step/sec: 236.799\n",
            "INFO:tensorflow:loss = 0.08767295, step = 13101 (0.422 sec)\n",
            "INFO:tensorflow:global_step/sec: 247.846\n",
            "INFO:tensorflow:loss = 0.0053850734, step = 13201 (0.402 sec)\n",
            "INFO:tensorflow:global_step/sec: 245.201\n",
            "INFO:tensorflow:loss = 0.0009871785, step = 13301 (0.410 sec)\n",
            "INFO:tensorflow:global_step/sec: 246.249\n",
            "INFO:tensorflow:loss = 0.0020421147, step = 13401 (0.404 sec)\n",
            "INFO:tensorflow:global_step/sec: 244.032\n",
            "INFO:tensorflow:loss = 0.020732308, step = 13501 (0.412 sec)\n",
            "INFO:tensorflow:global_step/sec: 246.056\n",
            "INFO:tensorflow:loss = 0.0014040101, step = 13601 (0.408 sec)\n",
            "INFO:tensorflow:global_step/sec: 248.604\n",
            "INFO:tensorflow:loss = 0.0019980117, step = 13701 (0.401 sec)\n",
            "INFO:tensorflow:global_step/sec: 249.127\n",
            "INFO:tensorflow:loss = 0.0015059331, step = 13801 (0.399 sec)\n",
            "INFO:tensorflow:global_step/sec: 251.282\n",
            "INFO:tensorflow:loss = 0.0018842352, step = 13901 (0.397 sec)\n",
            "INFO:tensorflow:global_step/sec: 252.719\n",
            "INFO:tensorflow:loss = 0.0068068597, step = 14001 (0.398 sec)\n",
            "INFO:tensorflow:global_step/sec: 248.262\n",
            "INFO:tensorflow:loss = 0.039678168, step = 14101 (0.400 sec)\n",
            "INFO:tensorflow:global_step/sec: 244.308\n",
            "INFO:tensorflow:loss = 0.0017361008, step = 14201 (0.411 sec)\n",
            "INFO:tensorflow:global_step/sec: 243.365\n",
            "INFO:tensorflow:loss = 0.0031836499, step = 14301 (0.411 sec)\n",
            "INFO:tensorflow:global_step/sec: 247.791\n",
            "INFO:tensorflow:loss = 0.006691467, step = 14401 (0.405 sec)\n",
            "INFO:tensorflow:global_step/sec: 249.822\n",
            "INFO:tensorflow:loss = 0.0011246419, step = 14501 (0.400 sec)\n"
          ],
          "name": "stdout"
        },
        {
          "output_type": "stream",
          "text": [
            "INFO:tensorflow:global_step/sec: 249.1\n",
            "INFO:tensorflow:loss = 0.0027228934, step = 14601 (0.398 sec)\n",
            "INFO:tensorflow:global_step/sec: 250.967\n",
            "INFO:tensorflow:loss = 0.005567453, step = 14701 (0.399 sec)\n",
            "INFO:tensorflow:global_step/sec: 258.402\n",
            "INFO:tensorflow:loss = 0.003924281, step = 14801 (0.388 sec)\n",
            "INFO:tensorflow:global_step/sec: 284.471\n",
            "INFO:tensorflow:loss = 0.006315721, step = 14901 (0.349 sec)\n",
            "INFO:tensorflow:global_step/sec: 273.231\n",
            "INFO:tensorflow:loss = 0.001163702, step = 15001 (0.370 sec)\n",
            "INFO:tensorflow:global_step/sec: 248.181\n",
            "INFO:tensorflow:loss = 0.0016675526, step = 15101 (0.399 sec)\n",
            "INFO:tensorflow:global_step/sec: 244.009\n",
            "INFO:tensorflow:loss = 0.004477609, step = 15201 (0.410 sec)\n",
            "INFO:tensorflow:global_step/sec: 249.37\n",
            "INFO:tensorflow:loss = 0.003121172, step = 15301 (0.403 sec)\n",
            "INFO:tensorflow:global_step/sec: 243.712\n",
            "INFO:tensorflow:loss = 0.00082827173, step = 15401 (0.408 sec)\n",
            "INFO:tensorflow:global_step/sec: 253.353\n",
            "INFO:tensorflow:loss = 0.001057249, step = 15501 (0.399 sec)\n",
            "INFO:tensorflow:global_step/sec: 243.777\n",
            "INFO:tensorflow:loss = 0.00043870017, step = 15601 (0.410 sec)\n",
            "INFO:tensorflow:global_step/sec: 243.05\n",
            "INFO:tensorflow:loss = 0.0011376839, step = 15701 (0.408 sec)\n",
            "INFO:tensorflow:global_step/sec: 246.76\n",
            "INFO:tensorflow:loss = 0.0027172437, step = 15801 (0.407 sec)\n",
            "INFO:tensorflow:global_step/sec: 240.658\n",
            "INFO:tensorflow:loss = 0.014463517, step = 15901 (0.416 sec)\n",
            "INFO:tensorflow:global_step/sec: 247.855\n",
            "INFO:tensorflow:loss = 0.0088703865, step = 16001 (0.403 sec)\n",
            "INFO:tensorflow:global_step/sec: 247.809\n",
            "INFO:tensorflow:loss = 0.005046351, step = 16101 (0.402 sec)\n",
            "INFO:tensorflow:global_step/sec: 243.921\n",
            "INFO:tensorflow:loss = 0.0018938594, step = 16201 (0.412 sec)\n",
            "INFO:tensorflow:global_step/sec: 240.389\n",
            "INFO:tensorflow:loss = 0.00020670453, step = 16301 (0.414 sec)\n",
            "INFO:tensorflow:global_step/sec: 256.676\n",
            "INFO:tensorflow:loss = 0.0024673606, step = 16401 (0.388 sec)\n",
            "INFO:tensorflow:global_step/sec: 284.111\n",
            "INFO:tensorflow:loss = 0.002444599, step = 16501 (0.353 sec)\n",
            "INFO:tensorflow:global_step/sec: 294.338\n",
            "INFO:tensorflow:loss = 0.0014108574, step = 16601 (0.340 sec)\n",
            "INFO:tensorflow:global_step/sec: 295.589\n",
            "INFO:tensorflow:loss = 0.0018085621, step = 16701 (0.342 sec)\n",
            "INFO:tensorflow:global_step/sec: 279.638\n",
            "INFO:tensorflow:loss = 0.0014436417, step = 16801 (0.356 sec)\n",
            "INFO:tensorflow:global_step/sec: 288.46\n",
            "INFO:tensorflow:loss = 0.000690412, step = 16901 (0.348 sec)\n",
            "INFO:tensorflow:global_step/sec: 289.775\n",
            "INFO:tensorflow:loss = 0.002597309, step = 17001 (0.342 sec)\n",
            "INFO:tensorflow:global_step/sec: 282.317\n",
            "INFO:tensorflow:loss = 0.00078458234, step = 17101 (0.356 sec)\n",
            "INFO:tensorflow:global_step/sec: 291.195\n",
            "INFO:tensorflow:loss = 0.000834331, step = 17201 (0.341 sec)\n",
            "INFO:tensorflow:global_step/sec: 287.702\n",
            "INFO:tensorflow:loss = 0.00102651, step = 17301 (0.350 sec)\n",
            "INFO:tensorflow:global_step/sec: 283.781\n",
            "INFO:tensorflow:loss = 0.0041450243, step = 17401 (0.350 sec)\n",
            "INFO:tensorflow:global_step/sec: 292.54\n",
            "INFO:tensorflow:loss = 0.00030591563, step = 17501 (0.343 sec)\n",
            "INFO:tensorflow:global_step/sec: 286.169\n",
            "INFO:tensorflow:loss = 0.0017604625, step = 17601 (0.349 sec)\n"
          ],
          "name": "stdout"
        },
        {
          "output_type": "stream",
          "text": [
            "INFO:tensorflow:global_step/sec: 273.637\n",
            "INFO:tensorflow:loss = 0.0002781846, step = 17701 (0.365 sec)\n",
            "INFO:tensorflow:global_step/sec: 256.437\n",
            "INFO:tensorflow:loss = 0.006649703, step = 17801 (0.392 sec)\n",
            "INFO:tensorflow:global_step/sec: 245.182\n",
            "INFO:tensorflow:loss = 0.0005635291, step = 17901 (0.406 sec)\n",
            "INFO:tensorflow:global_step/sec: 247.293\n",
            "INFO:tensorflow:loss = 0.00032048795, step = 18001 (0.407 sec)\n",
            "INFO:tensorflow:global_step/sec: 246.03\n",
            "INFO:tensorflow:loss = 0.0036353422, step = 18101 (0.405 sec)\n",
            "INFO:tensorflow:global_step/sec: 247.339\n",
            "INFO:tensorflow:loss = 0.0015143416, step = 18201 (0.408 sec)\n",
            "INFO:tensorflow:global_step/sec: 255.719\n",
            "INFO:tensorflow:loss = 0.00026747346, step = 18301 (0.387 sec)\n",
            "INFO:tensorflow:global_step/sec: 251.641\n",
            "INFO:tensorflow:loss = 0.0053025926, step = 18401 (0.397 sec)\n",
            "INFO:tensorflow:global_step/sec: 250.64\n",
            "INFO:tensorflow:loss = 0.00032431327, step = 18501 (0.400 sec)\n",
            "INFO:tensorflow:global_step/sec: 254.888\n",
            "INFO:tensorflow:loss = 0.0023875728, step = 18601 (0.391 sec)\n",
            "INFO:tensorflow:global_step/sec: 254.958\n",
            "INFO:tensorflow:loss = 0.0007398421, step = 18701 (0.394 sec)\n",
            "INFO:tensorflow:global_step/sec: 246.306\n",
            "INFO:tensorflow:loss = 0.0034541013, step = 18801 (0.407 sec)\n",
            "INFO:tensorflow:global_step/sec: 243.472\n",
            "INFO:tensorflow:loss = 0.0014283136, step = 18901 (0.411 sec)\n",
            "INFO:tensorflow:global_step/sec: 252.974\n",
            "INFO:tensorflow:loss = 0.0017429271, step = 19001 (0.393 sec)\n",
            "INFO:tensorflow:global_step/sec: 247.903\n",
            "INFO:tensorflow:loss = 0.0026204241, step = 19101 (0.407 sec)\n",
            "INFO:tensorflow:global_step/sec: 246.182\n",
            "INFO:tensorflow:loss = 0.0017956627, step = 19201 (0.404 sec)\n",
            "INFO:tensorflow:global_step/sec: 245.534\n",
            "INFO:tensorflow:loss = 0.00031196425, step = 19301 (0.409 sec)\n",
            "INFO:tensorflow:global_step/sec: 243.281\n",
            "INFO:tensorflow:loss = 0.002240765, step = 19401 (0.411 sec)\n",
            "INFO:tensorflow:global_step/sec: 241.423\n",
            "INFO:tensorflow:loss = 0.00035878108, step = 19501 (0.412 sec)\n",
            "INFO:tensorflow:global_step/sec: 251.539\n",
            "INFO:tensorflow:loss = 0.005191593, step = 19601 (0.396 sec)\n",
            "INFO:tensorflow:global_step/sec: 256.695\n",
            "INFO:tensorflow:loss = 0.031767238, step = 19701 (0.390 sec)\n",
            "INFO:tensorflow:global_step/sec: 251.345\n",
            "INFO:tensorflow:loss = 0.0011212908, step = 19801 (0.401 sec)\n",
            "INFO:tensorflow:global_step/sec: 249.213\n",
            "INFO:tensorflow:loss = 0.0026796202, step = 19901 (0.399 sec)\n",
            "INFO:tensorflow:global_step/sec: 249.389\n",
            "INFO:tensorflow:loss = 0.006659723, step = 20001 (0.404 sec)\n",
            "INFO:tensorflow:global_step/sec: 251.063\n",
            "INFO:tensorflow:loss = 0.00021196122, step = 20101 (0.397 sec)\n",
            "INFO:tensorflow:global_step/sec: 253.159\n",
            "INFO:tensorflow:loss = 0.00027411722, step = 20201 (0.392 sec)\n",
            "INFO:tensorflow:global_step/sec: 295.717\n",
            "INFO:tensorflow:loss = 0.0006697912, step = 20301 (0.339 sec)\n",
            "INFO:tensorflow:global_step/sec: 275.569\n",
            "INFO:tensorflow:loss = 0.0007038809, step = 20401 (0.363 sec)\n",
            "INFO:tensorflow:global_step/sec: 246.383\n",
            "INFO:tensorflow:loss = 0.00086593983, step = 20501 (0.406 sec)\n",
            "INFO:tensorflow:global_step/sec: 244.039\n",
            "INFO:tensorflow:loss = 0.0003540566, step = 20601 (0.410 sec)\n",
            "INFO:tensorflow:global_step/sec: 244.077\n"
          ],
          "name": "stdout"
        },
        {
          "output_type": "stream",
          "text": [
            "INFO:tensorflow:loss = 0.00046367294, step = 20701 (0.411 sec)\n",
            "INFO:tensorflow:global_step/sec: 243.609\n",
            "INFO:tensorflow:loss = 0.0002040754, step = 20801 (0.408 sec)\n",
            "INFO:tensorflow:global_step/sec: 243.967\n",
            "INFO:tensorflow:loss = 0.0008306726, step = 20901 (0.410 sec)\n",
            "INFO:tensorflow:global_step/sec: 239.3\n",
            "INFO:tensorflow:loss = 0.00090315426, step = 21001 (0.418 sec)\n",
            "INFO:tensorflow:global_step/sec: 245.022\n",
            "INFO:tensorflow:loss = 0.0009139121, step = 21101 (0.411 sec)\n",
            "INFO:tensorflow:global_step/sec: 237.114\n",
            "INFO:tensorflow:loss = 0.012159496, step = 21201 (0.419 sec)\n",
            "INFO:tensorflow:global_step/sec: 238.437\n",
            "INFO:tensorflow:loss = 0.0006173037, step = 21301 (0.422 sec)\n",
            "INFO:tensorflow:global_step/sec: 234.3\n",
            "INFO:tensorflow:loss = 0.0013127045, step = 21401 (0.427 sec)\n",
            "INFO:tensorflow:global_step/sec: 241.513\n",
            "INFO:tensorflow:loss = 0.00274059, step = 21501 (0.411 sec)\n",
            "INFO:tensorflow:global_step/sec: 234.115\n",
            "INFO:tensorflow:loss = 0.00076592644, step = 21601 (0.432 sec)\n",
            "INFO:tensorflow:global_step/sec: 230.89\n",
            "INFO:tensorflow:loss = 0.0009118207, step = 21701 (0.430 sec)\n",
            "INFO:tensorflow:global_step/sec: 263.071\n",
            "INFO:tensorflow:loss = 0.0012814114, step = 21801 (0.379 sec)\n",
            "INFO:tensorflow:global_step/sec: 285.445\n",
            "INFO:tensorflow:loss = 0.0013063211, step = 21901 (0.353 sec)\n",
            "INFO:tensorflow:global_step/sec: 287.788\n",
            "INFO:tensorflow:loss = 0.0013455063, step = 22001 (0.344 sec)\n",
            "INFO:tensorflow:global_step/sec: 296.85\n",
            "INFO:tensorflow:loss = 0.00096540333, step = 22101 (0.337 sec)\n",
            "INFO:tensorflow:global_step/sec: 289.817\n",
            "INFO:tensorflow:loss = 0.0028068626, step = 22201 (0.349 sec)\n",
            "INFO:tensorflow:global_step/sec: 298.611\n",
            "INFO:tensorflow:loss = 0.0020360826, step = 22301 (0.333 sec)\n",
            "INFO:tensorflow:global_step/sec: 300\n",
            "INFO:tensorflow:loss = 0.0026093486, step = 22401 (0.331 sec)\n",
            "INFO:tensorflow:global_step/sec: 300.39\n",
            "INFO:tensorflow:loss = 0.0046931803, step = 22501 (0.336 sec)\n",
            "INFO:tensorflow:global_step/sec: 294.705\n",
            "INFO:tensorflow:loss = 0.006840351, step = 22601 (0.337 sec)\n",
            "INFO:tensorflow:global_step/sec: 297.065\n",
            "INFO:tensorflow:loss = 0.0007997455, step = 22701 (0.336 sec)\n",
            "INFO:tensorflow:global_step/sec: 294.519\n",
            "INFO:tensorflow:loss = 0.0003969193, step = 22801 (0.340 sec)\n",
            "INFO:tensorflow:global_step/sec: 311.689\n",
            "INFO:tensorflow:loss = 0.00010040341, step = 22901 (0.323 sec)\n",
            "INFO:tensorflow:global_step/sec: 293.765\n",
            "INFO:tensorflow:loss = 6.1034836e-05, step = 23001 (0.338 sec)\n",
            "INFO:tensorflow:global_step/sec: 260.345\n",
            "INFO:tensorflow:loss = 0.004585336, step = 23101 (0.385 sec)\n",
            "INFO:tensorflow:global_step/sec: 249.981\n",
            "INFO:tensorflow:loss = 0.00016668026, step = 23201 (0.399 sec)\n",
            "INFO:tensorflow:global_step/sec: 251.699\n",
            "INFO:tensorflow:loss = 0.00079783244, step = 23301 (0.398 sec)\n",
            "INFO:tensorflow:global_step/sec: 246.873\n",
            "INFO:tensorflow:loss = 0.00091400737, step = 23401 (0.408 sec)\n",
            "INFO:tensorflow:global_step/sec: 243.589\n",
            "INFO:tensorflow:loss = 0.0018726907, step = 23501 (0.408 sec)\n",
            "INFO:tensorflow:global_step/sec: 249.879\n",
            "INFO:tensorflow:loss = 0.000571202, step = 23601 (0.401 sec)\n",
            "INFO:tensorflow:global_step/sec: 242.714\n",
            "INFO:tensorflow:loss = 0.0009561343, step = 23701 (0.414 sec)\n"
          ],
          "name": "stdout"
        },
        {
          "output_type": "stream",
          "text": [
            "INFO:tensorflow:global_step/sec: 244.252\n",
            "INFO:tensorflow:loss = 0.0010207957, step = 23801 (0.408 sec)\n",
            "INFO:tensorflow:global_step/sec: 241.504\n",
            "INFO:tensorflow:loss = 0.0040079425, step = 23901 (0.414 sec)\n",
            "INFO:tensorflow:global_step/sec: 249.208\n",
            "INFO:tensorflow:loss = 0.0006465795, step = 24001 (0.403 sec)\n",
            "INFO:tensorflow:global_step/sec: 245.103\n",
            "INFO:tensorflow:loss = 7.899198e-05, step = 24101 (0.405 sec)\n",
            "INFO:tensorflow:global_step/sec: 247.832\n",
            "INFO:tensorflow:loss = 0.0005127007, step = 24201 (0.404 sec)\n",
            "INFO:tensorflow:global_step/sec: 250.748\n",
            "INFO:tensorflow:loss = 0.00088178436, step = 24301 (0.399 sec)\n",
            "INFO:tensorflow:global_step/sec: 243.637\n",
            "INFO:tensorflow:loss = 0.0009912917, step = 24401 (0.410 sec)\n",
            "INFO:tensorflow:global_step/sec: 245.592\n",
            "INFO:tensorflow:loss = 0.00029539704, step = 24501 (0.408 sec)\n",
            "INFO:tensorflow:global_step/sec: 240.044\n",
            "INFO:tensorflow:loss = 9.017574e-05, step = 24601 (0.416 sec)\n",
            "INFO:tensorflow:global_step/sec: 241.174\n",
            "INFO:tensorflow:loss = 0.0003086667, step = 24701 (0.415 sec)\n",
            "INFO:tensorflow:global_step/sec: 247.668\n",
            "INFO:tensorflow:loss = 0.0031830377, step = 24801 (0.407 sec)\n",
            "INFO:tensorflow:global_step/sec: 242.137\n",
            "INFO:tensorflow:loss = 0.0022345444, step = 24901 (0.413 sec)\n",
            "INFO:tensorflow:global_step/sec: 244.079\n",
            "INFO:tensorflow:loss = 0.0016176031, step = 25001 (0.409 sec)\n",
            "INFO:tensorflow:global_step/sec: 239.091\n",
            "INFO:tensorflow:loss = 0.00082134065, step = 25101 (0.416 sec)\n",
            "INFO:tensorflow:global_step/sec: 244.665\n",
            "INFO:tensorflow:loss = 0.0027863956, step = 25201 (0.408 sec)\n",
            "INFO:tensorflow:global_step/sec: 244.192\n",
            "INFO:tensorflow:loss = 0.0022138674, step = 25301 (0.412 sec)\n",
            "INFO:tensorflow:global_step/sec: 256.531\n",
            "INFO:tensorflow:loss = 0.0008445747, step = 25401 (0.391 sec)\n",
            "INFO:tensorflow:global_step/sec: 250.057\n",
            "INFO:tensorflow:loss = 0.001408899, step = 25501 (0.398 sec)\n",
            "INFO:tensorflow:global_step/sec: 251.266\n",
            "INFO:tensorflow:loss = 0.0008698314, step = 25601 (0.398 sec)\n",
            "INFO:tensorflow:global_step/sec: 280.446\n",
            "INFO:tensorflow:loss = 0.00012396091, step = 25701 (0.355 sec)\n",
            "INFO:tensorflow:global_step/sec: 265.652\n",
            "INFO:tensorflow:loss = 0.00037268447, step = 25801 (0.379 sec)\n",
            "INFO:tensorflow:global_step/sec: 234.777\n",
            "INFO:tensorflow:loss = 0.000330239, step = 25901 (0.425 sec)\n",
            "INFO:tensorflow:global_step/sec: 234.609\n",
            "INFO:tensorflow:loss = 0.0004518469, step = 26001 (0.426 sec)\n",
            "INFO:tensorflow:global_step/sec: 240.61\n",
            "INFO:tensorflow:loss = 0.00016439926, step = 26101 (0.413 sec)\n",
            "INFO:tensorflow:global_step/sec: 241.943\n",
            "INFO:tensorflow:loss = 0.0020758272, step = 26201 (0.416 sec)\n",
            "INFO:tensorflow:global_step/sec: 241.127\n",
            "INFO:tensorflow:loss = 0.0011112232, step = 26301 (0.415 sec)\n",
            "INFO:tensorflow:global_step/sec: 243.477\n",
            "INFO:tensorflow:loss = 0.0011484413, step = 26401 (0.409 sec)\n",
            "INFO:tensorflow:global_step/sec: 242.377\n",
            "INFO:tensorflow:loss = 0.0004195134, step = 26501 (0.412 sec)\n",
            "INFO:tensorflow:global_step/sec: 243.243\n",
            "INFO:tensorflow:loss = 0.00088818563, step = 26601 (0.412 sec)\n",
            "INFO:tensorflow:global_step/sec: 247.254\n",
            "INFO:tensorflow:loss = 0.0012315543, step = 26701 (0.403 sec)\n",
            "INFO:tensorflow:global_step/sec: 244.385\n"
          ],
          "name": "stdout"
        },
        {
          "output_type": "stream",
          "text": [
            "INFO:tensorflow:loss = 0.00044197938, step = 26801 (0.409 sec)\n",
            "INFO:tensorflow:global_step/sec: 248.352\n",
            "INFO:tensorflow:loss = 0.0011373842, step = 26901 (0.405 sec)\n",
            "INFO:tensorflow:global_step/sec: 242.437\n",
            "INFO:tensorflow:loss = 0.0013031774, step = 27001 (0.410 sec)\n",
            "INFO:tensorflow:global_step/sec: 245.763\n",
            "INFO:tensorflow:loss = 0.00016252059, step = 27101 (0.407 sec)\n",
            "INFO:tensorflow:global_step/sec: 274.064\n",
            "INFO:tensorflow:loss = 0.0006252378, step = 27201 (0.364 sec)\n",
            "INFO:tensorflow:global_step/sec: 282.925\n",
            "INFO:tensorflow:loss = 0.0012615101, step = 27301 (0.357 sec)\n",
            "INFO:tensorflow:global_step/sec: 281.268\n",
            "INFO:tensorflow:loss = 0.0012009502, step = 27401 (0.353 sec)\n",
            "INFO:tensorflow:global_step/sec: 280.14\n",
            "INFO:tensorflow:loss = 0.00021896357, step = 27501 (0.359 sec)\n",
            "INFO:tensorflow:global_step/sec: 275.719\n",
            "INFO:tensorflow:loss = 0.0005902037, step = 27601 (0.362 sec)\n",
            "INFO:tensorflow:global_step/sec: 277.316\n",
            "INFO:tensorflow:loss = 0.0013236937, step = 27701 (0.361 sec)\n",
            "INFO:tensorflow:global_step/sec: 272.513\n",
            "INFO:tensorflow:loss = 0.00041205809, step = 27801 (0.367 sec)\n",
            "INFO:tensorflow:global_step/sec: 277.837\n",
            "INFO:tensorflow:loss = 0.00053920614, step = 27901 (0.357 sec)\n",
            "INFO:tensorflow:global_step/sec: 285.381\n",
            "INFO:tensorflow:loss = 0.0013621562, step = 28001 (0.351 sec)\n",
            "INFO:tensorflow:global_step/sec: 288.774\n",
            "INFO:tensorflow:loss = 0.00068805757, step = 28101 (0.349 sec)\n",
            "INFO:tensorflow:global_step/sec: 281.437\n",
            "INFO:tensorflow:loss = 0.0011906383, step = 28201 (0.355 sec)\n",
            "INFO:tensorflow:global_step/sec: 273.136\n",
            "INFO:tensorflow:loss = 0.0006415403, step = 28301 (0.364 sec)\n",
            "INFO:tensorflow:global_step/sec: 261.245\n",
            "INFO:tensorflow:loss = 0.00020002361, step = 28401 (0.383 sec)\n",
            "INFO:tensorflow:global_step/sec: 239.659\n",
            "INFO:tensorflow:loss = 0.00021110813, step = 28501 (0.420 sec)\n",
            "INFO:tensorflow:global_step/sec: 244.003\n",
            "INFO:tensorflow:loss = 0.00050233176, step = 28601 (0.407 sec)\n",
            "INFO:tensorflow:global_step/sec: 240.764\n",
            "INFO:tensorflow:loss = 0.00027020692, step = 28701 (0.415 sec)\n",
            "INFO:tensorflow:global_step/sec: 243.77\n",
            "INFO:tensorflow:loss = 0.0010790514, step = 28801 (0.411 sec)\n",
            "INFO:tensorflow:global_step/sec: 241.062\n",
            "INFO:tensorflow:loss = 0.0015324797, step = 28901 (0.417 sec)\n",
            "INFO:tensorflow:global_step/sec: 246.048\n",
            "INFO:tensorflow:loss = 0.00028254252, step = 29001 (0.407 sec)\n",
            "INFO:tensorflow:global_step/sec: 242.232\n",
            "INFO:tensorflow:loss = 0.00012884408, step = 29101 (0.411 sec)\n",
            "INFO:tensorflow:global_step/sec: 242.486\n",
            "INFO:tensorflow:loss = 0.002001174, step = 29201 (0.412 sec)\n",
            "INFO:tensorflow:global_step/sec: 244.957\n",
            "INFO:tensorflow:loss = 0.00079142384, step = 29301 (0.412 sec)\n",
            "INFO:tensorflow:global_step/sec: 240.839\n",
            "INFO:tensorflow:loss = 0.0011578334, step = 29401 (0.416 sec)\n",
            "INFO:tensorflow:global_step/sec: 244.541\n",
            "INFO:tensorflow:loss = 0.0007152234, step = 29501 (0.405 sec)\n",
            "INFO:tensorflow:global_step/sec: 248.176\n",
            "INFO:tensorflow:loss = 0.0008180775, step = 29601 (0.406 sec)\n",
            "INFO:tensorflow:global_step/sec: 245.302\n",
            "INFO:tensorflow:loss = 0.0006724163, step = 29701 (0.404 sec)\n",
            "INFO:tensorflow:global_step/sec: 249.607\n",
            "INFO:tensorflow:loss = 0.0010931559, step = 29801 (0.400 sec)\n"
          ],
          "name": "stdout"
        },
        {
          "output_type": "stream",
          "text": [
            "INFO:tensorflow:global_step/sec: 245.305\n",
            "INFO:tensorflow:loss = 0.0017592767, step = 29901 (0.410 sec)\n",
            "INFO:tensorflow:global_step/sec: 238.743\n",
            "INFO:tensorflow:loss = 0.0018576537, step = 30001 (0.417 sec)\n",
            "INFO:tensorflow:global_step/sec: 246.102\n",
            "INFO:tensorflow:loss = 0.00014682826, step = 30101 (0.409 sec)\n",
            "INFO:tensorflow:global_step/sec: 246.74\n",
            "INFO:tensorflow:loss = 0.00084901735, step = 30201 (0.406 sec)\n",
            "INFO:tensorflow:global_step/sec: 238.39\n",
            "INFO:tensorflow:loss = 8.4567706e-05, step = 30301 (0.415 sec)\n",
            "INFO:tensorflow:global_step/sec: 244.573\n",
            "INFO:tensorflow:loss = 0.00063006236, step = 30401 (0.410 sec)\n",
            "INFO:tensorflow:global_step/sec: 246.921\n",
            "INFO:tensorflow:loss = 0.00038873433, step = 30501 (0.404 sec)\n",
            "INFO:tensorflow:global_step/sec: 245.966\n",
            "INFO:tensorflow:loss = 0.00046472717, step = 30601 (0.408 sec)\n",
            "INFO:tensorflow:global_step/sec: 246.549\n",
            "INFO:tensorflow:loss = 0.0012423642, step = 30701 (0.408 sec)\n",
            "INFO:tensorflow:global_step/sec: 239.213\n",
            "INFO:tensorflow:loss = 0.00075266324, step = 30801 (0.415 sec)\n",
            "INFO:tensorflow:global_step/sec: 241.743\n",
            "INFO:tensorflow:loss = 0.000558771, step = 30901 (0.414 sec)\n",
            "INFO:tensorflow:global_step/sec: 282.076\n",
            "INFO:tensorflow:loss = 0.0018282984, step = 31001 (0.357 sec)\n",
            "INFO:tensorflow:global_step/sec: 259.175\n",
            "INFO:tensorflow:loss = 0.00045515134, step = 31101 (0.383 sec)\n",
            "INFO:tensorflow:global_step/sec: 237.971\n",
            "INFO:tensorflow:loss = 0.0016787483, step = 31201 (0.424 sec)\n",
            "INFO:tensorflow:global_step/sec: 243.533\n",
            "INFO:tensorflow:loss = 0.001252932, step = 31301 (0.408 sec)\n",
            "INFO:tensorflow:global_step/sec: 241.051\n",
            "INFO:tensorflow:loss = 0.0012190425, step = 31401 (0.415 sec)\n",
            "INFO:tensorflow:global_step/sec: 233.99\n",
            "INFO:tensorflow:loss = 6.2261366e-05, step = 31501 (0.432 sec)\n",
            "INFO:tensorflow:global_step/sec: 238.385\n",
            "INFO:tensorflow:loss = 0.00038789256, step = 31601 (0.418 sec)\n",
            "INFO:tensorflow:global_step/sec: 239.423\n",
            "INFO:tensorflow:loss = 0.00056120346, step = 31701 (0.416 sec)\n",
            "INFO:tensorflow:global_step/sec: 237.92\n",
            "INFO:tensorflow:loss = 0.0014390186, step = 31801 (0.422 sec)\n",
            "INFO:tensorflow:global_step/sec: 236.56\n",
            "INFO:tensorflow:loss = 0.0003914209, step = 31901 (0.418 sec)\n",
            "INFO:tensorflow:global_step/sec: 238.488\n",
            "INFO:tensorflow:loss = 0.00020491012, step = 32001 (0.420 sec)\n",
            "INFO:tensorflow:global_step/sec: 239.302\n",
            "INFO:tensorflow:loss = 0.00028138325, step = 32101 (0.422 sec)\n",
            "INFO:tensorflow:global_step/sec: 239.756\n",
            "INFO:tensorflow:loss = 0.00035472808, step = 32201 (0.416 sec)\n",
            "INFO:tensorflow:global_step/sec: 233.937\n",
            "INFO:tensorflow:loss = 0.00016207508, step = 32301 (0.424 sec)\n",
            "INFO:tensorflow:global_step/sec: 234.134\n",
            "INFO:tensorflow:loss = 0.000260558, step = 32401 (0.427 sec)\n",
            "INFO:tensorflow:global_step/sec: 277.674\n",
            "INFO:tensorflow:loss = 0.00024050978, step = 32501 (0.360 sec)\n",
            "INFO:tensorflow:global_step/sec: 282.834\n",
            "INFO:tensorflow:loss = 0.0003885135, step = 32601 (0.354 sec)\n",
            "INFO:tensorflow:global_step/sec: 285.69\n",
            "INFO:tensorflow:loss = 0.00071436947, step = 32701 (0.352 sec)\n",
            "INFO:tensorflow:global_step/sec: 281.538\n",
            "INFO:tensorflow:loss = 0.00044247566, step = 32801 (0.353 sec)\n",
            "INFO:tensorflow:global_step/sec: 275.143\n"
          ],
          "name": "stdout"
        },
        {
          "output_type": "stream",
          "text": [
            "INFO:tensorflow:loss = 0.0008797346, step = 32901 (0.366 sec)\n",
            "INFO:tensorflow:global_step/sec: 278.324\n",
            "INFO:tensorflow:loss = 0.00020593316, step = 33001 (0.357 sec)\n",
            "INFO:tensorflow:global_step/sec: 279.406\n",
            "INFO:tensorflow:loss = 0.005040213, step = 33101 (0.360 sec)\n",
            "INFO:tensorflow:global_step/sec: 282.534\n",
            "INFO:tensorflow:loss = 0.00123941, step = 33201 (0.352 sec)\n",
            "INFO:tensorflow:global_step/sec: 276.557\n",
            "INFO:tensorflow:loss = 0.000105511375, step = 33301 (0.361 sec)\n",
            "INFO:tensorflow:global_step/sec: 281.974\n",
            "INFO:tensorflow:loss = 0.0005436877, step = 33401 (0.357 sec)\n",
            "INFO:tensorflow:global_step/sec: 275.185\n",
            "INFO:tensorflow:loss = 0.00048338843, step = 33501 (0.360 sec)\n",
            "INFO:tensorflow:global_step/sec: 276.942\n",
            "INFO:tensorflow:loss = 0.0002278577, step = 33601 (0.365 sec)\n",
            "INFO:tensorflow:global_step/sec: 261.299\n",
            "INFO:tensorflow:loss = 0.0003909147, step = 33701 (0.382 sec)\n",
            "INFO:tensorflow:global_step/sec: 252.366\n",
            "INFO:tensorflow:loss = 0.00015306745, step = 33801 (0.394 sec)\n",
            "INFO:tensorflow:global_step/sec: 242.738\n",
            "INFO:tensorflow:loss = 0.00051528605, step = 33901 (0.412 sec)\n",
            "INFO:tensorflow:global_step/sec: 239.234\n",
            "INFO:tensorflow:loss = 0.00030535794, step = 34001 (0.417 sec)\n",
            "INFO:tensorflow:global_step/sec: 246.317\n",
            "INFO:tensorflow:loss = 0.0003862684, step = 34101 (0.405 sec)\n",
            "INFO:tensorflow:global_step/sec: 249.633\n",
            "INFO:tensorflow:loss = 0.00075765426, step = 34201 (0.401 sec)\n",
            "INFO:tensorflow:global_step/sec: 230.241\n",
            "INFO:tensorflow:loss = 0.00010978171, step = 34301 (0.434 sec)\n",
            "INFO:tensorflow:global_step/sec: 237.357\n",
            "INFO:tensorflow:loss = 0.0007110161, step = 34401 (0.422 sec)\n",
            "INFO:tensorflow:global_step/sec: 246.668\n",
            "INFO:tensorflow:loss = 0.00035609855, step = 34501 (0.405 sec)\n",
            "INFO:tensorflow:global_step/sec: 245.613\n",
            "INFO:tensorflow:loss = 0.0013280608, step = 34601 (0.411 sec)\n",
            "INFO:tensorflow:global_step/sec: 243.171\n",
            "INFO:tensorflow:loss = 2.987078e-05, step = 34701 (0.408 sec)\n",
            "INFO:tensorflow:global_step/sec: 246.723\n",
            "INFO:tensorflow:loss = 0.00036502452, step = 34801 (0.405 sec)\n",
            "INFO:tensorflow:global_step/sec: 249.758\n",
            "INFO:tensorflow:loss = 6.58186e-05, step = 34901 (0.399 sec)\n",
            "INFO:tensorflow:global_step/sec: 249.628\n",
            "INFO:tensorflow:loss = 0.00110145, step = 35001 (0.401 sec)\n",
            "INFO:tensorflow:global_step/sec: 252.268\n",
            "INFO:tensorflow:loss = 0.00054851273, step = 35101 (0.399 sec)\n",
            "INFO:tensorflow:global_step/sec: 251.003\n",
            "INFO:tensorflow:loss = 0.00014893743, step = 35201 (0.397 sec)\n",
            "INFO:tensorflow:global_step/sec: 258.378\n",
            "INFO:tensorflow:loss = 0.0010475568, step = 35301 (0.386 sec)\n",
            "INFO:tensorflow:global_step/sec: 253.225\n",
            "INFO:tensorflow:loss = 0.00019349599, step = 35401 (0.398 sec)\n",
            "INFO:tensorflow:global_step/sec: 252.712\n",
            "INFO:tensorflow:loss = 0.00035017997, step = 35501 (0.396 sec)\n",
            "INFO:tensorflow:global_step/sec: 251.165\n",
            "INFO:tensorflow:loss = 0.00022191918, step = 35601 (0.395 sec)\n",
            "INFO:tensorflow:global_step/sec: 255.204\n",
            "INFO:tensorflow:loss = 0.00028894987, step = 35701 (0.395 sec)\n",
            "INFO:tensorflow:global_step/sec: 247.066\n",
            "INFO:tensorflow:loss = 0.00075162115, step = 35801 (0.402 sec)\n",
            "INFO:tensorflow:global_step/sec: 242.586\n",
            "INFO:tensorflow:loss = 0.0004130248, step = 35901 (0.412 sec)\n"
          ],
          "name": "stdout"
        },
        {
          "output_type": "stream",
          "text": [
            "INFO:tensorflow:global_step/sec: 244.079\n",
            "INFO:tensorflow:loss = 0.0004105543, step = 36001 (0.414 sec)\n",
            "INFO:tensorflow:global_step/sec: 248.627\n",
            "INFO:tensorflow:loss = 4.3648874e-05, step = 36101 (0.399 sec)\n",
            "INFO:tensorflow:global_step/sec: 247.02\n",
            "INFO:tensorflow:loss = 0.0011041836, step = 36201 (0.406 sec)\n",
            "INFO:tensorflow:global_step/sec: 268.146\n",
            "INFO:tensorflow:loss = 0.0005190992, step = 36301 (0.370 sec)\n",
            "INFO:tensorflow:global_step/sec: 260.004\n",
            "INFO:tensorflow:loss = 8.7097695e-05, step = 36401 (0.385 sec)\n",
            "INFO:tensorflow:global_step/sec: 246.054\n",
            "INFO:tensorflow:loss = 0.00069148926, step = 36501 (0.407 sec)\n",
            "INFO:tensorflow:global_step/sec: 249.971\n",
            "INFO:tensorflow:loss = 0.0003187726, step = 36601 (0.402 sec)\n",
            "INFO:tensorflow:global_step/sec: 249.19\n",
            "INFO:tensorflow:loss = 0.0001492413, step = 36701 (0.400 sec)\n",
            "INFO:tensorflow:global_step/sec: 242.63\n",
            "INFO:tensorflow:loss = 0.00059616426, step = 36801 (0.412 sec)\n",
            "INFO:tensorflow:global_step/sec: 244.497\n",
            "INFO:tensorflow:loss = 0.00016719743, step = 36901 (0.412 sec)\n",
            "INFO:tensorflow:global_step/sec: 248.165\n",
            "INFO:tensorflow:loss = 0.00033566737, step = 37001 (0.399 sec)\n",
            "INFO:tensorflow:global_step/sec: 247.323\n",
            "INFO:tensorflow:loss = 0.0003784778, step = 37101 (0.405 sec)\n",
            "INFO:tensorflow:global_step/sec: 252.064\n",
            "INFO:tensorflow:loss = 0.000250313, step = 37201 (0.398 sec)\n",
            "INFO:tensorflow:global_step/sec: 251.144\n",
            "INFO:tensorflow:loss = 0.0003510522, step = 37301 (0.397 sec)\n",
            "INFO:tensorflow:global_step/sec: 241.075\n",
            "INFO:tensorflow:loss = 0.00063270546, step = 37401 (0.416 sec)\n",
            "INFO:tensorflow:global_step/sec: 246.367\n",
            "INFO:tensorflow:loss = 0.00065616466, step = 37501 (0.407 sec)\n",
            "INFO:tensorflow:global_step/sec: 246.075\n",
            "INFO:tensorflow:loss = 0.00017957369, step = 37601 (0.406 sec)\n",
            "INFO:tensorflow:global_step/sec: 239.215\n",
            "INFO:tensorflow:loss = 6.3403335e-05, step = 37701 (0.415 sec)\n",
            "INFO:tensorflow:global_step/sec: 251.906\n",
            "INFO:tensorflow:loss = 0.0004844349, step = 37801 (0.397 sec)\n",
            "INFO:tensorflow:global_step/sec: 285.025\n",
            "INFO:tensorflow:loss = 0.0014635999, step = 37901 (0.353 sec)\n",
            "INFO:tensorflow:global_step/sec: 291.266\n",
            "INFO:tensorflow:loss = 0.00032269946, step = 38001 (0.343 sec)\n",
            "INFO:tensorflow:global_step/sec: 289.063\n",
            "INFO:tensorflow:loss = 0.00029048068, step = 38101 (0.344 sec)\n",
            "INFO:tensorflow:global_step/sec: 283.435\n",
            "INFO:tensorflow:loss = 0.0006623404, step = 38201 (0.355 sec)\n",
            "INFO:tensorflow:global_step/sec: 276.485\n",
            "INFO:tensorflow:loss = 0.0016494202, step = 38301 (0.362 sec)\n",
            "INFO:tensorflow:global_step/sec: 277.322\n",
            "INFO:tensorflow:loss = 0.00023533961, step = 38401 (0.358 sec)\n",
            "INFO:tensorflow:global_step/sec: 271.735\n",
            "INFO:tensorflow:loss = 0.00023816153, step = 38501 (0.370 sec)\n",
            "INFO:tensorflow:global_step/sec: 289.72\n",
            "INFO:tensorflow:loss = 0.00036208305, step = 38601 (0.345 sec)\n",
            "INFO:tensorflow:global_step/sec: 284.265\n",
            "INFO:tensorflow:loss = 0.0002727522, step = 38701 (0.351 sec)\n",
            "INFO:tensorflow:global_step/sec: 286.149\n",
            "INFO:tensorflow:loss = 0.00050823396, step = 38801 (0.350 sec)\n",
            "INFO:tensorflow:global_step/sec: 281.375\n",
            "INFO:tensorflow:loss = 0.0009752974, step = 38901 (0.354 sec)\n",
            "INFO:tensorflow:global_step/sec: 281.998\n"
          ],
          "name": "stdout"
        },
        {
          "output_type": "stream",
          "text": [
            "INFO:tensorflow:loss = 0.0006938551, step = 39001 (0.358 sec)\n",
            "INFO:tensorflow:global_step/sec: 252.728\n",
            "INFO:tensorflow:loss = 5.0548715e-05, step = 39101 (0.395 sec)\n",
            "INFO:tensorflow:global_step/sec: 243.734\n",
            "INFO:tensorflow:loss = 0.00063275173, step = 39201 (0.407 sec)\n",
            "INFO:tensorflow:global_step/sec: 245.212\n",
            "INFO:tensorflow:loss = 0.00046886335, step = 39301 (0.408 sec)\n",
            "INFO:tensorflow:global_step/sec: 245.355\n",
            "INFO:tensorflow:loss = 0.00069088506, step = 39401 (0.411 sec)\n",
            "INFO:tensorflow:global_step/sec: 229.436\n",
            "INFO:tensorflow:loss = 0.00015189774, step = 39501 (0.437 sec)\n",
            "INFO:tensorflow:global_step/sec: 248.598\n",
            "INFO:tensorflow:loss = 0.00094625744, step = 39601 (0.398 sec)\n",
            "INFO:tensorflow:global_step/sec: 245.234\n",
            "INFO:tensorflow:loss = 0.000936589, step = 39701 (0.408 sec)\n",
            "INFO:tensorflow:global_step/sec: 239.121\n",
            "INFO:tensorflow:loss = 0.00081782864, step = 39801 (0.418 sec)\n",
            "INFO:tensorflow:global_step/sec: 236.659\n",
            "INFO:tensorflow:loss = 0.00049395865, step = 39901 (0.423 sec)\n",
            "INFO:tensorflow:Saving checkpoints for 40000 into /tmp/tmpJfpoIn/model.ckpt.\n",
            "INFO:tensorflow:Loss for final step: 0.0019523132.\n"
          ],
          "name": "stdout"
        },
        {
          "output_type": "execute_result",
          "data": {
            "text/plain": [
              "157.64876794815063"
            ]
          },
          "metadata": {
            "tags": []
          },
          "execution_count": 37
        }
      ]
    },
    {
      "metadata": {
        "id": "lEd2fy2JmsFl",
        "colab_type": "code",
        "colab": {
          "autoexec": {
            "startup": false,
            "wait_interval": 0
          },
          "base_uri": "https://localhost:8080/",
          "height": 173
        },
        "outputId": "55dc37a7-f7c9-4e28-f8ea-96ef313b45b2",
        "executionInfo": {
          "status": "ok",
          "timestamp": 1533481433704,
          "user_tz": 300,
          "elapsed": 2910,
          "user": {
            "displayName": "dalya adams",
            "photoUrl": "https://lh3.googleusercontent.com/a/default-user=s128",
            "userId": "101705127410802501621"
          }
        }
      },
      "cell_type": "code",
      "source": [
        "#training accuracy\n",
        "dnn_clf.score(X_train_mscaled,y_train)"
      ],
      "execution_count": 38,
      "outputs": [
        {
          "output_type": "stream",
          "text": [
            "INFO:tensorflow:Starting evaluation at 2018-08-05-15:03:51\n",
            "INFO:tensorflow:Graph was finalized.\n",
            "INFO:tensorflow:Restoring parameters from /tmp/tmpJfpoIn/model.ckpt-40000\n",
            "INFO:tensorflow:Running local_init_op.\n",
            "INFO:tensorflow:Done running local_init_op.\n",
            "INFO:tensorflow:Finished evaluation at 2018-08-05-15:03:53\n",
            "INFO:tensorflow:Saving dict for global step 40000: accuracy = 1.0, global_step = 40000, loss = 0.00049229775\n"
          ],
          "name": "stdout"
        },
        {
          "output_type": "execute_result",
          "data": {
            "text/plain": [
              "{'accuracy': 1.0, 'global_step': 40000, 'loss': 0.00049229775}"
            ]
          },
          "metadata": {
            "tags": []
          },
          "execution_count": 38
        }
      ]
    },
    {
      "metadata": {
        "id": "sHPj59LCmsRL",
        "colab_type": "code",
        "colab": {
          "autoexec": {
            "startup": false,
            "wait_interval": 0
          },
          "base_uri": "https://localhost:8080/",
          "height": 122
        },
        "outputId": "27a44df7-ace3-456a-d0e1-2b0df3f31a2d",
        "executionInfo": {
          "status": "ok",
          "timestamp": 1533481435919,
          "user_tz": 300,
          "elapsed": 2169,
          "user": {
            "displayName": "dalya adams",
            "photoUrl": "https://lh3.googleusercontent.com/a/default-user=s128",
            "userId": "101705127410802501621"
          }
        }
      },
      "cell_type": "code",
      "source": [
        "yt_pred = dnn_clf.predict(X_train_mscaled)\n",
        "accuracy_score(y_train, yt_pred['classes'])"
      ],
      "execution_count": 39,
      "outputs": [
        {
          "output_type": "stream",
          "text": [
            "INFO:tensorflow:Graph was finalized.\n",
            "INFO:tensorflow:Restoring parameters from /tmp/tmpJfpoIn/model.ckpt-40000\n",
            "INFO:tensorflow:Running local_init_op.\n",
            "INFO:tensorflow:Done running local_init_op.\n"
          ],
          "name": "stdout"
        },
        {
          "output_type": "execute_result",
          "data": {
            "text/plain": [
              "1.0"
            ]
          },
          "metadata": {
            "tags": []
          },
          "execution_count": 39
        }
      ]
    },
    {
      "metadata": {
        "id": "QT-_UQHpm_B9",
        "colab_type": "code",
        "colab": {
          "autoexec": {
            "startup": false,
            "wait_interval": 0
          },
          "base_uri": "https://localhost:8080/",
          "height": 173
        },
        "outputId": "fc2344c0-b7ec-426a-d4b8-0ae4ca023434",
        "executionInfo": {
          "status": "ok",
          "timestamp": 1533481437139,
          "user_tz": 300,
          "elapsed": 1193,
          "user": {
            "displayName": "dalya adams",
            "photoUrl": "https://lh3.googleusercontent.com/a/default-user=s128",
            "userId": "101705127410802501621"
          }
        }
      },
      "cell_type": "code",
      "source": [
        "#test accuracy\n",
        "dnn_clf.score(X_test_mscaled,y_test)"
      ],
      "execution_count": 40,
      "outputs": [
        {
          "output_type": "stream",
          "text": [
            "INFO:tensorflow:Starting evaluation at 2018-08-05-15:03:56\n",
            "INFO:tensorflow:Graph was finalized.\n",
            "INFO:tensorflow:Restoring parameters from /tmp/tmpJfpoIn/model.ckpt-40000\n",
            "INFO:tensorflow:Running local_init_op.\n",
            "INFO:tensorflow:Done running local_init_op.\n",
            "INFO:tensorflow:Finished evaluation at 2018-08-05-15:03:56\n",
            "INFO:tensorflow:Saving dict for global step 40000: accuracy = 0.983, global_step = 40000, loss = 0.07065034\n"
          ],
          "name": "stdout"
        },
        {
          "output_type": "execute_result",
          "data": {
            "text/plain": [
              "{'accuracy': 0.983, 'global_step': 40000, 'loss': 0.07065034}"
            ]
          },
          "metadata": {
            "tags": []
          },
          "execution_count": 40
        }
      ]
    },
    {
      "metadata": {
        "id": "DZwPQGi_nCOO",
        "colab_type": "code",
        "colab": {
          "autoexec": {
            "startup": false,
            "wait_interval": 0
          },
          "base_uri": "https://localhost:8080/",
          "height": 122
        },
        "outputId": "325cb4ed-8511-448d-d5b5-517534049f2b",
        "executionInfo": {
          "status": "ok",
          "timestamp": 1533481438158,
          "user_tz": 300,
          "elapsed": 979,
          "user": {
            "displayName": "dalya adams",
            "photoUrl": "https://lh3.googleusercontent.com/a/default-user=s128",
            "userId": "101705127410802501621"
          }
        }
      },
      "cell_type": "code",
      "source": [
        "y_pred = dnn_clf.predict(X_test_mscaled)\n",
        "accuracy_score(y_test, y_pred['classes'])"
      ],
      "execution_count": 41,
      "outputs": [
        {
          "output_type": "stream",
          "text": [
            "INFO:tensorflow:Graph was finalized.\n",
            "INFO:tensorflow:Restoring parameters from /tmp/tmpJfpoIn/model.ckpt-40000\n",
            "INFO:tensorflow:Running local_init_op.\n",
            "INFO:tensorflow:Done running local_init_op.\n"
          ],
          "name": "stdout"
        },
        {
          "output_type": "execute_result",
          "data": {
            "text/plain": [
              "0.983"
            ]
          },
          "metadata": {
            "tags": []
          },
          "execution_count": 41
        }
      ]
    },
    {
      "metadata": {
        "id": "gBd1lq_OnSY3",
        "colab_type": "text"
      },
      "cell_type": "markdown",
      "source": [
        "Convolution Nueral net attempt (code from here: https://github.com/tflearn/tflearn/blob/master/examples/images/convnet_mnist.py)"
      ]
    },
    {
      "metadata": {
        "id": "oe1Frvv0oimo",
        "colab_type": "code",
        "colab": {
          "autoexec": {
            "startup": false,
            "wait_interval": 0
          },
          "base_uri": "https://localhost:8080/",
          "height": 258
        },
        "outputId": "19192533-fc4a-4cb8-a506-7f902a7d2c3f",
        "executionInfo": {
          "status": "ok",
          "timestamp": 1533499453717,
          "user_tz": 300,
          "elapsed": 5088,
          "user": {
            "displayName": "dalya adams",
            "photoUrl": "https://lh3.googleusercontent.com/a/default-user=s128",
            "userId": "101705127410802501621"
          }
        }
      },
      "cell_type": "code",
      "source": [
        "!pip install tflearn"
      ],
      "execution_count": 2,
      "outputs": [
        {
          "output_type": "stream",
          "text": [
            "Collecting tflearn\n",
            "\u001b[?25l  Downloading https://files.pythonhosted.org/packages/16/ec/e9ce1b52e71f6dff3bd944f020cef7140779e783ab27512ea7c7275ddee5/tflearn-0.3.2.tar.gz (98kB)\n",
            "\u001b[K    100% |████████████████████████████████| 102kB 2.6MB/s \n",
            "\u001b[?25hRequirement already satisfied: numpy in /usr/local/lib/python2.7/dist-packages (from tflearn) (1.14.5)\n",
            "Requirement already satisfied: six in /usr/local/lib/python2.7/dist-packages (from tflearn) (1.11.0)\n",
            "Requirement already satisfied: Pillow in /usr/local/lib/python2.7/dist-packages (from tflearn) (4.0.0)\n",
            "Requirement already satisfied: olefile in /usr/local/lib/python2.7/dist-packages (from Pillow->tflearn) (0.45.1)\n",
            "Building wheels for collected packages: tflearn\n",
            "  Running setup.py bdist_wheel for tflearn ... \u001b[?25l-\b \bdone\n",
            "\u001b[?25h  Stored in directory: /content/.cache/pip/wheels/d0/f6/69/0ef3ee395aac2e5d15d89efd29a9a216f3c27767b43b72c006\n",
            "Successfully built tflearn\n",
            "Installing collected packages: tflearn\n",
            "Successfully installed tflearn-0.3.2\n"
          ],
          "name": "stdout"
        }
      ]
    },
    {
      "metadata": {
        "id": "ZviOQhTunKx-",
        "colab_type": "code",
        "colab": {
          "autoexec": {
            "startup": false,
            "wait_interval": 0
          }
        }
      },
      "cell_type": "code",
      "source": [
        "from __future__ import division, print_function, absolute_import\n",
        "\n",
        "import tflearn\n",
        "from tflearn.layers.core import input_data, dropout, fully_connected\n",
        "from tflearn.layers.conv import conv_2d, max_pool_2d\n",
        "from tflearn.layers.normalization import local_response_normalization\n",
        "from tflearn.layers.estimator import regression"
      ],
      "execution_count": 0,
      "outputs": []
    },
    {
      "metadata": {
        "id": "SDAGODgloV-Q",
        "colab_type": "code",
        "colab": {
          "autoexec": {
            "startup": false,
            "wait_interval": 0
          },
          "base_uri": "https://localhost:8080/",
          "height": 221
        },
        "outputId": "d1c74283-8410-4a5f-a173-b6ef8d04f3a8",
        "executionInfo": {
          "status": "ok",
          "timestamp": 1533499463775,
          "user_tz": 300,
          "elapsed": 3673,
          "user": {
            "displayName": "dalya adams",
            "photoUrl": "https://lh3.googleusercontent.com/a/default-user=s128",
            "userId": "101705127410802501621"
          }
        }
      },
      "cell_type": "code",
      "source": [
        "# Data loading and preprocessing\n",
        "import tflearn.datasets.mnist as mnist\n",
        "X, Y, testX, testY = mnist.load_data(one_hot=True)\n",
        "X = X.reshape([-1, 28, 28, 1])\n",
        "testX = testX.reshape([-1, 28, 28, 1])"
      ],
      "execution_count": 4,
      "outputs": [
        {
          "output_type": "stream",
          "text": [
            "Downloading MNIST...\n",
            "Succesfully downloaded train-images-idx3-ubyte.gz 9912422 bytes.\n",
            "Extracting mnist/train-images-idx3-ubyte.gz\n",
            "Downloading MNIST...\n",
            "Succesfully downloaded train-labels-idx1-ubyte.gz 28881 bytes.\n",
            "Extracting mnist/train-labels-idx1-ubyte.gz\n",
            "Downloading MNIST...\n",
            "Succesfully downloaded t10k-images-idx3-ubyte.gz 1648877 bytes.\n",
            "Extracting mnist/t10k-images-idx3-ubyte.gz\n",
            "Downloading MNIST...\n",
            "Succesfully downloaded t10k-labels-idx1-ubyte.gz 4542 bytes.\n",
            "Extracting mnist/t10k-labels-idx1-ubyte.gz\n"
          ],
          "name": "stdout"
        }
      ]
    },
    {
      "metadata": {
        "id": "8vwbHdfzopu9",
        "colab_type": "code",
        "colab": {
          "autoexec": {
            "startup": false,
            "wait_interval": 0
          },
          "base_uri": "https://localhost:8080/",
          "height": 159
        },
        "outputId": "752850a4-e0ad-4525-ee2c-a479d7867c9f",
        "executionInfo": {
          "status": "ok",
          "timestamp": 1533499466803,
          "user_tz": 300,
          "elapsed": 2987,
          "user": {
            "displayName": "dalya adams",
            "photoUrl": "https://lh3.googleusercontent.com/a/default-user=s128",
            "userId": "101705127410802501621"
          }
        }
      },
      "cell_type": "code",
      "source": [
        "# Building convolutional network\n",
        "network = input_data(shape=[None, 28, 28, 1], name='input')\n",
        "network = conv_2d(network, 32, 3, activation='relu', regularizer=\"L2\")\n",
        "network = max_pool_2d(network, 2)\n",
        "network = local_response_normalization(network)\n",
        "network = conv_2d(network, 64, 3, activation='relu', regularizer=\"L2\")\n",
        "network = max_pool_2d(network, 2)\n",
        "network = local_response_normalization(network)\n",
        "network = fully_connected(network, 128, activation='tanh')\n",
        "network = dropout(network, 0.8)\n",
        "network = fully_connected(network, 256, activation='tanh')\n",
        "network = dropout(network, 0.8)\n",
        "network = fully_connected(network, 10, activation='softmax')\n",
        "network = regression(network, optimizer='adam', learning_rate=0.01,\n",
        "                     loss='categorical_crossentropy', name='target')"
      ],
      "execution_count": 5,
      "outputs": [
        {
          "output_type": "stream",
          "text": [
            "WARNING:tensorflow:From /usr/local/lib/python2.7/dist-packages/tflearn/initializations.py:119: __init__ (from tensorflow.python.ops.init_ops) is deprecated and will be removed in a future version.\n",
            "Instructions for updating:\n",
            "Use tf.initializers.variance_scaling instead with distribution=uniform to get equivalent behavior.\n",
            "WARNING:tensorflow:From /usr/local/lib/python2.7/dist-packages/tflearn/objectives.py:66: calling reduce_sum (from tensorflow.python.ops.math_ops) with keep_dims is deprecated and will be removed in a future version.\n",
            "Instructions for updating:\n",
            "keep_dims is deprecated, use keepdims instead\n"
          ],
          "name": "stdout"
        }
      ]
    },
    {
      "metadata": {
        "id": "nxsFlEOdotBc",
        "colab_type": "code",
        "colab": {
          "autoexec": {
            "startup": false,
            "wait_interval": 0
          },
          "base_uri": "https://localhost:8080/",
          "height": 142
        },
        "outputId": "22c027d6-d9a4-4249-d7a1-0ab8859e06bf",
        "executionInfo": {
          "status": "ok",
          "timestamp": 1533502668860,
          "user_tz": 300,
          "elapsed": 4462,
          "user": {
            "displayName": "dalya adams",
            "photoUrl": "https://lh3.googleusercontent.com/a/default-user=s128",
            "userId": "101705127410802501621"
          }
        }
      },
      "cell_type": "code",
      "source": [
        "# Training\n",
        "start = time.time()\n",
        "model = tflearn.DNN(network, tensorboard_verbose=0)\n",
        "model.fit({'input': X}, {'target': Y}, n_epoch=20,\n",
        "           validation_set=({'input': testX}, {'target': testY}),\n",
        "           snapshot_step=100, show_metric=True, run_id='convnet_mnist')\n",
        "end = time.time()\n",
        "end-start"
      ],
      "execution_count": 8,
      "outputs": [
        {
          "output_type": "stream",
          "text": [
            "Training Step: 17199  | total loss: \u001b[1m\u001b[32m0.36394\u001b[0m\u001b[0m | time: 148.427s\n",
            "| Adam | epoch: 020 | loss: 0.36394 - acc: 0.9188 -- iter: 54976/55000\n",
            "Training Step: 17200  | total loss: \u001b[1m\u001b[32m0.36701\u001b[0m\u001b[0m | time: 153.309s\n",
            "| Adam | epoch: 020 | loss: 0.36701 - acc: 0.9144 | val_loss: 0.16060 - val_acc: 0.9616 -- iter: 55000/55000\n",
            "--\n"
          ],
          "name": "stdout"
        },
        {
          "output_type": "execute_result",
          "data": {
            "text/plain": [
              "3174.746565103531"
            ]
          },
          "metadata": {
            "tags": []
          },
          "execution_count": 8
        }
      ]
    },
    {
      "metadata": {
        "id": "9-cun-wTo5xN",
        "colab_type": "code",
        "colab": {
          "autoexec": {
            "startup": false,
            "wait_interval": 0
          },
          "base_uri": "https://localhost:8080/",
          "height": 34
        },
        "outputId": "74164049-7082-4f37-8646-d4f72208d14f",
        "executionInfo": {
          "status": "ok",
          "timestamp": 1533502789937,
          "user_tz": 300,
          "elapsed": 25447,
          "user": {
            "displayName": "dalya adams",
            "photoUrl": "https://lh3.googleusercontent.com/a/default-user=s128",
            "userId": "101705127410802501621"
          }
        }
      },
      "cell_type": "code",
      "source": [
        "#training accuracy\n",
        "model.evaluate(X,Y)"
      ],
      "execution_count": 9,
      "outputs": [
        {
          "output_type": "execute_result",
          "data": {
            "text/plain": [
              "[0.9551818181384694]"
            ]
          },
          "metadata": {
            "tags": []
          },
          "execution_count": 9
        }
      ]
    },
    {
      "metadata": {
        "id": "7H6570kjo-M6",
        "colab_type": "code",
        "colab": {
          "autoexec": {
            "startup": false,
            "wait_interval": 0
          },
          "base_uri": "https://localhost:8080/",
          "height": 34
        },
        "outputId": "bc7551e0-48e1-4bfb-e6dd-b40dc6550fbd",
        "executionInfo": {
          "status": "ok",
          "timestamp": 1533502796876,
          "user_tz": 300,
          "elapsed": 5811,
          "user": {
            "displayName": "dalya adams",
            "photoUrl": "https://lh3.googleusercontent.com/a/default-user=s128",
            "userId": "101705127410802501621"
          }
        }
      },
      "cell_type": "code",
      "source": [
        "#test accuracy\n",
        "model.evaluate(testX,testY)"
      ],
      "execution_count": 10,
      "outputs": [
        {
          "output_type": "execute_result",
          "data": {
            "text/plain": [
              "[0.9616]"
            ]
          },
          "metadata": {
            "tags": []
          },
          "execution_count": 10
        }
      ]
    },
    {
      "metadata": {
        "id": "Ga5T-qlm1HRz",
        "colab_type": "code",
        "colab": {
          "autoexec": {
            "startup": false,
            "wait_interval": 0
          }
        }
      },
      "cell_type": "code",
      "source": [
        ""
      ],
      "execution_count": 0,
      "outputs": []
    },
    {
      "metadata": {
        "id": "Uv7kYInKov3k",
        "colab_type": "code",
        "colab": {
          "autoexec": {
            "startup": false,
            "wait_interval": 0
          }
        }
      },
      "cell_type": "code",
      "source": [
        "\n",
        "\n"
      ],
      "execution_count": 0,
      "outputs": []
    }
  ]
}