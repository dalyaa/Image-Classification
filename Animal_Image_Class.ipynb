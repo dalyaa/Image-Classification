{
  "nbformat": 4,
  "nbformat_minor": 0,
  "metadata": {
    "colab": {
      "name": "Assignment 7.ipynb",
      "version": "0.3.2",
      "provenance": []
    }
  },
  "cells": [
    {
      "metadata": {
        "id": "WoXm4EquhpAI",
        "colab_type": "text"
      },
      "cell_type": "markdown",
      "source": [
        "##Set Up"
      ]
    },
    {
      "metadata": {
        "id": "ekTGxuqSqmyh",
        "colab_type": "code",
        "colab": {}
      },
      "cell_type": "code",
      "source": [
        "#Authenticate into Google Drive and find file ids in order to read in data files\n",
        "!pip install -U -q PyDrive\n",
        "\n",
        "from pydrive.auth import GoogleAuth\n",
        "from pydrive.drive import GoogleDrive\n",
        "from google.colab import auth\n",
        "from oauth2client.client import GoogleCredentials\n",
        "\n",
        "# 1. Authenticate and create the PyDrive client.\n",
        "auth.authenticate_user()\n",
        "gauth = GoogleAuth()\n",
        "gauth.credentials = GoogleCredentials.get_application_default()\n",
        "drive = GoogleDrive(gauth)"
      ],
      "execution_count": 0,
      "outputs": []
    },
    {
      "metadata": {
        "id": "jiJWaqyk7K3x",
        "colab_type": "code",
        "colab": {}
      },
      "cell_type": "code",
      "source": [
        "import pandas as pd \n",
        "import numpy as np \n",
        "import statsmodels.api as sm  \n",
        "import matplotlib.pyplot as plt \n",
        "from sklearn.model_selection import train_test_split\n",
        "from sklearn import metrics\n",
        "from sklearn.metrics import mean_squared_error\n",
        "from sklearn.model_selection import KFold\n",
        "from sklearn.cross_validation import cross_val_score, cross_val_predict\n",
        "from sklearn.metrics import mean_squared_error, r2_score\n",
        "from sklearn.model_selection import KFold\n",
        "from math import sqrt \n",
        "import tensorflow as tf\n",
        "import time\n",
        "from sklearn.metrics import accuracy_score\n",
        "\n",
        "\n",
        "\n",
        "get_ipython().magic(u'matplotlib inline')\n",
        "#these are some options to control output on your screen \n",
        "pd.set_option('display.notebook_repr_html', False) \n",
        "pd.set_option('display.max_columns', 40) \n",
        "pd.set_option('display.max_rows', 50) \n",
        "pd.set_option('display.width', 120)"
      ],
      "execution_count": 0,
      "outputs": []
    },
    {
      "metadata": {
        "id": "tMEQTPOsR-wh",
        "colab_type": "code",
        "colab": {
          "base_uri": "https://localhost:8080/",
          "height": 238
        },
        "outputId": "78cd1754-656d-49d4-814f-e5be9c24d9ed"
      },
      "cell_type": "code",
      "source": [
        "#https://drive.google.com/open?id=172vL_NlySSs1Pk4bP8DpDjuJoZyosHTm\n",
        "# 2. Load files by ID and print its contents.\n",
        "\n",
        "file_id = '172vL_NlySSs1Pk4bP8DpDjuJoZyosHTm' #Link Share the file and copy the id in the url after \"id=\"\n",
        "file = drive.CreateFile({'id': file_id}) #This creates a file in your virtual machine\n",
        "file.GetContentFile('cats_1000_128_128_3.npy') #This names the file you linked in drive \"cats.npy\"\n",
        "!ls -lha #This lists all the folder in your local folder, you should see \"cats\""
      ],
      "execution_count": 4,
      "outputs": [
        {
          "output_type": "stream",
          "text": [
            "total 376M\r\n",
            "drwxr-xr-x 1 root root 4.0K Aug 19 13:35 .\r\n",
            "drwxr-xr-x 1 root root 4.0K Aug 19 12:50 ..\r\n",
            "-rw-r--r-- 1 root root 2.5K Aug 19 13:35 adc.json\r\n",
            "drwx------ 4 root root 4.0K Aug 19 13:20 .cache\r\n",
            "-rw-r--r-- 1 root root 376M Aug 19 13:35 cats_1000_128_128_3.npy\r\n",
            "drwxr-xr-x 1 root root 4.0K Aug 19 13:35 .config\r\n",
            "lrwxrwxrwx 1 root root    8 Aug 15 20:56 datalab -> /content\r\n",
            "drwxr-xr-x 4 root root 4.0K Aug 19 12:51 .forever\r\n",
            "drwxr-xr-x 5 root root 4.0K Aug 19 13:20 .ipython\r\n",
            "drwxr-xr-x 2 root root 4.0K Aug 19 13:21 .keras\r\n",
            "drwx------ 3 root root 4.0K Aug 19 12:51 .local\r\n",
            "drwxr-xr-x 2 root root 4.0K Aug 15 20:56 sample_data\r\n"
          ],
          "name": "stdout"
        }
      ]
    },
    {
      "metadata": {
        "id": "SWNl0vlyZbrc",
        "colab_type": "code",
        "colab": {
          "base_uri": "https://localhost:8080/",
          "height": 255
        },
        "outputId": "b0a5f3d1-73c3-41d2-bda9-87913065a8c2"
      },
      "cell_type": "code",
      "source": [
        "#https://drive.google.com/open?id=1ViziknStfxFtsBFaaqkr4PHgcjuXkpGR\n",
        "# 2. Load files by ID and print its contents.\n",
        "\n",
        "file_id = '1ViziknStfxFtsBFaaqkr4PHgcjuXkpGR' #Link Share the file and copy the id in the url after \"id=\"\n",
        "file = drive.CreateFile({'id': file_id}) #This creates a file in your virtual machine\n",
        "file.GetContentFile('dogs_1000_128_128_3.npy') #This names the file you linked in drive \"cats.npy\"\n",
        "!ls -lha #This lists all the folder in your local folder, you should see \"cats\""
      ],
      "execution_count": 5,
      "outputs": [
        {
          "output_type": "stream",
          "text": [
            "total 751M\r\n",
            "drwxr-xr-x 1 root root 4.0K Aug 19 13:35 .\r\n",
            "drwxr-xr-x 1 root root 4.0K Aug 19 12:50 ..\r\n",
            "-rw-r--r-- 1 root root 2.5K Aug 19 13:35 adc.json\r\n",
            "drwx------ 4 root root 4.0K Aug 19 13:20 .cache\r\n",
            "-rw-r--r-- 1 root root 376M Aug 19 13:35 cats_1000_128_128_3.npy\r\n",
            "drwxr-xr-x 1 root root 4.0K Aug 19 13:35 .config\r\n",
            "lrwxrwxrwx 1 root root    8 Aug 15 20:56 datalab -> /content\r\n",
            "-rw-r--r-- 1 root root 376M Aug 19 13:35 dogs_1000_128_128_3.npy\r\n",
            "drwxr-xr-x 4 root root 4.0K Aug 19 12:51 .forever\r\n",
            "drwxr-xr-x 5 root root 4.0K Aug 19 13:20 .ipython\r\n",
            "drwxr-xr-x 2 root root 4.0K Aug 19 13:21 .keras\r\n",
            "drwx------ 3 root root 4.0K Aug 19 12:51 .local\r\n",
            "drwxr-xr-x 2 root root 4.0K Aug 15 20:56 sample_data\r\n"
          ],
          "name": "stdout"
        }
      ]
    },
    {
      "metadata": {
        "id": "JXeZM8RPac-t",
        "colab_type": "code",
        "colab": {}
      },
      "cell_type": "code",
      "source": [
        "cats=np.load('cats_1000_128_128_3.npy')"
      ],
      "execution_count": 0,
      "outputs": []
    },
    {
      "metadata": {
        "id": "uUthf8mVamex",
        "colab_type": "code",
        "colab": {}
      },
      "cell_type": "code",
      "source": [
        "\n",
        "dogs = np.load('dogs_1000_128_128_3.npy')\n"
      ],
      "execution_count": 0,
      "outputs": []
    },
    {
      "metadata": {
        "id": "fk_9eBzm7Npr",
        "colab_type": "code",
        "colab": {}
      },
      "cell_type": "code",
      "source": [
        "# seed value for random number generators to obtain reproducible results\n",
        "RANDOM_SEED = 1"
      ],
      "execution_count": 0,
      "outputs": []
    },
    {
      "metadata": {
        "id": "Iedn0RyI7WtH",
        "colab_type": "code",
        "colab": {}
      },
      "cell_type": "code",
      "source": [
        "# function to clear output console\n",
        "def clear():\n",
        "    print(\"\\033[H\\033[J\")"
      ],
      "execution_count": 0,
      "outputs": []
    },
    {
      "metadata": {
        "id": "KmPmYJ30RccH",
        "colab_type": "code",
        "colab": {
          "base_uri": "https://localhost:8080/",
          "height": 310
        },
        "outputId": "aa2fd909-9af5-4082-a8d6-cbd989b095be"
      },
      "cell_type": "code",
      "source": [
        "!pip install tflearn\n",
        "import glob\n",
        "from sklearn.model_selection import StratifiedShuffleSplit, train_test_split\n",
        "from sklearn.metrics import accuracy_score\n",
        "import tensorflow as tf\n",
        "from __future__ import division, print_function, absolute_import\n",
        "\n",
        "import tflearn\n",
        "from tflearn.layers.core import input_data, dropout, fully_connected\n",
        "from tflearn.layers.conv import conv_2d, max_pool_2d\n",
        "from tflearn.layers.normalization import local_response_normalization\n",
        "from tflearn.layers.estimator import regression"
      ],
      "execution_count": 10,
      "outputs": [
        {
          "output_type": "stream",
          "text": [
            "Collecting tflearn\n",
            "\u001b[?25l  Downloading https://files.pythonhosted.org/packages/16/ec/e9ce1b52e71f6dff3bd944f020cef7140779e783ab27512ea7c7275ddee5/tflearn-0.3.2.tar.gz (98kB)\n",
            "\u001b[K    100% |████████████████████████████████| 102kB 4.3MB/s \n",
            "\u001b[?25hRequirement already satisfied: numpy in /usr/local/lib/python2.7/dist-packages (from tflearn) (1.14.5)\n",
            "Requirement already satisfied: six in /usr/local/lib/python2.7/dist-packages (from tflearn) (1.11.0)\n",
            "Requirement already satisfied: Pillow in /usr/local/lib/python2.7/dist-packages (from tflearn) (4.0.0)\n",
            "Requirement already satisfied: olefile in /usr/local/lib/python2.7/dist-packages (from Pillow->tflearn) (0.45.1)\n",
            "Building wheels for collected packages: tflearn\n",
            "  Running setup.py bdist_wheel for tflearn ... \u001b[?25l-\b \bdone\n",
            "\u001b[?25h  Stored in directory: /content/.cache/pip/wheels/d0/f6/69/0ef3ee395aac2e5d15d89efd29a9a216f3c27767b43b72c006\n",
            "Successfully built tflearn\n",
            "Installing collected packages: tflearn\n",
            "Successfully installed tflearn-0.3.2\n"
          ],
          "name": "stdout"
        }
      ]
    },
    {
      "metadata": {
        "id": "atx9erpzRay7",
        "colab_type": "code",
        "colab": {}
      },
      "cell_type": "code",
      "source": [
        "X=np.concatenate((cats,dogs),axis=0)"
      ],
      "execution_count": 0,
      "outputs": []
    },
    {
      "metadata": {
        "id": "9k2I_ciGRsQh",
        "colab_type": "code",
        "colab": {
          "base_uri": "https://localhost:8080/",
          "height": 5236
        },
        "outputId": "dbe73583-004c-421f-c0db-0eb93c3b2dab"
      },
      "cell_type": "code",
      "source": [
        "X.reshape(-1,128,128,3)"
      ],
      "execution_count": 12,
      "outputs": [
        {
          "output_type": "execute_result",
          "data": {
            "text/plain": [
              "array([[[[203., 164.,  87.],\n",
              "         [209., 170.,  93.],\n",
              "         [210., 171.,  94.],\n",
              "         ...,\n",
              "         [247., 207., 125.],\n",
              "         [245., 204., 119.],\n",
              "         [240., 201., 122.]],\n",
              "\n",
              "        [[203., 164.,  87.],\n",
              "         [209., 170.,  93.],\n",
              "         [210., 171.,  94.],\n",
              "         ...,\n",
              "         [247., 209., 128.],\n",
              "         [245., 205., 122.],\n",
              "         [241., 202., 123.]],\n",
              "\n",
              "        [[203., 164.,  87.],\n",
              "         [209., 170.,  93.],\n",
              "         [210., 171.,  94.],\n",
              "         ...,\n",
              "         [247., 210., 130.],\n",
              "         [244., 206., 125.],\n",
              "         [242., 203., 124.]],\n",
              "\n",
              "        ...,\n",
              "\n",
              "        [[158., 124.,  53.],\n",
              "         [160., 126.,  55.],\n",
              "         [161., 127.,  56.],\n",
              "         ...,\n",
              "         [  3.,   4.,   0.],\n",
              "         [  3.,   4.,   0.],\n",
              "         [  2.,   2.,   0.]],\n",
              "\n",
              "        [[154., 123.,  56.],\n",
              "         [156., 125.,  58.],\n",
              "         [158., 127.,  60.],\n",
              "         ...,\n",
              "         [  3.,   3.,   1.],\n",
              "         [  3.,   3.,   1.],\n",
              "         [  3.,   3.,   1.]],\n",
              "\n",
              "        [[152., 121.,  54.],\n",
              "         [153., 122.,  55.],\n",
              "         [157., 126.,  59.],\n",
              "         ...,\n",
              "         [  2.,   2.,   0.],\n",
              "         [  2.,   2.,   0.],\n",
              "         [  2.,   2.,   0.]]],\n",
              "\n",
              "\n",
              "       [[[ 40.,  44.,  41.],\n",
              "         [ 41.,  45.,  44.],\n",
              "         [ 41.,  44.,  49.],\n",
              "         ...,\n",
              "         [165., 166., 155.],\n",
              "         [208., 205., 180.],\n",
              "         [200., 196., 163.]],\n",
              "\n",
              "        [[ 39.,  44.,  39.],\n",
              "         [ 38.,  42.,  41.],\n",
              "         [ 37.,  41.,  45.],\n",
              "         ...,\n",
              "         [160., 160., 150.],\n",
              "         [196., 191., 169.],\n",
              "         [202., 196., 166.]],\n",
              "\n",
              "        [[ 37.,  42.,  38.],\n",
              "         [ 33.,  37.,  36.],\n",
              "         [ 32.,  36.,  40.],\n",
              "         ...,\n",
              "         [161., 159., 153.],\n",
              "         [190., 183., 164.],\n",
              "         [201., 194., 166.]],\n",
              "\n",
              "        ...,\n",
              "\n",
              "        [[ 22.,  20.,  21.],\n",
              "         [ 19.,  17.,  18.],\n",
              "         [ 19.,  17.,  18.],\n",
              "         ...,\n",
              "         [ 55.,  39.,  35.],\n",
              "         [ 84.,  71.,  65.],\n",
              "         [ 36.,  25.,  19.]],\n",
              "\n",
              "        [[ 28.,  26.,  27.],\n",
              "         [ 22.,  20.,  21.],\n",
              "         [ 22.,  20.,  21.],\n",
              "         ...,\n",
              "         [ 51.,  35.,  30.],\n",
              "         [ 47.,  34.,  28.],\n",
              "         [ 43.,  31.,  25.]],\n",
              "\n",
              "        [[ 30.,  28.,  29.],\n",
              "         [ 22.,  19.,  20.],\n",
              "         [ 21.,  19.,  20.],\n",
              "         ...,\n",
              "         [ 63.,  47.,  41.],\n",
              "         [ 50.,  37.,  29.],\n",
              "         [ 45.,  35.,  26.]]],\n",
              "\n",
              "\n",
              "       [[[ 62.,  47.,  50.],\n",
              "         [ 64.,  52.,  55.],\n",
              "         [ 45.,  33.,  39.],\n",
              "         ...,\n",
              "         [141., 136., 117.],\n",
              "         [182., 177., 158.],\n",
              "         [131., 124., 106.]],\n",
              "\n",
              "        [[104.,  86., 105.],\n",
              "         [ 92.,  74.,  93.],\n",
              "         [ 74.,  55.,  74.],\n",
              "         ...,\n",
              "         [145., 134., 118.],\n",
              "         [154., 142., 126.],\n",
              "         [139., 127., 111.]],\n",
              "\n",
              "        [[107., 106., 133.],\n",
              "         [192., 189., 215.],\n",
              "         [197., 192., 215.],\n",
              "         ...,\n",
              "         [152., 139., 123.],\n",
              "         [154., 139., 124.],\n",
              "         [152., 136., 122.]],\n",
              "\n",
              "        ...,\n",
              "\n",
              "        [[ 95.,  87.,  98.],\n",
              "         [ 71.,  60.,  71.],\n",
              "         [187., 172., 183.],\n",
              "         ...,\n",
              "         [ 51.,  40.,  61.],\n",
              "         [ 49.,  39.,  54.],\n",
              "         [ 43.,  34.,  43.]],\n",
              "\n",
              "        [[114., 107., 116.],\n",
              "         [ 63.,  52.,  62.],\n",
              "         [175., 160., 170.],\n",
              "         ...,\n",
              "         [ 54.,  41.,  60.],\n",
              "         [ 52.,  40.,  52.],\n",
              "         [ 74.,  63.,  67.]],\n",
              "\n",
              "        [[123., 116., 123.],\n",
              "         [ 65.,  55.,  63.],\n",
              "         [158., 144., 151.],\n",
              "         ...,\n",
              "         [ 41.,  27.,  43.],\n",
              "         [ 38.,  25.,  33.],\n",
              "         [203., 191., 190.]]],\n",
              "\n",
              "\n",
              "       ...,\n",
              "\n",
              "\n",
              "       [[[154., 136., 122.],\n",
              "         [186., 168., 154.],\n",
              "         [176., 158., 144.],\n",
              "         ...,\n",
              "         [189., 168., 145.],\n",
              "         [161., 139., 116.],\n",
              "         [179., 157., 134.]],\n",
              "\n",
              "        [[168., 150., 136.],\n",
              "         [192., 174., 160.],\n",
              "         [172., 154., 140.],\n",
              "         ...,\n",
              "         [163., 141., 118.],\n",
              "         [159., 138., 115.],\n",
              "         [168., 146., 123.]],\n",
              "\n",
              "        [[174., 156., 142.],\n",
              "         [176., 158., 144.],\n",
              "         [184., 166., 152.],\n",
              "         ...,\n",
              "         [167., 145., 122.],\n",
              "         [165., 143., 120.],\n",
              "         [189., 167., 144.]],\n",
              "\n",
              "        ...,\n",
              "\n",
              "        [[ 43.,  51.,  64.],\n",
              "         [ 33.,  41.,  54.],\n",
              "         [ 29.,  37.,  50.],\n",
              "         ...,\n",
              "         [190., 172., 158.],\n",
              "         [163., 146., 132.],\n",
              "         [137., 119., 105.]],\n",
              "\n",
              "        [[ 35.,  43.,  56.],\n",
              "         [ 27.,  35.,  48.],\n",
              "         [ 32.,  40.,  53.],\n",
              "         ...,\n",
              "         [182., 164., 150.],\n",
              "         [139., 121., 107.],\n",
              "         [ 99.,  81.,  67.]],\n",
              "\n",
              "        [[ 28.,  35.,  48.],\n",
              "         [ 21.,  29.,  42.],\n",
              "         [ 34.,  41.,  55.],\n",
              "         ...,\n",
              "         [174., 156., 142.],\n",
              "         [133., 116., 101.],\n",
              "         [131., 113.,  99.]]],\n",
              "\n",
              "\n",
              "       [[[ 64.,  92.,  41.],\n",
              "         [ 65.,  93.,  42.],\n",
              "         [ 66.,  94.,  43.],\n",
              "         ...,\n",
              "         [ 91., 115.,  55.],\n",
              "         [ 89., 114.,  54.],\n",
              "         [ 89., 113.,  53.]],\n",
              "\n",
              "        [[ 65.,  93.,  42.],\n",
              "         [ 67.,  95.,  44.],\n",
              "         [ 64.,  92.,  41.],\n",
              "         ...,\n",
              "         [ 91., 115.,  55.],\n",
              "         [ 89., 113.,  53.],\n",
              "         [ 89., 113.,  53.]],\n",
              "\n",
              "        [[ 64.,  93.,  42.],\n",
              "         [ 66.,  94.,  43.],\n",
              "         [ 68.,  96.,  45.],\n",
              "         ...,\n",
              "         [ 91., 115.,  55.],\n",
              "         [ 90., 113.,  53.],\n",
              "         [ 89., 113.,  53.]],\n",
              "\n",
              "        ...,\n",
              "\n",
              "        [[134., 134., 114.],\n",
              "         [106.,  96.,  69.],\n",
              "         [ 98.,  81.,  51.],\n",
              "         ...,\n",
              "         [ 89., 112.,  60.],\n",
              "         [ 89., 112.,  60.],\n",
              "         [ 89., 112.,  60.]],\n",
              "\n",
              "        [[133., 132., 112.],\n",
              "         [109.,  98.,  71.],\n",
              "         [ 97.,  80.,  50.],\n",
              "         ...,\n",
              "         [ 89., 112.,  60.],\n",
              "         [ 88., 111.,  59.],\n",
              "         [ 87., 110.,  58.]],\n",
              "\n",
              "        [[138., 139., 118.],\n",
              "         [113., 104.,  82.],\n",
              "         [ 96.,  82.,  56.],\n",
              "         ...,\n",
              "         [ 90., 110.,  59.],\n",
              "         [ 87., 110.,  59.],\n",
              "         [ 85., 112.,  59.]]],\n",
              "\n",
              "\n",
              "       [[[117., 135., 154.],\n",
              "         [140., 145., 158.],\n",
              "         [131., 123., 152.],\n",
              "         ...,\n",
              "         [174., 186., 177.],\n",
              "         [227., 230., 214.],\n",
              "         [222., 234., 208.]],\n",
              "\n",
              "        [[130., 133., 144.],\n",
              "         [150., 152., 159.],\n",
              "         [163., 162., 190.],\n",
              "         ...,\n",
              "         [215., 220., 206.],\n",
              "         [221., 225., 201.],\n",
              "         [222., 233., 202.]],\n",
              "\n",
              "        [[140., 136., 141.],\n",
              "         [141., 143., 145.],\n",
              "         [124., 128., 152.],\n",
              "         ...,\n",
              "         [149., 148., 138.],\n",
              "         [160., 163., 145.],\n",
              "         [157., 160., 153.]],\n",
              "\n",
              "        ...,\n",
              "\n",
              "        [[124., 120., 117.],\n",
              "         [166., 151., 149.],\n",
              "         [134., 131., 145.],\n",
              "         ...,\n",
              "         [245., 204., 212.],\n",
              "         [225., 188., 193.],\n",
              "         [212., 175., 183.]],\n",
              "\n",
              "        [[146., 142., 139.],\n",
              "         [166., 151., 149.],\n",
              "         [164., 161., 180.],\n",
              "         ...,\n",
              "         [235., 194., 202.],\n",
              "         [215., 179., 183.],\n",
              "         [214., 177., 185.]],\n",
              "\n",
              "        [[165., 155., 160.],\n",
              "         [174., 161., 168.],\n",
              "         [178., 182., 186.],\n",
              "         ...,\n",
              "         [225., 188., 197.],\n",
              "         [211., 176., 183.],\n",
              "         [224., 183., 190.]]]])"
            ]
          },
          "metadata": {
            "tags": []
          },
          "execution_count": 12
        }
      ]
    },
    {
      "metadata": {
        "id": "jQptfMbBiOiT",
        "colab_type": "code",
        "colab": {}
      },
      "cell_type": "code",
      "source": [
        "y_cat=np.concatenate((np.zeros((1000,1),dtype=np.int8),np.ones((1000,1),dtype=np.int8)),axis=1)\n",
        "y_dog=np.concatenate((np.ones((1000,1),dtype=np.int8),np.zeros((1000,1),dtype=np.int8)),axis=1)\n"
      ],
      "execution_count": 0,
      "outputs": []
    },
    {
      "metadata": {
        "id": "K0qPbth6laMq",
        "colab_type": "code",
        "colab": {}
      },
      "cell_type": "code",
      "source": [
        "y=np.concatenate((y_cat, y_dog), axis=0)"
      ],
      "execution_count": 0,
      "outputs": []
    },
    {
      "metadata": {
        "id": "aXQrYGzt14lP",
        "colab_type": "code",
        "colab": {
          "base_uri": "https://localhost:8080/",
          "height": 34
        },
        "outputId": "ca684934-e706-4676-a659-984ec3fe1967"
      },
      "cell_type": "code",
      "source": [
        "y.shape\n"
      ],
      "execution_count": 15,
      "outputs": [
        {
          "output_type": "execute_result",
          "data": {
            "text/plain": [
              "(2000, 2)"
            ]
          },
          "metadata": {
            "tags": []
          },
          "execution_count": 15
        }
      ]
    },
    {
      "metadata": {
        "id": "JCTAdz6MecQ-",
        "colab_type": "code",
        "colab": {
          "base_uri": "https://localhost:8080/",
          "height": 34
        },
        "outputId": "e157b8ac-2240-45a6-c2ea-737e3e74002f"
      },
      "cell_type": "code",
      "source": [
        "X.shape"
      ],
      "execution_count": 16,
      "outputs": [
        {
          "output_type": "execute_result",
          "data": {
            "text/plain": [
              "(2000, 128, 128, 3)"
            ]
          },
          "metadata": {
            "tags": []
          },
          "execution_count": 16
        }
      ]
    },
    {
      "metadata": {
        "id": "r2TgdAlDctGi",
        "colab_type": "code",
        "colab": {}
      },
      "cell_type": "code",
      "source": [
        "X_train,X_test,y_train,y_test=train_test_split(X, y,test_size=0.20,random_state=RANDOM_SEED)"
      ],
      "execution_count": 0,
      "outputs": []
    },
    {
      "metadata": {
        "id": "90FCkLvfbXrX",
        "colab_type": "text"
      },
      "cell_type": "markdown",
      "source": [
        "##Lets try to run some stuff"
      ]
    },
    {
      "metadata": {
        "id": "Z0BucKEm6pY0",
        "colab_type": "text"
      },
      "cell_type": "markdown",
      "source": [
        "###Attempt 1"
      ]
    },
    {
      "metadata": {
        "id": "vZVB9L6BK8YQ",
        "colab_type": "code",
        "colab": {}
      },
      "cell_type": "code",
      "source": [
        "tf.reset_default_graph()"
      ],
      "execution_count": 0,
      "outputs": []
    },
    {
      "metadata": {
        "id": "Oo0bMUzT6zNJ",
        "colab_type": "code",
        "colab": {
          "base_uri": "https://localhost:8080/",
          "height": 239
        },
        "outputId": "9a3f6e47-b335-4b53-8e50-d4d78327bcfd"
      },
      "cell_type": "code",
      "source": [
        "# Building convolutional network\n",
        "convnet = input_data(shape=[None, 128,128,3], name='input')\n",
        "\n",
        "convnet = conv_2d(convnet, 32, 5, activation='relu')\n",
        "convnet = max_pool_2d(convnet, 5)\n",
        "\n",
        "convnet = conv_2d(convnet, 64, 5, activation='relu')\n",
        "convnet = max_pool_2d(convnet, 5)\n",
        "\n",
        "convnet = conv_2d(convnet, 128, 5, activation='relu')\n",
        "convnet = max_pool_2d(convnet, 5)\n",
        "\n",
        "convnet = conv_2d(convnet, 64, 5, activation='relu')\n",
        "convnet = max_pool_2d(convnet, 5)\n",
        "\n",
        "convnet = conv_2d(convnet, 32, 5, activation='relu')\n",
        "convnet = max_pool_2d(convnet, 5)\n",
        "\n",
        "convnet = fully_connected(convnet, 1024, activation='relu')\n",
        "convnet = dropout(convnet, 0.8)\n",
        "\n",
        "convnet = fully_connected(convnet, 2, activation='softmax')\n",
        "convnet = regression(convnet, optimizer='adam', learning_rate= 0.001, loss='categorical_crossentropy', name='targets')"
      ],
      "execution_count": 18,
      "outputs": [
        {
          "output_type": "stream",
          "text": [
            "WARNING:tensorflow:From /usr/local/lib/python2.7/dist-packages/tflearn/initializations.py:119: __init__ (from tensorflow.python.ops.init_ops) is deprecated and will be removed in a future version.\n",
            "Instructions for updating:\n",
            "Use tf.initializers.variance_scaling instead with distribution=uniform to get equivalent behavior.\n",
            "WARNING:tensorflow:From /usr/local/lib/python2.7/dist-packages/tflearn/objectives.py:66: calling reduce_sum (from tensorflow.python.ops.math_ops) with keep_dims is deprecated and will be removed in a future version.\n",
            "Instructions for updating:\n",
            "keep_dims is deprecated, use keepdims instead\n"
          ],
          "name": "stdout"
        }
      ]
    },
    {
      "metadata": {
        "id": "eK_N72kK60b2",
        "colab_type": "code",
        "colab": {
          "base_uri": "https://localhost:8080/",
          "height": 159
        },
        "outputId": "aba9815f-59d7-4944-c134-3760b3015d90"
      },
      "cell_type": "code",
      "source": [
        "start = time.time()\n",
        "model = tflearn.DNN(convnet, tensorboard_dir='log', tensorboard_verbose=0)\n",
        "model.fit({'input': X_train}, {'targets': y_train}, n_epoch=10, \n",
        "          validation_set=({'input': X_test}, {'targets': y_test}), \n",
        "          snapshot_step=500, show_metric=True)\n",
        "end = time.time()\n",
        "end-start"
      ],
      "execution_count": 19,
      "outputs": [
        {
          "output_type": "stream",
          "text": [
            "Training Step: 249  | total loss: \u001b[1m\u001b[32m0.14918\u001b[0m\u001b[0m | time: 51.769s\n",
            "| Adam | epoch: 010 | loss: 0.14918 - acc: 0.9396 -- iter: 1536/1600\n",
            "Training Step: 250  | total loss: \u001b[1m\u001b[32m0.15015\u001b[0m\u001b[0m | time: 59.346s\n",
            "| Adam | epoch: 010 | loss: 0.15015 - acc: 0.9378 | val_loss: 0.99370 - val_acc: 0.7400 -- iter: 1600/1600\n",
            "--\n"
          ],
          "name": "stdout"
        },
        {
          "output_type": "execute_result",
          "data": {
            "text/plain": [
              "599.6702761650085"
            ]
          },
          "metadata": {
            "tags": []
          },
          "execution_count": 19
        }
      ]
    },
    {
      "metadata": {
        "id": "Cd_hWr6G60fp",
        "colab_type": "code",
        "colab": {
          "base_uri": "https://localhost:8080/",
          "height": 34
        },
        "outputId": "759f3326-5f15-4174-a83b-ed6885c66285"
      },
      "cell_type": "code",
      "source": [
        "#training accuracy\n",
        "model.evaluate(X_train,y_train)\n",
        "#.969"
      ],
      "execution_count": 20,
      "outputs": [
        {
          "output_type": "execute_result",
          "data": {
            "text/plain": [
              "[0.969375]"
            ]
          },
          "metadata": {
            "tags": []
          },
          "execution_count": 20
        }
      ]
    },
    {
      "metadata": {
        "id": "m8uV_RlU60jG",
        "colab_type": "code",
        "colab": {
          "base_uri": "https://localhost:8080/",
          "height": 34
        },
        "outputId": "87767117-6c0a-4bc9-c96b-d417a6f90f08"
      },
      "cell_type": "code",
      "source": [
        "#test accuracy\n",
        "model.evaluate(X_test,y_test)\n",
        "#.7400"
      ],
      "execution_count": 21,
      "outputs": [
        {
          "output_type": "execute_result",
          "data": {
            "text/plain": [
              "[0.74]"
            ]
          },
          "metadata": {
            "tags": []
          },
          "execution_count": 21
        }
      ]
    },
    {
      "metadata": {
        "id": "ArQUZsaG7F0e",
        "colab_type": "text"
      },
      "cell_type": "markdown",
      "source": [
        "###Attempt 2"
      ]
    },
    {
      "metadata": {
        "id": "y4n6_SiEK6OP",
        "colab_type": "code",
        "colab": {}
      },
      "cell_type": "code",
      "source": [
        "tf.reset_default_graph()"
      ],
      "execution_count": 0,
      "outputs": []
    },
    {
      "metadata": {
        "id": "sDdR-twffsGv",
        "colab_type": "code",
        "colab": {
          "base_uri": "https://localhost:8080/",
          "height": 219
        },
        "outputId": "18a83b35-61e3-43af-cb48-9533b2ffee3c"
      },
      "cell_type": "code",
      "source": [
        "# Building convolutional network\n",
        "convnet = input_data(shape=[None, 128,128,3], name='input')\n",
        "\n",
        "convnet = conv_2d(convnet, 128, 5, activation='relu')\n",
        "convnet = max_pool_2d(convnet, 5)\n",
        "\n",
        "convnet = conv_2d(convnet, 256, 5, activation='relu')\n",
        "convnet = max_pool_2d(convnet, 5)\n",
        "\n",
        "convnet = conv_2d(convnet, 512, 5, activation='relu')\n",
        "convnet = max_pool_2d(convnet, 5)\n",
        "\n",
        "convnet = conv_2d(convnet, 256, 5, activation='relu')\n",
        "convnet = max_pool_2d(convnet, 5)\n",
        "\n",
        "convnet = conv_2d(convnet, 128, 5, activation='relu')\n",
        "convnet = max_pool_2d(convnet, 5)\n",
        "\n",
        "convnet = fully_connected(convnet, 1024, activation='relu')\n",
        "convnet = dropout(convnet, 0.8)\n",
        "\n",
        "convnet = fully_connected(convnet, 2, activation='softmax')\n",
        "convnet = regression(convnet, optimizer='adam', learning_rate= 0.001, loss='categorical_crossentropy', name='targets')"
      ],
      "execution_count": 18,
      "outputs": [
        {
          "output_type": "stream",
          "text": [
            "WARNING:tensorflow:From /usr/local/lib/python2.7/dist-packages/tflearn/initializations.py:119: __init__ (from tensorflow.python.ops.init_ops) is deprecated and will be removed in a future version.\n",
            "Instructions for updating:\n",
            "Use tf.initializers.variance_scaling instead with distribution=uniform to get equivalent behavior.\n",
            "WARNING:tensorflow:From /usr/local/lib/python2.7/dist-packages/tflearn/objectives.py:66: calling reduce_sum (from tensorflow.python.ops.math_ops) with keep_dims is deprecated and will be removed in a future version.\n",
            "Instructions for updating:\n",
            "keep_dims is deprecated, use keepdims instead\n"
          ],
          "name": "stdout"
        }
      ]
    },
    {
      "metadata": {
        "id": "9s3wzyNKf6G7",
        "colab_type": "code",
        "colab": {
          "base_uri": "https://localhost:8080/",
          "height": 162
        },
        "outputId": "95196891-86b9-4183-f9a6-7617efa0813c"
      },
      "cell_type": "code",
      "source": [
        "start = time.time()\n",
        "model = tflearn.DNN(convnet, tensorboard_dir='log', tensorboard_verbose=0)\n",
        "model.fit({'input': X_train}, {'targets': y_train}, n_epoch=10, \n",
        "          validation_set=({'input': X_test}, {'targets': y_test}), \n",
        "          snapshot_step=500, show_metric=True)\n",
        "end = time.time()\n",
        "end-start"
      ],
      "execution_count": 19,
      "outputs": [
        {
          "output_type": "stream",
          "text": [
            "Training Step: 249  | total loss: \u001b[1m\u001b[32m11.45645\u001b[0m\u001b[0m | time: 248.639s\n",
            "| Adam | epoch: 010 | loss: 11.45645 - acc: 0.5025 -- iter: 1536/1600\n",
            "Training Step: 250  | total loss: \u001b[1m\u001b[32m11.35417\u001b[0m\u001b[0m | time: 275.343s\n",
            "| Adam | epoch: 010 | loss: 11.35417 - acc: 0.5069 | val_loss: 11.22510 - val_acc: 0.5125 -- iter: 1600/1600\n",
            "--\n"
          ],
          "name": "stdout"
        },
        {
          "output_type": "execute_result",
          "data": {
            "text/plain": [
              "2771.5039699077606"
            ]
          },
          "metadata": {
            "tags": []
          },
          "execution_count": 19
        }
      ]
    },
    {
      "metadata": {
        "id": "ZrNM54-NZwLP",
        "colab_type": "code",
        "colab": {
          "base_uri": "https://localhost:8080/",
          "height": 34
        },
        "outputId": "6326345a-ad15-4eb2-81cc-5af9a28e8232"
      },
      "cell_type": "code",
      "source": [
        "#training accuracy\n",
        "model.evaluate(X_train,y_train)\n",
        "# accuracy: 0.88"
      ],
      "execution_count": 20,
      "outputs": [
        {
          "output_type": "execute_result",
          "data": {
            "text/plain": [
              "[0.496875]"
            ]
          },
          "metadata": {
            "tags": []
          },
          "execution_count": 20
        }
      ]
    },
    {
      "metadata": {
        "id": "NgzPh0_oaW7V",
        "colab_type": "code",
        "colab": {
          "base_uri": "https://localhost:8080/",
          "height": 34
        },
        "outputId": "27376317-fcfb-4caa-9275-0c4016a433cf"
      },
      "cell_type": "code",
      "source": [
        "#test accuracy\n",
        "model.evaluate(X_test,y_test)\n",
        "#accuracy: 0.7425"
      ],
      "execution_count": 21,
      "outputs": [
        {
          "output_type": "execute_result",
          "data": {
            "text/plain": [
              "[0.5125]"
            ]
          },
          "metadata": {
            "tags": []
          },
          "execution_count": 21
        }
      ]
    },
    {
      "metadata": {
        "id": "JhydnwQcvGsn",
        "colab_type": "text"
      },
      "cell_type": "markdown",
      "source": [
        "###Attempt 3\n"
      ]
    },
    {
      "metadata": {
        "id": "FjuqZHGnK5Cv",
        "colab_type": "code",
        "colab": {}
      },
      "cell_type": "code",
      "source": [
        "tf.reset_default_graph()"
      ],
      "execution_count": 0,
      "outputs": []
    },
    {
      "metadata": {
        "id": "3yJe8XjHvJX-",
        "colab_type": "code",
        "colab": {}
      },
      "cell_type": "code",
      "source": [
        "network = input_data(shape=[None, 128,128,3], name='input')\n",
        "network = conv_2d(network, 32, 3, activation='relu', regularizer=\"L2\")\n",
        "network = max_pool_2d(network, 2)\n",
        "network = local_response_normalization(network)\n",
        "network = conv_2d(network, 64, 3, activation='relu', regularizer=\"L2\")\n",
        "network = max_pool_2d(network, 2)\n",
        "network = local_response_normalization(network)\n",
        "network = fully_connected(network, 128, activation='tanh')\n",
        "network = dropout(network, 0.8)\n",
        "network = fully_connected(network, 256, activation='tanh')\n",
        "network = dropout(network, 0.8)\n",
        "network = fully_connected(network, 2, activation='softmax')\n",
        "network = regression(network, optimizer='adam', learning_rate=0.01,\n",
        "                     loss='categorical_crossentropy', name='target')"
      ],
      "execution_count": 0,
      "outputs": []
    },
    {
      "metadata": {
        "id": "pPd0qzF4vOFt",
        "colab_type": "code",
        "colab": {
          "base_uri": "https://localhost:8080/",
          "height": 162
        },
        "outputId": "baaaa3f6-d45a-4902-8bb8-f433cf421f9b"
      },
      "cell_type": "code",
      "source": [
        "# Training\n",
        "start = time.time()\n",
        "model = tflearn.DNN(network, tensorboard_verbose=0)\n",
        "model.fit({'input': X}, {'target': y}, n_epoch=20,\n",
        "           validation_set=({'input': X_test}, {'target': y_test}),\n",
        "           snapshot_step=100, show_metric=True)\n",
        "end = time.time()\n",
        "end-start"
      ],
      "execution_count": 24,
      "outputs": [
        {
          "output_type": "stream",
          "text": [
            "Training Step: 639  | total loss: \u001b[1m\u001b[32m0.72340\u001b[0m\u001b[0m | time: 99.819s\n",
            "| Adam | epoch: 020 | loss: 0.72340 - acc: 0.4824 -- iter: 1984/2000\n",
            "Training Step: 640  | total loss: \u001b[1m\u001b[32m0.71694\u001b[0m\u001b[0m | time: 107.914s\n",
            "| Adam | epoch: 020 | loss: 0.71694 - acc: 0.4967 | val_loss: 0.72979 - val_acc: 0.4875 -- iter: 2000/2000\n",
            "--\n"
          ],
          "name": "stdout"
        },
        {
          "output_type": "execute_result",
          "data": {
            "text/plain": [
              "2240.4847519397736"
            ]
          },
          "metadata": {
            "tags": []
          },
          "execution_count": 24
        }
      ]
    },
    {
      "metadata": {
        "id": "2EmOU610vQKl",
        "colab_type": "code",
        "colab": {
          "base_uri": "https://localhost:8080/",
          "height": 34
        },
        "outputId": "288c277b-3109-4fb4-c53d-0c04c2c400d0"
      },
      "cell_type": "code",
      "source": [
        "#training accuracy\n",
        "model.evaluate(X,y)\n",
        "#accuracy: .50"
      ],
      "execution_count": 25,
      "outputs": [
        {
          "output_type": "execute_result",
          "data": {
            "text/plain": [
              "[0.5]"
            ]
          },
          "metadata": {
            "tags": []
          },
          "execution_count": 25
        }
      ]
    },
    {
      "metadata": {
        "id": "ZHPQswqovQV5",
        "colab_type": "code",
        "colab": {
          "base_uri": "https://localhost:8080/",
          "height": 34
        },
        "outputId": "126ecf79-ff8d-46ba-ef32-565d12886b23"
      },
      "cell_type": "code",
      "source": [
        "#test accuracy\n",
        "model.evaluate(X_test,y_test)\n",
        "#accuracy: .5125"
      ],
      "execution_count": 26,
      "outputs": [
        {
          "output_type": "execute_result",
          "data": {
            "text/plain": [
              "[0.4875]"
            ]
          },
          "metadata": {
            "tags": []
          },
          "execution_count": 26
        }
      ]
    },
    {
      "metadata": {
        "id": "a-IugPV2xnZY",
        "colab_type": "text"
      },
      "cell_type": "markdown",
      "source": [
        "###Attempt # 4 with scaled data"
      ]
    },
    {
      "metadata": {
        "id": "TZAecAC3K3sM",
        "colab_type": "code",
        "colab": {}
      },
      "cell_type": "code",
      "source": [
        "tf.reset_default_graph()"
      ],
      "execution_count": 0,
      "outputs": []
    },
    {
      "metadata": {
        "id": "Hrff_PyUlxJu",
        "colab_type": "code",
        "colab": {
          "base_uri": "https://localhost:8080/",
          "height": 159
        },
        "outputId": "6ecf3dba-39a5-4549-eda2-ab576a490f1f"
      },
      "cell_type": "code",
      "source": [
        "# Building convolutional network\n",
        "convnet = input_data(shape=[None, 128,128,3], name='input')\n",
        "\n",
        "convnet = conv_2d(convnet, 128, 5, activation='relu')\n",
        "convnet = max_pool_2d(convnet, 5)\n",
        "\n",
        "convnet = conv_2d(convnet, 256, 5, activation='relu')\n",
        "convnet = max_pool_2d(convnet, 5)\n",
        "\n",
        "convnet = conv_2d(convnet, 512, 5, activation='relu')\n",
        "convnet = max_pool_2d(convnet, 5)\n",
        "\n",
        "convnet = conv_2d(convnet, 256, 5, activation='relu')\n",
        "convnet = max_pool_2d(convnet, 5)\n",
        "\n",
        "convnet = conv_2d(convnet, 128, 5, activation='relu')\n",
        "convnet = max_pool_2d(convnet, 5)\n",
        "\n",
        "convnet = fully_connected(convnet, 128, activation='relu')\n",
        "convnet = dropout(convnet, 0.5)\n",
        "\n",
        "convnet = fully_connected(convnet, 2, activation='softmax')\n",
        "convnet = regression(convnet, optimizer='adam', learning_rate= 0.001, loss='categorical_crossentropy', name='targets')"
      ],
      "execution_count": 19,
      "outputs": [
        {
          "output_type": "stream",
          "text": [
            "WARNING:tensorflow:From /usr/local/lib/python2.7/dist-packages/tflearn/initializations.py:119: __init__ (from tensorflow.python.ops.init_ops) is deprecated and will be removed in a future version.\n",
            "Instructions for updating:\n",
            "Use tf.initializers.variance_scaling instead with distribution=uniform to get equivalent behavior.\n",
            "WARNING:tensorflow:From /usr/local/lib/python2.7/dist-packages/tflearn/objectives.py:66: calling reduce_sum (from tensorflow.python.ops.math_ops) with keep_dims is deprecated and will be removed in a future version.\n",
            "Instructions for updating:\n",
            "keep_dims is deprecated, use keepdims instead\n"
          ],
          "name": "stdout"
        }
      ]
    },
    {
      "metadata": {
        "id": "wtUOecQqiMh1",
        "colab_type": "code",
        "colab": {
          "base_uri": "https://localhost:8080/",
          "height": 119
        },
        "outputId": "49a5c923-aff8-45fd-de17-b87400107fb3"
      },
      "cell_type": "code",
      "source": [
        "start = time.time()\n",
        "model = tflearn.DNN(convnet, tensorboard_dir='log', tensorboard_verbose=0)\n",
        "model.fit({'input': X_train}, {'targets': y_train}, n_epoch=10, \n",
        "          validation_set=({'input': X_test}, {'targets': y_test}), \n",
        "          snapshot_step=500, show_metric=True)\n",
        "end = time.time()\n",
        "end-start"
      ],
      "execution_count": 20,
      "outputs": [
        {
          "output_type": "stream",
          "text": [
            "Training Step: 249  | total loss: \u001b[1m\u001b[32m0.35153\u001b[0m\u001b[0m | time: 226.771s\n",
            "| Adam | epoch: 010 | loss: 0.35153 - acc: 0.8509 -- iter: 1536/1600\n",
            "Training Step: 250  | total loss: \u001b[1m\u001b[32m0.36332\u001b[0m\u001b[0m | time: 251.952s\n",
            "| Adam | epoch: 010 | loss: 0.36332 - acc: 0.8471 | val_loss: 0.68354 - val_acc: 0.7250 -- iter: 1600/1600\n",
            "--\n"
          ],
          "name": "stdout"
        },
        {
          "output_type": "execute_result",
          "data": {
            "text/plain": [
              "2473.7584409713745"
            ]
          },
          "metadata": {
            "tags": []
          },
          "execution_count": 20
        }
      ]
    },
    {
      "metadata": {
        "id": "k4H0Nn9Jfr37",
        "colab_type": "code",
        "colab": {
          "base_uri": "https://localhost:8080/",
          "height": 34
        },
        "outputId": "2a6fc31f-2bcf-416d-dfbd-8da75af92c9c"
      },
      "cell_type": "code",
      "source": [
        "#training accuracy\n",
        "model.evaluate(X_train,y_train)\n",
        "# accuracy: .9156"
      ],
      "execution_count": 21,
      "outputs": [
        {
          "output_type": "execute_result",
          "data": {
            "text/plain": [
              "[0.900625]"
            ]
          },
          "metadata": {
            "tags": []
          },
          "execution_count": 21
        }
      ]
    },
    {
      "metadata": {
        "id": "70C9GBameVKE",
        "colab_type": "code",
        "colab": {
          "base_uri": "https://localhost:8080/",
          "height": 34
        },
        "outputId": "90df4c64-9704-4052-f92b-0c6b3134e84e"
      },
      "cell_type": "code",
      "source": [
        "#test accuracy\n",
        "model.evaluate(X_test,y_test)\n",
        "#accuracy: .7475"
      ],
      "execution_count": 22,
      "outputs": [
        {
          "output_type": "execute_result",
          "data": {
            "text/plain": [
              "[0.725]"
            ]
          },
          "metadata": {
            "tags": []
          },
          "execution_count": 22
        }
      ]
    },
    {
      "metadata": {
        "id": "TgLS9Uy3_riJ",
        "colab_type": "text"
      },
      "cell_type": "markdown",
      "source": [
        "### Attempt 5"
      ]
    },
    {
      "metadata": {
        "id": "006UYSRBKqxO",
        "colab_type": "code",
        "colab": {}
      },
      "cell_type": "code",
      "source": [
        "tf.reset_default_graph()"
      ],
      "execution_count": 0,
      "outputs": []
    },
    {
      "metadata": {
        "id": "Xl56EQJf4u5W",
        "colab_type": "code",
        "colab": {}
      },
      "cell_type": "code",
      "source": [
        "# Building convolutional network\n",
        "convnet = input_data(shape=[None, 128,128,3], name='input')\n",
        "\n",
        "convnet = conv_2d(convnet, 128, 5, activation='relu')\n",
        "convnet = max_pool_2d(convnet, 5)\n",
        "\n",
        "convnet = conv_2d(convnet, 64, 5, activation='relu')\n",
        "convnet = max_pool_2d(convnet, 5)\n",
        "\n",
        "convnet = conv_2d(convnet, 32, 5, activation='relu')\n",
        "convnet = max_pool_2d(convnet, 5)\n",
        "\n",
        "convnet = conv_2d(convnet, 64, 5, activation='relu')\n",
        "convnet = max_pool_2d(convnet, 5)\n",
        "\n",
        "convnet = conv_2d(convnet, 128, 5, activation='relu')\n",
        "convnet = max_pool_2d(convnet, 5)\n",
        "\n",
        "convnet = fully_connected(convnet, 128, activation='relu')\n",
        "convnet = dropout(convnet, 0.5)\n",
        "\n",
        "convnet = fully_connected(convnet, 2, activation='softmax')\n",
        "convnet = regression(convnet, optimizer='adam', learning_rate= 0.001, loss='categorical_crossentropy', name='targets')"
      ],
      "execution_count": 0,
      "outputs": []
    },
    {
      "metadata": {
        "id": "ItG0sOzU4vCM",
        "colab_type": "code",
        "colab": {
          "base_uri": "https://localhost:8080/",
          "height": 51
        },
        "outputId": "94785219-4145-4b9d-8d5d-fd39f5da4357"
      },
      "cell_type": "code",
      "source": [
        "start = time.time()\n",
        "model = tflearn.DNN(convnet, tensorboard_dir='log', tensorboard_verbose=0)\n",
        "model.fit({'input': X_train}, {'targets': y_train}, n_epoch=10, \n",
        "          validation_set=({'input': X_test}, {'targets': y_test}), \n",
        "          snapshot_step=500, show_metric=True)\n",
        "end = time.time()\n",
        "end-start"
      ],
      "execution_count": 0,
      "outputs": [
        {
          "output_type": "stream",
          "text": [
            "Training Step: 4  | total loss: \u001b[1m\u001b[32m0.74004\u001b[0m\u001b[0m | time: 19.696s\n",
            "\u001b[2K\r| Adam | epoch: 001 | loss: 0.74004 - acc: 0.4915 -- iter: 0256/1600\n"
          ],
          "name": "stdout"
        }
      ]
    },
    {
      "metadata": {
        "id": "-oTIi2e14vFG",
        "colab_type": "code",
        "colab": {}
      },
      "cell_type": "code",
      "source": [
        "#training accuracy\n",
        "model.evaluate(X_train,y_train)\n",
        "# accuracy: "
      ],
      "execution_count": 0,
      "outputs": []
    },
    {
      "metadata": {
        "id": "sXwR4jPf4vHq",
        "colab_type": "code",
        "colab": {}
      },
      "cell_type": "code",
      "source": [
        "#test accuracy\n",
        "model.evaluate(X_test,y_test)\n",
        "#accuracy: .7400"
      ],
      "execution_count": 0,
      "outputs": []
    },
    {
      "metadata": {
        "id": "IUTVqklEc0sZ",
        "colab_type": "text"
      },
      "cell_type": "markdown",
      "source": [
        "### Attempt 6"
      ]
    },
    {
      "metadata": {
        "id": "apiXwcXy4vKh",
        "colab_type": "code",
        "colab": {}
      },
      "cell_type": "code",
      "source": [
        "tf.reset_default_graph()"
      ],
      "execution_count": 0,
      "outputs": []
    },
    {
      "metadata": {
        "id": "BDY25Nxg7EFm",
        "colab_type": "code",
        "colab": {}
      },
      "cell_type": "code",
      "source": [
        "# Building convolutional network\n",
        "convnet = input_data(shape=[None, 128,128,3], name='input')\n",
        "\n",
        "convnet = conv_2d(convnet, 128, 5, activation='relu')\n",
        "convnet = max_pool_2d(convnet, 5)\n",
        "\n",
        "convnet = conv_2d(convnet, 64, 5, activation='relu')\n",
        "convnet = max_pool_2d(convnet, 5)\n",
        "\n",
        "convnet = conv_2d(convnet, 32, 5, activation='relu')\n",
        "convnet = max_pool_2d(convnet, 5)\n",
        "\n",
        "convnet = conv_2d(convnet, 64, 5, activation='relu')\n",
        "convnet = max_pool_2d(convnet, 5)\n",
        "\n",
        "convnet = conv_2d(convnet, 128, 5, activation='relu')\n",
        "convnet = max_pool_2d(convnet, 5)\n",
        "\n",
        "convnet = fully_connected(convnet, 128, activation='relu')\n",
        "convnet = dropout(convnet, 0.5)\n",
        "\n",
        "convnet = fully_connected(convnet, 32, activation='relu')\n",
        "convnet = dropout(convnet, 0.25)\n",
        "\n",
        "convnet = fully_connected(convnet, 2, activation='softmax')\n",
        "convnet = regression(convnet, optimizer='adam', learning_rate= 0.001, loss='categorical_crossentropy', name='targets')"
      ],
      "execution_count": 0,
      "outputs": []
    },
    {
      "metadata": {
        "id": "uHxPPROh4vNE",
        "colab_type": "code",
        "colab": {
          "base_uri": "https://localhost:8080/",
          "height": 159
        },
        "outputId": "54c5708a-284c-4af6-ed18-fb6a06d12307"
      },
      "cell_type": "code",
      "source": [
        "start = time.time()\n",
        "model = tflearn.DNN(convnet, tensorboard_dir='log', tensorboard_verbose=0)\n",
        "model.fit({'input': X_train}, {'targets': y_train}, n_epoch=10, \n",
        "          validation_set=({'input': X_test}, {'targets': y_test}), \n",
        "          snapshot_step=500, show_metric=True)\n",
        "end = time.time()\n",
        "end-start"
      ],
      "execution_count": 74,
      "outputs": [
        {
          "output_type": "stream",
          "text": [
            "Training Step: 249  | total loss: \u001b[1m\u001b[32m0.68997\u001b[0m\u001b[0m | time: 130.606s\n",
            "| Adam | epoch: 010 | loss: 0.68997 - acc: 0.5412 -- iter: 1536/1600\n",
            "Training Step: 250  | total loss: \u001b[1m\u001b[32m0.69013\u001b[0m\u001b[0m | time: 145.678s\n",
            "| Adam | epoch: 010 | loss: 0.69013 - acc: 0.5434 | val_loss: 0.69257 - val_acc: 0.5150 -- iter: 1600/1600\n",
            "--\n"
          ],
          "name": "stdout"
        },
        {
          "output_type": "execute_result",
          "data": {
            "text/plain": [
              "1462.1027460098267"
            ]
          },
          "metadata": {
            "tags": []
          },
          "execution_count": 74
        }
      ]
    },
    {
      "metadata": {
        "id": "ua11LxrD9ju5",
        "colab_type": "code",
        "colab": {
          "base_uri": "https://localhost:8080/",
          "height": 34
        },
        "outputId": "16187055-9689-46f3-8966-c49fc0af7372"
      },
      "cell_type": "code",
      "source": [
        "#training accuracy\n",
        "model.evaluate(X_train,y_train)\n",
        "# accuracy: .5681"
      ],
      "execution_count": 75,
      "outputs": [
        {
          "output_type": "execute_result",
          "data": {
            "text/plain": [
              "[0.568125]"
            ]
          },
          "metadata": {
            "tags": []
          },
          "execution_count": 75
        }
      ]
    },
    {
      "metadata": {
        "id": "nnV3pNtH9W1v",
        "colab_type": "code",
        "colab": {
          "base_uri": "https://localhost:8080/",
          "height": 34
        },
        "outputId": "8eaa1713-ca4e-4e02-8f9b-c88443815073"
      },
      "cell_type": "code",
      "source": [
        "#test accuracy\n",
        "model.evaluate(X_test,y_test)\n",
        "#accuracy: .515"
      ],
      "execution_count": 76,
      "outputs": [
        {
          "output_type": "execute_result",
          "data": {
            "text/plain": [
              "[0.515]"
            ]
          },
          "metadata": {
            "tags": []
          },
          "execution_count": 76
        }
      ]
    },
    {
      "metadata": {
        "id": "zGdIuucHm2fP",
        "colab_type": "text"
      },
      "cell_type": "markdown",
      "source": [
        "### Attempt 7"
      ]
    },
    {
      "metadata": {
        "id": "I-lhbqGAm30w",
        "colab_type": "code",
        "colab": {}
      },
      "cell_type": "code",
      "source": [
        "tf.reset_default_graph()"
      ],
      "execution_count": 0,
      "outputs": []
    },
    {
      "metadata": {
        "id": "SNgvEvNyyC6P",
        "colab_type": "code",
        "colab": {}
      },
      "cell_type": "code",
      "source": [
        "# Building convolutional network\n",
        "convnet = input_data(shape=[None, 128,128,3], name='input')\n",
        "\n",
        "convnet = conv_2d(convnet, 128, 5, activation='relu')\n",
        "convnet = max_pool_2d(convnet, 5)\n",
        "\n",
        "convnet = conv_2d(convnet, 64, 5, activation='relu')\n",
        "convnet = max_pool_2d(convnet, 5)\n",
        "\n",
        "convnet = conv_2d(convnet, 32, 5, activation='relu')\n",
        "convnet = max_pool_2d(convnet, 5)\n",
        "\n",
        "convnet = fully_connected(convnet, 32, activation='relu')\n",
        "convnet = dropout(convnet, 0.25)\n",
        "\n",
        "convnet = fully_connected(convnet, 2, activation='softmax')\n",
        "convnet = regression(convnet, optimizer='adam', learning_rate= 0.001, loss='categorical_crossentropy', name='targets')"
      ],
      "execution_count": 0,
      "outputs": []
    },
    {
      "metadata": {
        "id": "FnEdpM_WZwaS",
        "colab_type": "code",
        "colab": {
          "base_uri": "https://localhost:8080/",
          "height": 159
        },
        "outputId": "e8c36a22-e67c-4e08-f372-7445da520148"
      },
      "cell_type": "code",
      "source": [
        "start = time.time()\n",
        "model = tflearn.DNN(convnet, tensorboard_dir='log', tensorboard_verbose=0)\n",
        "model.fit({'input': X_train}, {'targets': y_train}, n_epoch=10, \n",
        "          validation_set=({'input': X_test}, {'targets': y_test}), \n",
        "          snapshot_step=500, show_metric=True)\n",
        "end = time.time()\n",
        "end-start"
      ],
      "execution_count": 81,
      "outputs": [
        {
          "output_type": "stream",
          "text": [
            "Training Step: 249  | total loss: \u001b[1m\u001b[32m0.69327\u001b[0m\u001b[0m | time: 129.448s\n",
            "| Adam | epoch: 010 | loss: 0.69327 - acc: 0.4955 -- iter: 1536/1600\n",
            "Training Step: 250  | total loss: \u001b[1m\u001b[32m0.69319\u001b[0m\u001b[0m | time: 144.565s\n",
            "| Adam | epoch: 010 | loss: 0.69319 - acc: 0.5006 | val_loss: 0.69337 - val_acc: 0.4875 -- iter: 1600/1600\n",
            "--\n"
          ],
          "name": "stdout"
        },
        {
          "output_type": "execute_result",
          "data": {
            "text/plain": [
              "1445.1713740825653"
            ]
          },
          "metadata": {
            "tags": []
          },
          "execution_count": 81
        }
      ]
    },
    {
      "metadata": {
        "id": "XUZqgxbBiwVu",
        "colab_type": "code",
        "colab": {
          "base_uri": "https://localhost:8080/",
          "height": 34
        },
        "outputId": "c70f115c-6ae5-4c48-b8de-e3b32759c3db"
      },
      "cell_type": "code",
      "source": [
        "#training accuracy\n",
        "model.evaluate(X_train,y_train)\n",
        "# accuracy:.503"
      ],
      "execution_count": 82,
      "outputs": [
        {
          "output_type": "execute_result",
          "data": {
            "text/plain": [
              "[0.503125]"
            ]
          },
          "metadata": {
            "tags": []
          },
          "execution_count": 82
        }
      ]
    },
    {
      "metadata": {
        "id": "L0Awu2XDc6pn",
        "colab_type": "code",
        "colab": {
          "base_uri": "https://localhost:8080/",
          "height": 34
        },
        "outputId": "330fb213-b1d4-43c9-ce8e-a89dad8fef8f"
      },
      "cell_type": "code",
      "source": [
        "#test accuracy\n",
        "model.evaluate(X_test,y_test)\n",
        "#accuracy: .4875"
      ],
      "execution_count": 83,
      "outputs": [
        {
          "output_type": "execute_result",
          "data": {
            "text/plain": [
              "[0.4875]"
            ]
          },
          "metadata": {
            "tags": []
          },
          "execution_count": 83
        }
      ]
    },
    {
      "metadata": {
        "id": "u4yMbfEF7Hht",
        "colab_type": "text"
      },
      "cell_type": "markdown",
      "source": [
        "###Try a MLP"
      ]
    },
    {
      "metadata": {
        "id": "STk4tAfH7zx-",
        "colab_type": "code",
        "colab": {}
      },
      "cell_type": "code",
      "source": [
        "y_cat_2=np.concatenate(np.zeros((1000,1),dtype=np.int8))\n",
        "y_dog_2=np.concatenate(np.ones((1000,1),dtype=np.int8))\n",
        "\n"
      ],
      "execution_count": 0,
      "outputs": []
    },
    {
      "metadata": {
        "id": "KQar1BDE71Fh",
        "colab_type": "code",
        "colab": {}
      },
      "cell_type": "code",
      "source": [
        "y_2=np.concatenate((y_cat_2, y_dog_2), axis=0)"
      ],
      "execution_count": 0,
      "outputs": []
    },
    {
      "metadata": {
        "id": "49QxssOb71Tq",
        "colab_type": "code",
        "colab": {}
      },
      "cell_type": "code",
      "source": [
        "y_2=y_2.astype(int)"
      ],
      "execution_count": 0,
      "outputs": []
    },
    {
      "metadata": {
        "id": "GQRA6aXz71Oa",
        "colab_type": "code",
        "colab": {}
      },
      "cell_type": "code",
      "source": [
        "X_train,X_test,y_train,y_test=train_test_split(X, y_2,test_size=0.20,random_state=RANDOM_SEED)"
      ],
      "execution_count": 0,
      "outputs": []
    },
    {
      "metadata": {
        "id": "AiGmXfrT7a9B",
        "colab_type": "code",
        "colab": {
          "base_uri": "https://localhost:8080/",
          "height": 34
        },
        "outputId": "532fb3b7-08ac-491b-d780-afb74141a884"
      },
      "cell_type": "code",
      "source": [
        "config = tf.contrib.learn.RunConfig(tf_random_seed=42) # not shown in the config\n",
        "feature_cols = tf.contrib.learn.infer_real_valued_columns_from_input(X_train)"
      ],
      "execution_count": 32,
      "outputs": [
        {
          "output_type": "stream",
          "text": [
            "WARNING:tensorflow:float64 is not supported by many models, consider casting to float32.\n"
          ],
          "name": "stdout"
        }
      ]
    },
    {
      "metadata": {
        "id": "rr_RkC6zx-6O",
        "colab_type": "code",
        "colab": {
          "base_uri": "https://localhost:8080/",
          "height": 13994
        },
        "outputId": "d6dc066d-fee7-4a85-a2f6-03bfde7b1eb8"
      },
      "cell_type": "code",
      "source": [
        "##assess classification performance accuracy and processing time.\n",
        "\n",
        "start = time.time()\n",
        "dnn_clf = tf.contrib.learn.DNNClassifier(hidden_units=[300,200,100], n_classes=10,\n",
        "                                         feature_columns=feature_cols, config=config)\n",
        "dnn_clf = tf.contrib.learn.SKCompat(dnn_clf) # if TensorFlow >= 1.1\n",
        "dnn_clf.fit(X_train, y_train, batch_size=50, steps=40000)\n",
        "end = time.time()\n",
        "end-start"
      ],
      "execution_count": 33,
      "outputs": [
        {
          "output_type": "stream",
          "text": [
            "WARNING:tensorflow:Using temporary folder as model directory: /tmp/tmpkwuSs0\n",
            "INFO:tensorflow:Using config: {'_save_checkpoints_secs': 600, '_num_ps_replicas': 0, '_keep_checkpoint_max': 5, '_task_type': None, '_train_distribute': None, '_is_chief': True, '_cluster_spec': <tensorflow.python.training.server_lib.ClusterSpec object at 0x7fded8d0cd10>, '_model_dir': '/tmp/tmpkwuSs0', '_save_checkpoints_steps': None, '_keep_checkpoint_every_n_hours': 10000, '_session_config': None, '_tf_random_seed': 42, '_save_summary_steps': 100, '_device_fn': None, '_num_worker_replicas': 0, '_task_id': 0, '_log_step_count_steps': 100, '_tf_config': gpu_options {\n",
            "  per_process_gpu_memory_fraction: 1.0\n",
            "}\n",
            ", '_evaluation_master': '', '_environment': 'local', '_master': ''}\n",
            "WARNING:tensorflow:float64 is not supported by many models, consider casting to float32.\n",
            "INFO:tensorflow:Create CheckpointSaverHook.\n",
            "INFO:tensorflow:Graph was finalized.\n",
            "INFO:tensorflow:Running local_init_op.\n",
            "INFO:tensorflow:Done running local_init_op.\n",
            "INFO:tensorflow:Saving checkpoints for 0 into /tmp/tmpkwuSs0/model.ckpt.\n",
            "INFO:tensorflow:loss = 280.87872, step = 1\n",
            "INFO:tensorflow:global_step/sec: 7.88081\n",
            "INFO:tensorflow:loss = 9.431791, step = 101 (12.691 sec)\n",
            "INFO:tensorflow:global_step/sec: 8.1074\n",
            "INFO:tensorflow:loss = 1.0594054, step = 201 (12.334 sec)\n",
            "INFO:tensorflow:global_step/sec: 8.1284\n",
            "INFO:tensorflow:loss = 0.86821175, step = 301 (12.303 sec)\n",
            "INFO:tensorflow:global_step/sec: 8.12871\n",
            "INFO:tensorflow:loss = 0.74339247, step = 401 (12.302 sec)\n",
            "INFO:tensorflow:global_step/sec: 8.1224\n",
            "INFO:tensorflow:loss = 0.78205407, step = 501 (12.314 sec)\n",
            "INFO:tensorflow:global_step/sec: 8.10013\n",
            "INFO:tensorflow:loss = 0.6531197, step = 601 (12.342 sec)\n",
            "INFO:tensorflow:global_step/sec: 8.11393\n",
            "INFO:tensorflow:loss = 0.7341664, step = 701 (12.327 sec)\n",
            "INFO:tensorflow:global_step/sec: 8.13502\n",
            "INFO:tensorflow:loss = 0.69966227, step = 801 (12.291 sec)\n",
            "INFO:tensorflow:global_step/sec: 8.13516\n",
            "INFO:tensorflow:loss = 1.6737566, step = 901 (12.294 sec)\n",
            "INFO:tensorflow:global_step/sec: 8.13827\n",
            "INFO:tensorflow:loss = 0.6558865, step = 1001 (12.290 sec)\n",
            "INFO:tensorflow:global_step/sec: 8.11913\n",
            "INFO:tensorflow:loss = 0.7189032, step = 1101 (12.313 sec)\n",
            "INFO:tensorflow:global_step/sec: 8.12792\n",
            "INFO:tensorflow:loss = 0.6973463, step = 1201 (12.304 sec)\n",
            "INFO:tensorflow:global_step/sec: 8.15044\n",
            "INFO:tensorflow:loss = 0.673581, step = 1301 (12.268 sec)\n",
            "INFO:tensorflow:global_step/sec: 7.8795\n",
            "INFO:tensorflow:loss = 0.58356166, step = 1401 (12.691 sec)\n",
            "INFO:tensorflow:global_step/sec: 8.13777\n",
            "INFO:tensorflow:loss = 0.89647776, step = 1501 (12.290 sec)\n",
            "INFO:tensorflow:global_step/sec: 8.13767\n",
            "INFO:tensorflow:loss = 0.62059474, step = 1601 (12.287 sec)\n",
            "INFO:tensorflow:global_step/sec: 8.13201\n",
            "INFO:tensorflow:loss = 0.61620545, step = 1701 (12.297 sec)\n",
            "INFO:tensorflow:global_step/sec: 8.14851\n",
            "INFO:tensorflow:loss = 0.6771019, step = 1801 (12.275 sec)\n",
            "INFO:tensorflow:global_step/sec: 8.13712\n",
            "INFO:tensorflow:loss = 0.647119, step = 1901 (12.288 sec)\n",
            "INFO:tensorflow:global_step/sec: 7.91252\n",
            "INFO:tensorflow:loss = 0.5886177, step = 2001 (12.639 sec)\n",
            "INFO:tensorflow:global_step/sec: 8.13042\n",
            "INFO:tensorflow:loss = 0.6601598, step = 2101 (12.299 sec)\n",
            "INFO:tensorflow:global_step/sec: 8.13218\n",
            "INFO:tensorflow:loss = 0.6688115, step = 2201 (12.298 sec)\n",
            "INFO:tensorflow:global_step/sec: 8.11994\n",
            "INFO:tensorflow:loss = 0.62373, step = 2301 (12.313 sec)\n",
            "INFO:tensorflow:global_step/sec: 8.13019\n",
            "INFO:tensorflow:loss = 0.631336, step = 2401 (12.302 sec)\n",
            "INFO:tensorflow:global_step/sec: 7.83584\n",
            "INFO:tensorflow:loss = 0.65289354, step = 2501 (12.760 sec)\n",
            "INFO:tensorflow:global_step/sec: 7.93263\n",
            "INFO:tensorflow:loss = 0.6650544, step = 2601 (12.606 sec)\n",
            "INFO:tensorflow:global_step/sec: 8.14249\n",
            "INFO:tensorflow:loss = 0.6524573, step = 2701 (12.281 sec)\n",
            "INFO:tensorflow:global_step/sec: 8.13691\n",
            "INFO:tensorflow:loss = 0.60826916, step = 2801 (12.293 sec)\n",
            "INFO:tensorflow:global_step/sec: 8.11549\n",
            "INFO:tensorflow:loss = 0.65595716, step = 2901 (12.319 sec)\n",
            "INFO:tensorflow:global_step/sec: 8.13295\n",
            "INFO:tensorflow:loss = 0.61933184, step = 3001 (12.298 sec)\n",
            "INFO:tensorflow:global_step/sec: 8.11649\n",
            "INFO:tensorflow:loss = 0.6155758, step = 3101 (12.319 sec)\n",
            "INFO:tensorflow:global_step/sec: 8.1262\n",
            "INFO:tensorflow:loss = 0.64693606, step = 3201 (12.305 sec)\n",
            "INFO:tensorflow:global_step/sec: 8.08319\n",
            "INFO:tensorflow:loss = 0.66517806, step = 3301 (12.372 sec)\n",
            "INFO:tensorflow:global_step/sec: 8.12085\n",
            "INFO:tensorflow:loss = 0.6733854, step = 3401 (12.313 sec)\n",
            "INFO:tensorflow:global_step/sec: 8.10068\n",
            "INFO:tensorflow:loss = 0.6193577, step = 3501 (12.348 sec)\n",
            "INFO:tensorflow:global_step/sec: 8.12574\n",
            "INFO:tensorflow:loss = 0.58794385, step = 3601 (12.303 sec)\n",
            "INFO:tensorflow:global_step/sec: 8.16004\n",
            "INFO:tensorflow:loss = 0.6044622, step = 3701 (12.256 sec)\n",
            "INFO:tensorflow:global_step/sec: 8.15898\n",
            "INFO:tensorflow:loss = 0.66441756, step = 3801 (12.259 sec)\n",
            "INFO:tensorflow:global_step/sec: 8.14166\n",
            "INFO:tensorflow:loss = 0.65921557, step = 3901 (12.280 sec)\n",
            "INFO:tensorflow:global_step/sec: 8.13481\n",
            "INFO:tensorflow:loss = 0.6308996, step = 4001 (12.293 sec)\n",
            "INFO:tensorflow:global_step/sec: 8.13855\n",
            "INFO:tensorflow:loss = 0.6297514, step = 4101 (12.286 sec)\n",
            "INFO:tensorflow:global_step/sec: 8.13369\n",
            "INFO:tensorflow:loss = 0.6005859, step = 4201 (12.297 sec)\n",
            "INFO:tensorflow:global_step/sec: 8.1226\n",
            "INFO:tensorflow:loss = 0.645623, step = 4301 (12.312 sec)\n",
            "INFO:tensorflow:global_step/sec: 8.12221\n",
            "INFO:tensorflow:loss = 0.6522711, step = 4401 (12.308 sec)\n",
            "INFO:tensorflow:global_step/sec: 8.13538\n",
            "INFO:tensorflow:loss = 0.6675665, step = 4501 (12.292 sec)\n",
            "INFO:tensorflow:global_step/sec: 8.11409\n",
            "INFO:tensorflow:loss = 0.6496114, step = 4601 (12.325 sec)\n",
            "INFO:tensorflow:global_step/sec: 8.10253\n",
            "INFO:tensorflow:loss = 0.6246126, step = 4701 (12.342 sec)\n",
            "INFO:tensorflow:global_step/sec: 8.11704\n",
            "INFO:tensorflow:loss = 0.6292174, step = 4801 (12.324 sec)\n",
            "INFO:tensorflow:Saving checkpoints for 4860 into /tmp/tmpkwuSs0/model.ckpt.\n",
            "INFO:tensorflow:global_step/sec: 7.85035\n",
            "INFO:tensorflow:loss = 0.62564296, step = 4901 (12.736 sec)\n",
            "INFO:tensorflow:global_step/sec: 7.73001\n",
            "INFO:tensorflow:loss = 0.6331599, step = 5001 (12.939 sec)\n",
            "INFO:tensorflow:global_step/sec: 7.77828\n",
            "INFO:tensorflow:loss = 0.6629143, step = 5101 (12.853 sec)\n",
            "INFO:tensorflow:global_step/sec: 8.10309\n",
            "INFO:tensorflow:loss = 0.5751455, step = 5201 (12.340 sec)\n",
            "INFO:tensorflow:global_step/sec: 8.10493\n",
            "INFO:tensorflow:loss = 0.64053744, step = 5301 (12.342 sec)\n",
            "INFO:tensorflow:global_step/sec: 8.11943\n",
            "INFO:tensorflow:loss = 0.61027265, step = 5401 (12.312 sec)\n",
            "INFO:tensorflow:global_step/sec: 8.10462\n",
            "INFO:tensorflow:loss = 0.6446866, step = 5501 (12.340 sec)\n",
            "INFO:tensorflow:global_step/sec: 8.1043\n",
            "INFO:tensorflow:loss = 0.64761186, step = 5601 (12.342 sec)\n",
            "INFO:tensorflow:global_step/sec: 8.11227\n",
            "INFO:tensorflow:loss = 0.6960326, step = 5701 (12.324 sec)\n",
            "INFO:tensorflow:global_step/sec: 8.13017\n",
            "INFO:tensorflow:loss = 0.66948843, step = 5801 (12.300 sec)\n",
            "INFO:tensorflow:global_step/sec: 8.12837\n",
            "INFO:tensorflow:loss = 0.63919467, step = 5901 (12.306 sec)\n",
            "INFO:tensorflow:global_step/sec: 8.11992\n",
            "INFO:tensorflow:loss = 0.58837676, step = 6001 (12.311 sec)\n",
            "INFO:tensorflow:global_step/sec: 8.12513\n",
            "INFO:tensorflow:loss = 0.6855603, step = 6101 (12.308 sec)\n",
            "INFO:tensorflow:global_step/sec: 8.11754\n",
            "INFO:tensorflow:loss = 0.6052848, step = 6201 (12.322 sec)\n",
            "INFO:tensorflow:global_step/sec: 8.1265\n",
            "INFO:tensorflow:loss = 0.583503, step = 6301 (12.302 sec)\n",
            "INFO:tensorflow:global_step/sec: 8.12634\n",
            "INFO:tensorflow:loss = 0.63711506, step = 6401 (12.306 sec)\n",
            "INFO:tensorflow:global_step/sec: 8.11969\n",
            "INFO:tensorflow:loss = 0.6154859, step = 6501 (12.316 sec)\n",
            "INFO:tensorflow:global_step/sec: 8.11857\n",
            "INFO:tensorflow:loss = 0.6677399, step = 6601 (12.319 sec)\n",
            "INFO:tensorflow:global_step/sec: 8.1246\n",
            "INFO:tensorflow:loss = 0.6784677, step = 6701 (12.308 sec)\n",
            "INFO:tensorflow:global_step/sec: 8.13777\n",
            "INFO:tensorflow:loss = 0.5992499, step = 6801 (12.291 sec)\n",
            "INFO:tensorflow:global_step/sec: 8.11602\n",
            "INFO:tensorflow:loss = 0.5141505, step = 6901 (12.320 sec)\n",
            "INFO:tensorflow:global_step/sec: 8.11759\n",
            "INFO:tensorflow:loss = 0.6220248, step = 7001 (12.317 sec)\n",
            "INFO:tensorflow:global_step/sec: 8.13555\n",
            "INFO:tensorflow:loss = 0.6667034, step = 7101 (12.292 sec)\n",
            "INFO:tensorflow:global_step/sec: 8.11992\n",
            "INFO:tensorflow:loss = 0.57380205, step = 7201 (12.319 sec)\n",
            "INFO:tensorflow:global_step/sec: 8.12055\n",
            "INFO:tensorflow:loss = 0.71258265, step = 7301 (12.311 sec)\n",
            "INFO:tensorflow:global_step/sec: 8.11937\n",
            "INFO:tensorflow:loss = 0.63096017, step = 7401 (12.316 sec)\n",
            "INFO:tensorflow:global_step/sec: 7.95457\n",
            "INFO:tensorflow:loss = 0.6061311, step = 7501 (12.572 sec)\n",
            "INFO:tensorflow:global_step/sec: 7.77862\n",
            "INFO:tensorflow:loss = 0.6149297, step = 7601 (12.861 sec)\n",
            "INFO:tensorflow:global_step/sec: 8.11467\n",
            "INFO:tensorflow:loss = 0.63122755, step = 7701 (12.317 sec)\n",
            "INFO:tensorflow:global_step/sec: 8.14022\n",
            "INFO:tensorflow:loss = 0.61608946, step = 7801 (12.285 sec)\n",
            "INFO:tensorflow:global_step/sec: 8.11333\n",
            "INFO:tensorflow:loss = 0.6107082, step = 7901 (12.326 sec)\n",
            "INFO:tensorflow:global_step/sec: 8.12802\n",
            "INFO:tensorflow:loss = 0.6089227, step = 8001 (12.307 sec)\n",
            "INFO:tensorflow:global_step/sec: 8.11358\n",
            "INFO:tensorflow:loss = 0.61441946, step = 8101 (12.324 sec)\n",
            "INFO:tensorflow:global_step/sec: 8.13331\n",
            "INFO:tensorflow:loss = 0.6642908, step = 8201 (12.293 sec)\n",
            "INFO:tensorflow:global_step/sec: 8.12586\n",
            "INFO:tensorflow:loss = 0.61737037, step = 8301 (12.308 sec)\n",
            "INFO:tensorflow:global_step/sec: 8.11157\n",
            "INFO:tensorflow:loss = 0.57212967, step = 8401 (12.330 sec)\n",
            "INFO:tensorflow:global_step/sec: 8.12364\n",
            "INFO:tensorflow:loss = 0.61513263, step = 8501 (12.306 sec)\n",
            "INFO:tensorflow:global_step/sec: 8.1231\n",
            "INFO:tensorflow:loss = 0.5861555, step = 8601 (12.310 sec)\n",
            "INFO:tensorflow:global_step/sec: 8.12447\n",
            "INFO:tensorflow:loss = 0.6365545, step = 8701 (12.309 sec)\n",
            "INFO:tensorflow:global_step/sec: 8.14239\n",
            "INFO:tensorflow:loss = 0.6469266, step = 8801 (12.281 sec)\n",
            "INFO:tensorflow:global_step/sec: 8.13898\n",
            "INFO:tensorflow:loss = 0.6221593, step = 8901 (12.290 sec)\n",
            "INFO:tensorflow:global_step/sec: 8.137\n",
            "INFO:tensorflow:loss = 0.54879016, step = 9001 (12.286 sec)\n",
            "INFO:tensorflow:global_step/sec: 8.13063\n",
            "INFO:tensorflow:loss = 0.6208542, step = 9101 (12.300 sec)\n",
            "INFO:tensorflow:global_step/sec: 8.1368\n",
            "INFO:tensorflow:loss = 0.62029546, step = 9201 (12.294 sec)\n",
            "INFO:tensorflow:global_step/sec: 8.10911\n",
            "INFO:tensorflow:loss = 0.7271583, step = 9301 (12.329 sec)\n",
            "INFO:tensorflow:global_step/sec: 7.68726\n",
            "INFO:tensorflow:loss = 0.5926883, step = 9401 (13.009 sec)\n",
            "INFO:tensorflow:global_step/sec: 8.11177\n",
            "INFO:tensorflow:loss = 0.62067187, step = 9501 (12.327 sec)\n",
            "INFO:tensorflow:global_step/sec: 8.09282\n",
            "INFO:tensorflow:loss = 0.6301274, step = 9601 (12.355 sec)\n",
            "INFO:tensorflow:global_step/sec: 8.14034\n",
            "INFO:tensorflow:loss = 0.55945325, step = 9701 (12.285 sec)\n",
            "INFO:tensorflow:Saving checkpoints for 9709 into /tmp/tmpkwuSs0/model.ckpt.\n",
            "INFO:tensorflow:global_step/sec: 7.80154\n",
            "INFO:tensorflow:loss = 0.6170449, step = 9801 (12.818 sec)\n",
            "INFO:tensorflow:global_step/sec: 8.16051\n",
            "INFO:tensorflow:loss = 0.5947621, step = 9901 (12.254 sec)\n",
            "INFO:tensorflow:global_step/sec: 8.01344\n",
            "INFO:tensorflow:loss = 0.6874992, step = 10001 (12.480 sec)\n",
            "INFO:tensorflow:global_step/sec: 7.7243\n",
            "INFO:tensorflow:loss = 0.56878924, step = 10101 (12.945 sec)\n",
            "INFO:tensorflow:global_step/sec: 8.12089\n",
            "INFO:tensorflow:loss = 0.6103352, step = 10201 (12.314 sec)\n",
            "INFO:tensorflow:global_step/sec: 8.14973\n",
            "INFO:tensorflow:loss = 0.6221521, step = 10301 (12.275 sec)\n",
            "INFO:tensorflow:global_step/sec: 8.11839\n",
            "INFO:tensorflow:loss = 0.6832547, step = 10401 (12.316 sec)\n",
            "INFO:tensorflow:global_step/sec: 8.11543\n",
            "INFO:tensorflow:loss = 0.60958534, step = 10501 (12.320 sec)\n",
            "INFO:tensorflow:global_step/sec: 8.1393\n",
            "INFO:tensorflow:loss = 0.5998927, step = 10601 (12.288 sec)\n",
            "INFO:tensorflow:global_step/sec: 8.1247\n",
            "INFO:tensorflow:loss = 0.66264266, step = 10701 (12.306 sec)\n",
            "INFO:tensorflow:global_step/sec: 8.12803\n",
            "INFO:tensorflow:loss = 0.6267405, step = 10801 (12.303 sec)\n",
            "INFO:tensorflow:global_step/sec: 8.15413\n",
            "INFO:tensorflow:loss = 0.6459471, step = 10901 (12.265 sec)\n",
            "INFO:tensorflow:global_step/sec: 8.15942\n",
            "INFO:tensorflow:loss = 0.5242079, step = 11001 (12.254 sec)\n",
            "INFO:tensorflow:global_step/sec: 8.15593\n",
            "INFO:tensorflow:loss = 0.6189687, step = 11101 (12.264 sec)\n",
            "INFO:tensorflow:global_step/sec: 8.14549\n",
            "INFO:tensorflow:loss = 0.57627314, step = 11201 (12.274 sec)\n",
            "INFO:tensorflow:global_step/sec: 8.12411\n",
            "INFO:tensorflow:loss = 0.6011053, step = 11301 (12.308 sec)\n",
            "INFO:tensorflow:global_step/sec: 8.13017\n",
            "INFO:tensorflow:loss = 0.58981013, step = 11401 (12.301 sec)\n",
            "INFO:tensorflow:global_step/sec: 8.13463\n",
            "INFO:tensorflow:loss = 0.62407297, step = 11501 (12.293 sec)\n",
            "INFO:tensorflow:global_step/sec: 8.13066\n",
            "INFO:tensorflow:loss = 0.65304595, step = 11601 (12.299 sec)\n",
            "INFO:tensorflow:global_step/sec: 8.13211\n",
            "INFO:tensorflow:loss = 0.54317683, step = 11701 (12.299 sec)\n",
            "INFO:tensorflow:global_step/sec: 8.14564\n",
            "INFO:tensorflow:loss = 0.6540135, step = 11801 (12.277 sec)\n",
            "INFO:tensorflow:global_step/sec: 8.14622\n",
            "INFO:tensorflow:loss = 0.5924601, step = 11901 (12.273 sec)\n",
            "INFO:tensorflow:global_step/sec: 8.11914\n",
            "INFO:tensorflow:loss = 0.60903287, step = 12001 (12.320 sec)\n",
            "INFO:tensorflow:global_step/sec: 8.12012\n",
            "INFO:tensorflow:loss = 0.59049135, step = 12101 (12.312 sec)\n",
            "INFO:tensorflow:global_step/sec: 8.15357\n",
            "INFO:tensorflow:loss = 0.60014796, step = 12201 (12.267 sec)\n",
            "INFO:tensorflow:global_step/sec: 8.12286\n",
            "INFO:tensorflow:loss = 0.58355504, step = 12301 (12.312 sec)\n",
            "INFO:tensorflow:global_step/sec: 8.12953\n",
            "INFO:tensorflow:loss = 0.6788129, step = 12401 (12.299 sec)\n",
            "INFO:tensorflow:global_step/sec: 8.09\n",
            "INFO:tensorflow:loss = 0.6138697, step = 12501 (12.363 sec)\n",
            "INFO:tensorflow:global_step/sec: 7.72467\n",
            "INFO:tensorflow:loss = 0.551926, step = 12601 (12.942 sec)\n",
            "INFO:tensorflow:global_step/sec: 8.05694\n",
            "INFO:tensorflow:loss = 0.61017495, step = 12701 (12.411 sec)\n",
            "INFO:tensorflow:global_step/sec: 8.14048\n",
            "INFO:tensorflow:loss = 0.56959975, step = 12801 (12.284 sec)\n",
            "INFO:tensorflow:global_step/sec: 8.15131\n",
            "INFO:tensorflow:loss = 0.5944317, step = 12901 (12.269 sec)\n",
            "INFO:tensorflow:global_step/sec: 8.14891\n",
            "INFO:tensorflow:loss = 0.58350945, step = 13001 (12.270 sec)\n",
            "INFO:tensorflow:global_step/sec: 8.12831\n",
            "INFO:tensorflow:loss = 0.6047399, step = 13101 (12.304 sec)\n",
            "INFO:tensorflow:global_step/sec: 8.14968\n",
            "INFO:tensorflow:loss = 0.5374429, step = 13201 (12.270 sec)\n",
            "INFO:tensorflow:global_step/sec: 8.12618\n",
            "INFO:tensorflow:loss = 0.60531974, step = 13301 (12.306 sec)\n",
            "INFO:tensorflow:global_step/sec: 8.12073\n",
            "INFO:tensorflow:loss = 0.64312834, step = 13401 (12.317 sec)\n",
            "INFO:tensorflow:global_step/sec: 8.11876\n",
            "INFO:tensorflow:loss = 0.5016882, step = 13501 (12.317 sec)\n",
            "INFO:tensorflow:global_step/sec: 8.11423\n",
            "INFO:tensorflow:loss = 0.6643661, step = 13601 (12.322 sec)\n",
            "INFO:tensorflow:global_step/sec: 8.12037\n",
            "INFO:tensorflow:loss = 0.60032344, step = 13701 (12.314 sec)\n",
            "INFO:tensorflow:global_step/sec: 8.12001\n",
            "INFO:tensorflow:loss = 0.59233266, step = 13801 (12.315 sec)\n",
            "INFO:tensorflow:global_step/sec: 8.13015\n",
            "INFO:tensorflow:loss = 0.6090243, step = 13901 (12.303 sec)\n",
            "INFO:tensorflow:global_step/sec: 8.1154\n",
            "INFO:tensorflow:loss = 0.6117342, step = 14001 (12.322 sec)\n",
            "INFO:tensorflow:global_step/sec: 8.10806\n",
            "INFO:tensorflow:loss = 0.5974919, step = 14101 (12.331 sec)\n",
            "INFO:tensorflow:global_step/sec: 8.08838\n",
            "INFO:tensorflow:loss = 0.5970022, step = 14201 (12.364 sec)\n",
            "INFO:tensorflow:global_step/sec: 8.09355\n",
            "INFO:tensorflow:loss = 0.60892534, step = 14301 (12.356 sec)\n",
            "INFO:tensorflow:global_step/sec: 8.09631\n",
            "INFO:tensorflow:loss = 0.6150811, step = 14401 (12.351 sec)\n",
            "INFO:tensorflow:global_step/sec: 8.09563\n",
            "INFO:tensorflow:loss = 0.5549105, step = 14501 (12.353 sec)\n",
            "INFO:tensorflow:Saving checkpoints for 14569 into /tmp/tmpkwuSs0/model.ckpt.\n",
            "INFO:tensorflow:global_step/sec: 7.80754\n",
            "INFO:tensorflow:loss = 0.5643631, step = 14601 (12.808 sec)\n",
            "INFO:tensorflow:global_step/sec: 8.07302\n",
            "INFO:tensorflow:loss = 0.5515628, step = 14701 (12.386 sec)\n",
            "INFO:tensorflow:global_step/sec: 8.12774\n",
            "INFO:tensorflow:loss = 0.54551905, step = 14801 (12.306 sec)\n",
            "INFO:tensorflow:global_step/sec: 8.12547\n",
            "INFO:tensorflow:loss = 0.6189899, step = 14901 (12.305 sec)\n",
            "INFO:tensorflow:global_step/sec: 8.1079\n",
            "INFO:tensorflow:loss = 0.65582794, step = 15001 (12.337 sec)\n",
            "INFO:tensorflow:global_step/sec: 7.69683\n",
            "INFO:tensorflow:loss = 0.5871053, step = 15101 (12.989 sec)\n",
            "INFO:tensorflow:global_step/sec: 7.96276\n",
            "INFO:tensorflow:loss = 0.59691525, step = 15201 (12.558 sec)\n",
            "INFO:tensorflow:global_step/sec: 8.11008\n",
            "INFO:tensorflow:loss = 0.64579165, step = 15301 (12.331 sec)\n",
            "INFO:tensorflow:global_step/sec: 8.11118\n",
            "INFO:tensorflow:loss = 0.61470467, step = 15401 (12.331 sec)\n",
            "INFO:tensorflow:global_step/sec: 8.08882\n",
            "INFO:tensorflow:loss = 0.6423934, step = 15501 (12.360 sec)\n",
            "INFO:tensorflow:global_step/sec: 8.09999\n",
            "INFO:tensorflow:loss = 0.5642872, step = 15601 (12.346 sec)\n",
            "INFO:tensorflow:global_step/sec: 8.10522\n",
            "INFO:tensorflow:loss = 0.6201042, step = 15701 (12.339 sec)\n",
            "INFO:tensorflow:global_step/sec: 8.12561\n",
            "INFO:tensorflow:loss = 0.621614, step = 15801 (12.306 sec)\n",
            "INFO:tensorflow:global_step/sec: 8.12175\n",
            "INFO:tensorflow:loss = 0.61030424, step = 15901 (12.316 sec)\n",
            "INFO:tensorflow:global_step/sec: 8.11856\n",
            "INFO:tensorflow:loss = 0.62674296, step = 16001 (12.316 sec)\n",
            "INFO:tensorflow:global_step/sec: 8.11\n",
            "INFO:tensorflow:loss = 0.53803575, step = 16101 (12.330 sec)\n",
            "INFO:tensorflow:global_step/sec: 8.09712\n",
            "INFO:tensorflow:loss = 0.58357364, step = 16201 (12.347 sec)\n",
            "INFO:tensorflow:global_step/sec: 8.12115\n",
            "INFO:tensorflow:loss = 0.6404617, step = 16301 (12.314 sec)\n",
            "INFO:tensorflow:global_step/sec: 8.11256\n",
            "INFO:tensorflow:loss = 0.5061387, step = 16401 (12.326 sec)\n",
            "INFO:tensorflow:global_step/sec: 8.13345\n",
            "INFO:tensorflow:loss = 0.63963485, step = 16501 (12.298 sec)\n",
            "INFO:tensorflow:global_step/sec: 8.13332\n",
            "INFO:tensorflow:loss = 0.60614216, step = 16601 (12.292 sec)\n",
            "INFO:tensorflow:global_step/sec: 7.99492\n",
            "INFO:tensorflow:loss = 0.6037755, step = 16701 (12.510 sec)\n",
            "INFO:tensorflow:global_step/sec: 8.14099\n",
            "INFO:tensorflow:loss = 0.51145464, step = 16801 (12.282 sec)\n",
            "INFO:tensorflow:global_step/sec: 8.13364\n",
            "INFO:tensorflow:loss = 0.55951005, step = 16901 (12.296 sec)\n",
            "INFO:tensorflow:global_step/sec: 8.14477\n",
            "INFO:tensorflow:loss = 0.56069654, step = 17001 (12.280 sec)\n",
            "INFO:tensorflow:global_step/sec: 8.1394\n",
            "INFO:tensorflow:loss = 0.599673, step = 17101 (12.282 sec)\n",
            "INFO:tensorflow:global_step/sec: 8.1312\n",
            "INFO:tensorflow:loss = 0.55307204, step = 17201 (12.300 sec)\n",
            "INFO:tensorflow:global_step/sec: 8.14655\n",
            "INFO:tensorflow:loss = 0.61763406, step = 17301 (12.277 sec)\n",
            "INFO:tensorflow:global_step/sec: 8.13534\n",
            "INFO:tensorflow:loss = 0.5748322, step = 17401 (12.292 sec)\n",
            "INFO:tensorflow:global_step/sec: 8.12347\n",
            "INFO:tensorflow:loss = 0.5473457, step = 17501 (12.309 sec)\n",
            "INFO:tensorflow:global_step/sec: 7.82482\n",
            "INFO:tensorflow:loss = 0.5786466, step = 17601 (12.778 sec)\n",
            "INFO:tensorflow:global_step/sec: 7.95373\n",
            "INFO:tensorflow:loss = 0.6140076, step = 17701 (12.572 sec)\n",
            "INFO:tensorflow:global_step/sec: 8.14924\n",
            "INFO:tensorflow:loss = 0.5156421, step = 17801 (12.271 sec)\n",
            "INFO:tensorflow:global_step/sec: 8.14563\n",
            "INFO:tensorflow:loss = 0.59817374, step = 17901 (12.277 sec)\n",
            "INFO:tensorflow:global_step/sec: 8.12922\n",
            "INFO:tensorflow:loss = 0.58357465, step = 18001 (12.301 sec)\n",
            "INFO:tensorflow:global_step/sec: 8.1261\n",
            "INFO:tensorflow:loss = 0.6076402, step = 18101 (12.306 sec)\n",
            "INFO:tensorflow:global_step/sec: 8.13631\n",
            "INFO:tensorflow:loss = 0.5964356, step = 18201 (12.292 sec)\n",
            "INFO:tensorflow:global_step/sec: 8.14673\n",
            "INFO:tensorflow:loss = 0.58456266, step = 18301 (12.274 sec)\n",
            "INFO:tensorflow:global_step/sec: 8.14132\n",
            "INFO:tensorflow:loss = 0.6073323, step = 18401 (12.283 sec)\n",
            "INFO:tensorflow:global_step/sec: 8.14416\n",
            "INFO:tensorflow:loss = 0.59465015, step = 18501 (12.281 sec)\n",
            "INFO:tensorflow:global_step/sec: 8.14005\n",
            "INFO:tensorflow:loss = 0.5525447, step = 18601 (12.285 sec)\n",
            "INFO:tensorflow:global_step/sec: 8.12973\n",
            "INFO:tensorflow:loss = 0.5296774, step = 18701 (12.298 sec)\n",
            "INFO:tensorflow:global_step/sec: 8.15794\n",
            "INFO:tensorflow:loss = 0.6579054, step = 18801 (12.259 sec)\n",
            "INFO:tensorflow:global_step/sec: 8.1351\n",
            "INFO:tensorflow:loss = 0.62790245, step = 18901 (12.295 sec)\n",
            "INFO:tensorflow:global_step/sec: 8.13943\n",
            "INFO:tensorflow:loss = 0.63804984, step = 19001 (12.283 sec)\n",
            "INFO:tensorflow:global_step/sec: 8.12995\n",
            "INFO:tensorflow:loss = 0.6665187, step = 19101 (12.299 sec)\n",
            "INFO:tensorflow:global_step/sec: 8.13675\n",
            "INFO:tensorflow:loss = 0.6376218, step = 19201 (12.294 sec)\n",
            "INFO:tensorflow:global_step/sec: 8.12984\n",
            "INFO:tensorflow:loss = 0.59099334, step = 19301 (12.301 sec)\n",
            "INFO:tensorflow:global_step/sec: 8.14437\n",
            "INFO:tensorflow:loss = 0.49634606, step = 19401 (12.275 sec)\n",
            "INFO:tensorflow:Saving checkpoints for 19427 into /tmp/tmpkwuSs0/model.ckpt.\n",
            "INFO:tensorflow:global_step/sec: 7.85393\n",
            "INFO:tensorflow:loss = 0.57333714, step = 19501 (12.732 sec)\n",
            "INFO:tensorflow:global_step/sec: 8.16134\n",
            "INFO:tensorflow:loss = 0.6104135, step = 19601 (12.256 sec)\n",
            "INFO:tensorflow:global_step/sec: 7.98308\n",
            "INFO:tensorflow:loss = 0.61207616, step = 19701 (12.524 sec)\n",
            "INFO:tensorflow:global_step/sec: 7.97542\n",
            "INFO:tensorflow:loss = 0.4759095, step = 19801 (12.540 sec)\n",
            "INFO:tensorflow:global_step/sec: 8.14559\n",
            "INFO:tensorflow:loss = 0.65451795, step = 19901 (12.276 sec)\n",
            "INFO:tensorflow:global_step/sec: 8.16785\n",
            "INFO:tensorflow:loss = 0.57632524, step = 20001 (12.246 sec)\n",
            "INFO:tensorflow:global_step/sec: 7.89533\n",
            "INFO:tensorflow:loss = 0.7186609, step = 20101 (12.662 sec)\n",
            "INFO:tensorflow:global_step/sec: 7.89225\n",
            "INFO:tensorflow:loss = 0.63797927, step = 20201 (12.670 sec)\n",
            "INFO:tensorflow:global_step/sec: 8.14043\n",
            "INFO:tensorflow:loss = 0.54744333, step = 20301 (12.285 sec)\n",
            "INFO:tensorflow:global_step/sec: 8.1368\n",
            "INFO:tensorflow:loss = 0.528968, step = 20401 (12.289 sec)\n",
            "INFO:tensorflow:global_step/sec: 8.13804\n",
            "INFO:tensorflow:loss = 0.59366703, step = 20501 (12.289 sec)\n",
            "INFO:tensorflow:global_step/sec: 8.14486\n",
            "INFO:tensorflow:loss = 0.5756833, step = 20601 (12.277 sec)\n",
            "INFO:tensorflow:global_step/sec: 8.1609\n",
            "INFO:tensorflow:loss = 0.6466394, step = 20701 (12.254 sec)\n",
            "INFO:tensorflow:global_step/sec: 8.14876\n",
            "INFO:tensorflow:loss = 0.6082333, step = 20801 (12.273 sec)\n",
            "INFO:tensorflow:global_step/sec: 8.13983\n",
            "INFO:tensorflow:loss = 0.57748646, step = 20901 (12.284 sec)\n",
            "INFO:tensorflow:global_step/sec: 8.1479\n",
            "INFO:tensorflow:loss = 0.58013856, step = 21001 (12.273 sec)\n",
            "INFO:tensorflow:global_step/sec: 8.13892\n",
            "INFO:tensorflow:loss = 0.5381041, step = 21101 (12.286 sec)\n",
            "INFO:tensorflow:global_step/sec: 8.14227\n",
            "INFO:tensorflow:loss = 0.58899325, step = 21201 (12.284 sec)\n",
            "INFO:tensorflow:global_step/sec: 8.14816\n",
            "INFO:tensorflow:loss = 0.56256914, step = 21301 (12.271 sec)\n",
            "INFO:tensorflow:global_step/sec: 8.13722\n",
            "INFO:tensorflow:loss = 0.53577155, step = 21401 (12.291 sec)\n",
            "INFO:tensorflow:global_step/sec: 8.14827\n",
            "INFO:tensorflow:loss = 0.56407344, step = 21501 (12.271 sec)\n",
            "INFO:tensorflow:global_step/sec: 8.15969\n",
            "INFO:tensorflow:loss = 0.60732335, step = 21601 (12.257 sec)\n",
            "INFO:tensorflow:global_step/sec: 8.16778\n",
            "INFO:tensorflow:loss = 0.4551401, step = 21701 (12.243 sec)\n",
            "INFO:tensorflow:global_step/sec: 8.17211\n",
            "INFO:tensorflow:loss = 0.61031747, step = 21801 (12.235 sec)\n",
            "INFO:tensorflow:global_step/sec: 8.1786\n",
            "INFO:tensorflow:loss = 0.5794511, step = 21901 (12.227 sec)\n",
            "INFO:tensorflow:global_step/sec: 8.16185\n",
            "INFO:tensorflow:loss = 0.6104219, step = 22001 (12.252 sec)\n",
            "INFO:tensorflow:global_step/sec: 8.15381\n",
            "INFO:tensorflow:loss = 0.57312423, step = 22101 (12.266 sec)\n",
            "INFO:tensorflow:global_step/sec: 8.15034\n",
            "INFO:tensorflow:loss = 0.5717676, step = 22201 (12.268 sec)\n",
            "INFO:tensorflow:global_step/sec: 8.13354\n",
            "INFO:tensorflow:loss = 0.5890365, step = 22301 (12.294 sec)\n",
            "INFO:tensorflow:global_step/sec: 8.11589\n",
            "INFO:tensorflow:loss = 0.5708202, step = 22401 (12.321 sec)\n",
            "INFO:tensorflow:global_step/sec: 8.11971\n",
            "INFO:tensorflow:loss = 0.5982798, step = 22501 (12.317 sec)\n",
            "INFO:tensorflow:global_step/sec: 7.82467\n",
            "INFO:tensorflow:loss = 0.55338174, step = 22601 (12.783 sec)\n",
            "INFO:tensorflow:global_step/sec: 7.48718\n",
            "INFO:tensorflow:loss = 0.5728047, step = 22701 (13.353 sec)\n",
            "INFO:tensorflow:global_step/sec: 8.00466\n",
            "INFO:tensorflow:loss = 0.5898154, step = 22801 (12.493 sec)\n",
            "INFO:tensorflow:global_step/sec: 8.00559\n",
            "INFO:tensorflow:loss = 0.56617874, step = 22901 (12.491 sec)\n",
            "INFO:tensorflow:global_step/sec: 8.04361\n",
            "INFO:tensorflow:loss = 0.44795617, step = 23001 (12.434 sec)\n",
            "INFO:tensorflow:global_step/sec: 8.09984\n",
            "INFO:tensorflow:loss = 0.5636911, step = 23101 (12.343 sec)\n",
            "INFO:tensorflow:global_step/sec: 8.06045\n",
            "INFO:tensorflow:loss = 0.5609932, step = 23201 (12.407 sec)\n",
            "INFO:tensorflow:global_step/sec: 8.07265\n",
            "INFO:tensorflow:loss = 0.5002531, step = 23301 (12.387 sec)\n",
            "INFO:tensorflow:global_step/sec: 8.11395\n",
            "INFO:tensorflow:loss = 0.59679055, step = 23401 (12.327 sec)\n",
            "INFO:tensorflow:global_step/sec: 8.07351\n",
            "INFO:tensorflow:loss = 0.54448175, step = 23501 (12.384 sec)\n",
            "INFO:tensorflow:global_step/sec: 8.07957\n",
            "INFO:tensorflow:loss = 0.56825346, step = 23601 (12.377 sec)\n",
            "INFO:tensorflow:global_step/sec: 8.08864\n",
            "INFO:tensorflow:loss = 0.52698576, step = 23701 (12.364 sec)\n",
            "INFO:tensorflow:global_step/sec: 8.05004\n",
            "INFO:tensorflow:loss = 0.57972014, step = 23801 (12.421 sec)\n",
            "INFO:tensorflow:global_step/sec: 8.04003\n",
            "INFO:tensorflow:loss = 0.45281243, step = 23901 (12.437 sec)\n",
            "INFO:tensorflow:global_step/sec: 8.00827\n",
            "INFO:tensorflow:loss = 0.6140185, step = 24001 (12.491 sec)\n",
            "INFO:tensorflow:global_step/sec: 8.02845\n",
            "INFO:tensorflow:loss = 0.46315312, step = 24101 (12.452 sec)\n",
            "INFO:tensorflow:global_step/sec: 8.03547\n",
            "INFO:tensorflow:loss = 0.5539997, step = 24201 (12.447 sec)\n",
            "INFO:tensorflow:Saving checkpoints for 24271 into /tmp/tmpkwuSs0/model.ckpt.\n",
            "INFO:tensorflow:global_step/sec: 7.82952\n",
            "INFO:tensorflow:loss = 0.5326367, step = 24301 (12.772 sec)\n",
            "INFO:tensorflow:global_step/sec: 8.01086\n",
            "INFO:tensorflow:loss = 0.57873434, step = 24401 (12.482 sec)\n",
            "INFO:tensorflow:global_step/sec: 8.07681\n",
            "INFO:tensorflow:loss = 0.58670384, step = 24501 (12.380 sec)\n",
            "INFO:tensorflow:global_step/sec: 8.09315\n",
            "INFO:tensorflow:loss = 0.5565358, step = 24601 (12.357 sec)\n",
            "INFO:tensorflow:global_step/sec: 8.05456\n",
            "INFO:tensorflow:loss = 0.5466008, step = 24701 (12.415 sec)\n",
            "INFO:tensorflow:global_step/sec: 8.09684\n",
            "INFO:tensorflow:loss = 0.5050894, step = 24801 (12.355 sec)\n",
            "INFO:tensorflow:global_step/sec: 8.07553\n",
            "INFO:tensorflow:loss = 0.42269352, step = 24901 (12.379 sec)\n",
            "INFO:tensorflow:global_step/sec: 8.09186\n",
            "INFO:tensorflow:loss = 0.4753689, step = 25001 (12.359 sec)\n",
            "INFO:tensorflow:global_step/sec: 7.91913\n",
            "INFO:tensorflow:loss = 0.5271221, step = 25101 (12.631 sec)\n",
            "INFO:tensorflow:global_step/sec: 7.7008\n",
            "INFO:tensorflow:loss = 0.5310023, step = 25201 (12.982 sec)\n",
            "INFO:tensorflow:global_step/sec: 8.08602\n",
            "INFO:tensorflow:loss = 0.55600053, step = 25301 (12.367 sec)\n",
            "INFO:tensorflow:global_step/sec: 8.12271\n",
            "INFO:tensorflow:loss = 0.5313425, step = 25401 (12.312 sec)\n",
            "INFO:tensorflow:global_step/sec: 8.1277\n",
            "INFO:tensorflow:loss = 0.5682823, step = 25501 (12.304 sec)\n",
            "INFO:tensorflow:global_step/sec: 8.11611\n",
            "INFO:tensorflow:loss = 0.60909617, step = 25601 (12.321 sec)\n",
            "INFO:tensorflow:global_step/sec: 8.1108\n",
            "INFO:tensorflow:loss = 0.51037765, step = 25701 (12.332 sec)\n",
            "INFO:tensorflow:global_step/sec: 8.10905\n",
            "INFO:tensorflow:loss = 0.5189865, step = 25801 (12.331 sec)\n",
            "INFO:tensorflow:global_step/sec: 8.10312\n",
            "INFO:tensorflow:loss = 0.60536784, step = 25901 (12.338 sec)\n",
            "INFO:tensorflow:global_step/sec: 8.10869\n",
            "INFO:tensorflow:loss = 0.5317151, step = 26001 (12.334 sec)\n",
            "INFO:tensorflow:global_step/sec: 8.12147\n",
            "INFO:tensorflow:loss = 0.45362297, step = 26101 (12.313 sec)\n",
            "INFO:tensorflow:global_step/sec: 8.1181\n",
            "INFO:tensorflow:loss = 0.6325605, step = 26201 (12.318 sec)\n",
            "INFO:tensorflow:global_step/sec: 8.11924\n",
            "INFO:tensorflow:loss = 0.5764233, step = 26301 (12.315 sec)\n",
            "INFO:tensorflow:global_step/sec: 8.11816\n",
            "INFO:tensorflow:loss = 0.67270243, step = 26401 (12.321 sec)\n",
            "INFO:tensorflow:global_step/sec: 8.12834\n",
            "INFO:tensorflow:loss = 0.48284936, step = 26501 (12.301 sec)\n",
            "INFO:tensorflow:global_step/sec: 8.11653\n",
            "INFO:tensorflow:loss = 0.56977594, step = 26601 (12.319 sec)\n",
            "INFO:tensorflow:global_step/sec: 8.10669\n",
            "INFO:tensorflow:loss = 0.5003113, step = 26701 (12.336 sec)\n",
            "INFO:tensorflow:global_step/sec: 8.11175\n",
            "INFO:tensorflow:loss = 0.5455536, step = 26801 (12.327 sec)\n",
            "INFO:tensorflow:global_step/sec: 8.098\n",
            "INFO:tensorflow:loss = 0.50519145, step = 26901 (12.352 sec)\n",
            "INFO:tensorflow:global_step/sec: 8.11836\n",
            "INFO:tensorflow:loss = 0.6169295, step = 27001 (12.317 sec)\n",
            "INFO:tensorflow:global_step/sec: 8.13157\n",
            "INFO:tensorflow:loss = 0.5072313, step = 27101 (12.299 sec)\n",
            "INFO:tensorflow:global_step/sec: 8.08857\n",
            "INFO:tensorflow:loss = 0.5155342, step = 27201 (12.359 sec)\n",
            "INFO:tensorflow:global_step/sec: 8.11594\n",
            "INFO:tensorflow:loss = 0.57609963, step = 27301 (12.321 sec)\n",
            "INFO:tensorflow:global_step/sec: 8.12496\n",
            "INFO:tensorflow:loss = 0.42565754, step = 27401 (12.310 sec)\n",
            "INFO:tensorflow:global_step/sec: 8.119\n",
            "INFO:tensorflow:loss = 0.551294, step = 27501 (12.315 sec)\n",
            "INFO:tensorflow:global_step/sec: 8.00616\n",
            "INFO:tensorflow:loss = 0.46014637, step = 27601 (12.492 sec)\n",
            "INFO:tensorflow:global_step/sec: 7.68733\n",
            "INFO:tensorflow:loss = 0.53436303, step = 27701 (13.007 sec)\n",
            "INFO:tensorflow:global_step/sec: 8.09592\n",
            "INFO:tensorflow:loss = 0.45550072, step = 27801 (12.353 sec)\n",
            "INFO:tensorflow:global_step/sec: 8.11312\n",
            "INFO:tensorflow:loss = 0.4810746, step = 27901 (12.327 sec)\n",
            "INFO:tensorflow:global_step/sec: 8.10913\n",
            "INFO:tensorflow:loss = 0.5229003, step = 28001 (12.330 sec)\n",
            "INFO:tensorflow:global_step/sec: 8.11695\n",
            "INFO:tensorflow:loss = 0.509425, step = 28101 (12.322 sec)\n",
            "INFO:tensorflow:global_step/sec: 8.11438\n",
            "INFO:tensorflow:loss = 0.5176711, step = 28201 (12.322 sec)\n",
            "INFO:tensorflow:global_step/sec: 8.11674\n",
            "INFO:tensorflow:loss = 0.6067564, step = 28301 (12.321 sec)\n",
            "INFO:tensorflow:global_step/sec: 8.13949\n",
            "INFO:tensorflow:loss = 0.35563767, step = 28401 (12.286 sec)\n",
            "INFO:tensorflow:global_step/sec: 8.13367\n",
            "INFO:tensorflow:loss = 0.44429278, step = 28501 (12.294 sec)\n",
            "INFO:tensorflow:global_step/sec: 8.12308\n",
            "INFO:tensorflow:loss = 0.50896126, step = 28601 (12.310 sec)\n",
            "INFO:tensorflow:global_step/sec: 8.11814\n",
            "INFO:tensorflow:loss = 0.46989936, step = 28701 (12.322 sec)\n",
            "INFO:tensorflow:global_step/sec: 8.10066\n",
            "INFO:tensorflow:loss = 0.50273013, step = 28801 (12.345 sec)\n",
            "INFO:tensorflow:global_step/sec: 8.11393\n",
            "INFO:tensorflow:loss = 0.5267942, step = 28901 (12.324 sec)\n",
            "INFO:tensorflow:global_step/sec: 8.10931\n",
            "INFO:tensorflow:loss = 0.47292903, step = 29001 (12.330 sec)\n",
            "INFO:tensorflow:global_step/sec: 8.13452\n",
            "INFO:tensorflow:loss = 0.458058, step = 29101 (12.307 sec)\n",
            "INFO:tensorflow:Saving checkpoints for 29119 into /tmp/tmpkwuSs0/model.ckpt.\n",
            "INFO:tensorflow:global_step/sec: 7.85617\n",
            "INFO:tensorflow:loss = 0.39674246, step = 29201 (12.717 sec)\n",
            "INFO:tensorflow:global_step/sec: 8.12216\n",
            "INFO:tensorflow:loss = 0.54697305, step = 29301 (12.309 sec)\n",
            "INFO:tensorflow:global_step/sec: 8.13409\n",
            "INFO:tensorflow:loss = 0.52765447, step = 29401 (12.293 sec)\n",
            "INFO:tensorflow:global_step/sec: 8.12336\n",
            "INFO:tensorflow:loss = 0.46336964, step = 29501 (12.311 sec)\n",
            "INFO:tensorflow:global_step/sec: 8.10453\n",
            "INFO:tensorflow:loss = 0.46828884, step = 29601 (12.339 sec)\n",
            "INFO:tensorflow:global_step/sec: 8.12186\n",
            "INFO:tensorflow:loss = 0.49017796, step = 29701 (12.314 sec)\n",
            "INFO:tensorflow:global_step/sec: 8.08995\n",
            "INFO:tensorflow:loss = 0.56863856, step = 29801 (12.362 sec)\n",
            "INFO:tensorflow:global_step/sec: 8.12127\n",
            "INFO:tensorflow:loss = 0.48478466, step = 29901 (12.312 sec)\n",
            "INFO:tensorflow:global_step/sec: 8.12614\n",
            "INFO:tensorflow:loss = 0.5178508, step = 30001 (12.309 sec)\n",
            "INFO:tensorflow:global_step/sec: 8.0617\n",
            "INFO:tensorflow:loss = 0.48324096, step = 30101 (12.401 sec)\n",
            "INFO:tensorflow:global_step/sec: 7.6722\n",
            "INFO:tensorflow:loss = 0.55161715, step = 30201 (13.034 sec)\n",
            "INFO:tensorflow:global_step/sec: 8.05115\n",
            "INFO:tensorflow:loss = 0.5710336, step = 30301 (12.421 sec)\n",
            "INFO:tensorflow:global_step/sec: 8.1239\n",
            "INFO:tensorflow:loss = 0.5014284, step = 30401 (12.309 sec)\n",
            "INFO:tensorflow:global_step/sec: 8.14267\n",
            "INFO:tensorflow:loss = 0.42197448, step = 30501 (12.281 sec)\n",
            "INFO:tensorflow:global_step/sec: 8.15194\n",
            "INFO:tensorflow:loss = 0.49057665, step = 30601 (12.267 sec)\n",
            "INFO:tensorflow:global_step/sec: 8.14803\n",
            "INFO:tensorflow:loss = 0.5379759, step = 30701 (12.273 sec)\n",
            "INFO:tensorflow:global_step/sec: 8.12469\n",
            "INFO:tensorflow:loss = 0.5002446, step = 30801 (12.308 sec)\n",
            "INFO:tensorflow:global_step/sec: 8.11322\n",
            "INFO:tensorflow:loss = 0.53219724, step = 30901 (12.325 sec)\n",
            "INFO:tensorflow:global_step/sec: 8.12286\n",
            "INFO:tensorflow:loss = 0.4348428, step = 31001 (12.312 sec)\n",
            "INFO:tensorflow:global_step/sec: 8.11745\n",
            "INFO:tensorflow:loss = 0.53083, step = 31101 (12.319 sec)\n",
            "INFO:tensorflow:global_step/sec: 8.11607\n",
            "INFO:tensorflow:loss = 0.47009575, step = 31201 (12.320 sec)\n",
            "INFO:tensorflow:global_step/sec: 8.10987\n",
            "INFO:tensorflow:loss = 0.6270811, step = 31301 (12.332 sec)\n",
            "INFO:tensorflow:global_step/sec: 8.10835\n",
            "INFO:tensorflow:loss = 0.39972156, step = 31401 (12.332 sec)\n",
            "INFO:tensorflow:global_step/sec: 8.11485\n",
            "INFO:tensorflow:loss = 0.5041202, step = 31501 (12.324 sec)\n",
            "INFO:tensorflow:global_step/sec: 8.11085\n",
            "INFO:tensorflow:loss = 0.5772797, step = 31601 (12.328 sec)\n",
            "INFO:tensorflow:global_step/sec: 8.12467\n",
            "INFO:tensorflow:loss = 0.38078174, step = 31701 (12.309 sec)\n",
            "INFO:tensorflow:global_step/sec: 8.13896\n",
            "INFO:tensorflow:loss = 0.5716248, step = 31801 (12.287 sec)\n",
            "INFO:tensorflow:global_step/sec: 8.1487\n",
            "INFO:tensorflow:loss = 0.44991958, step = 31901 (12.272 sec)\n",
            "INFO:tensorflow:global_step/sec: 8.13918\n",
            "INFO:tensorflow:loss = 0.70903146, step = 32001 (12.289 sec)\n",
            "INFO:tensorflow:global_step/sec: 8.14085\n",
            "INFO:tensorflow:loss = 0.44107407, step = 32101 (12.285 sec)\n",
            "INFO:tensorflow:global_step/sec: 8.15213\n",
            "INFO:tensorflow:loss = 0.59240997, step = 32201 (12.262 sec)\n",
            "INFO:tensorflow:global_step/sec: 8.17126\n",
            "INFO:tensorflow:loss = 0.46041512, step = 32301 (12.241 sec)\n",
            "INFO:tensorflow:global_step/sec: 8.17297\n",
            "INFO:tensorflow:loss = 0.39037082, step = 32401 (12.234 sec)\n",
            "INFO:tensorflow:global_step/sec: 8.16003\n",
            "INFO:tensorflow:loss = 0.48619393, step = 32501 (12.257 sec)\n",
            "INFO:tensorflow:global_step/sec: 8.15431\n",
            "INFO:tensorflow:loss = 0.5507552, step = 32601 (12.260 sec)\n",
            "INFO:tensorflow:global_step/sec: 7.804\n",
            "INFO:tensorflow:loss = 0.39069548, step = 32701 (12.814 sec)\n",
            "INFO:tensorflow:global_step/sec: 8.01468\n",
            "INFO:tensorflow:loss = 0.4888723, step = 32801 (12.477 sec)\n",
            "INFO:tensorflow:global_step/sec: 8.15823\n",
            "INFO:tensorflow:loss = 0.6262567, step = 32901 (12.258 sec)\n",
            "INFO:tensorflow:global_step/sec: 8.16368\n",
            "INFO:tensorflow:loss = 0.4945562, step = 33001 (12.248 sec)\n",
            "INFO:tensorflow:global_step/sec: 8.17055\n",
            "INFO:tensorflow:loss = 0.6273276, step = 33101 (12.240 sec)\n",
            "INFO:tensorflow:global_step/sec: 8.17675\n",
            "INFO:tensorflow:loss = 0.49754563, step = 33201 (12.230 sec)\n",
            "INFO:tensorflow:global_step/sec: 8.16421\n",
            "INFO:tensorflow:loss = 0.82912046, step = 33301 (12.248 sec)\n",
            "INFO:tensorflow:global_step/sec: 8.16612\n",
            "INFO:tensorflow:loss = 0.5846577, step = 33401 (12.248 sec)\n",
            "INFO:tensorflow:global_step/sec: 8.16845\n",
            "INFO:tensorflow:loss = 0.45688, step = 33501 (12.242 sec)\n",
            "INFO:tensorflow:global_step/sec: 8.15961\n",
            "INFO:tensorflow:loss = 0.4082708, step = 33601 (12.256 sec)\n",
            "INFO:tensorflow:global_step/sec: 8.16236\n",
            "INFO:tensorflow:loss = 0.53239006, step = 33701 (12.249 sec)\n",
            "INFO:tensorflow:global_step/sec: 8.17376\n",
            "INFO:tensorflow:loss = 0.4372132, step = 33801 (12.235 sec)\n",
            "INFO:tensorflow:global_step/sec: 8.16908\n",
            "INFO:tensorflow:loss = 0.41828603, step = 33901 (12.240 sec)\n",
            "INFO:tensorflow:Saving checkpoints for 33986 into /tmp/tmpkwuSs0/model.ckpt.\n",
            "INFO:tensorflow:global_step/sec: 7.9554\n",
            "INFO:tensorflow:loss = 0.43417212, step = 34001 (12.571 sec)\n",
            "INFO:tensorflow:global_step/sec: 8.13124\n",
            "INFO:tensorflow:loss = 0.4967888, step = 34101 (12.298 sec)\n",
            "INFO:tensorflow:global_step/sec: 8.15973\n",
            "INFO:tensorflow:loss = 0.4418971, step = 34201 (12.256 sec)\n",
            "INFO:tensorflow:global_step/sec: 8.18969\n",
            "INFO:tensorflow:loss = 0.44687593, step = 34301 (12.210 sec)\n",
            "INFO:tensorflow:global_step/sec: 8.18753\n",
            "INFO:tensorflow:loss = 0.4151425, step = 34401 (12.215 sec)\n",
            "INFO:tensorflow:global_step/sec: 8.1882\n",
            "INFO:tensorflow:loss = 0.42691177, step = 34501 (12.215 sec)\n",
            "INFO:tensorflow:global_step/sec: 8.18465\n",
            "INFO:tensorflow:loss = 0.49753076, step = 34601 (12.214 sec)\n",
            "INFO:tensorflow:global_step/sec: 8.15493\n",
            "INFO:tensorflow:loss = 0.6947787, step = 34701 (12.262 sec)\n",
            "INFO:tensorflow:global_step/sec: 8.18346\n",
            "INFO:tensorflow:loss = 0.5571531, step = 34801 (12.220 sec)\n",
            "INFO:tensorflow:global_step/sec: 8.18333\n",
            "INFO:tensorflow:loss = 0.49851975, step = 34901 (12.223 sec)\n",
            "INFO:tensorflow:global_step/sec: 8.18013\n",
            "INFO:tensorflow:loss = 0.6051526, step = 35001 (12.222 sec)\n",
            "INFO:tensorflow:global_step/sec: 8.20255\n",
            "INFO:tensorflow:loss = 0.5441717, step = 35101 (12.191 sec)\n",
            "INFO:tensorflow:global_step/sec: 7.96649\n",
            "INFO:tensorflow:loss = 0.42584246, step = 35201 (12.557 sec)\n",
            "INFO:tensorflow:global_step/sec: 7.93721\n",
            "INFO:tensorflow:loss = 0.44179222, step = 35301 (12.594 sec)\n",
            "INFO:tensorflow:global_step/sec: 8.178\n",
            "INFO:tensorflow:loss = 0.3182915, step = 35401 (12.229 sec)\n",
            "INFO:tensorflow:global_step/sec: 8.17832\n",
            "INFO:tensorflow:loss = 0.6480162, step = 35501 (12.229 sec)\n",
            "INFO:tensorflow:global_step/sec: 8.17315\n",
            "INFO:tensorflow:loss = 0.44288188, step = 35601 (12.232 sec)\n",
            "INFO:tensorflow:global_step/sec: 8.17548\n",
            "INFO:tensorflow:loss = 0.4176936, step = 35701 (12.232 sec)\n",
            "INFO:tensorflow:global_step/sec: 8.18257\n",
            "INFO:tensorflow:loss = 0.40386146, step = 35801 (12.223 sec)\n",
            "INFO:tensorflow:global_step/sec: 8.17036\n",
            "INFO:tensorflow:loss = 0.6098708, step = 35901 (12.238 sec)\n",
            "INFO:tensorflow:global_step/sec: 8.17365\n",
            "INFO:tensorflow:loss = 0.5235143, step = 36001 (12.234 sec)\n",
            "INFO:tensorflow:global_step/sec: 8.16836\n",
            "INFO:tensorflow:loss = 0.33177957, step = 36101 (12.243 sec)\n",
            "INFO:tensorflow:global_step/sec: 8.18904\n",
            "INFO:tensorflow:loss = 0.4873924, step = 36201 (12.212 sec)\n",
            "INFO:tensorflow:global_step/sec: 8.18379\n",
            "INFO:tensorflow:loss = 0.38188365, step = 36301 (12.222 sec)\n",
            "INFO:tensorflow:global_step/sec: 8.17015\n",
            "INFO:tensorflow:loss = 0.39445946, step = 36401 (12.237 sec)\n",
            "INFO:tensorflow:global_step/sec: 8.16626\n",
            "INFO:tensorflow:loss = 0.4559809, step = 36501 (12.248 sec)\n",
            "INFO:tensorflow:global_step/sec: 8.15679\n",
            "INFO:tensorflow:loss = 0.41189075, step = 36601 (12.256 sec)\n",
            "INFO:tensorflow:global_step/sec: 8.17744\n",
            "INFO:tensorflow:loss = 0.53541875, step = 36701 (12.229 sec)\n",
            "INFO:tensorflow:global_step/sec: 8.1537\n",
            "INFO:tensorflow:loss = 0.4175617, step = 36801 (12.268 sec)\n",
            "INFO:tensorflow:global_step/sec: 8.15709\n",
            "INFO:tensorflow:loss = 0.46381915, step = 36901 (12.256 sec)\n",
            "INFO:tensorflow:global_step/sec: 8.1555\n",
            "INFO:tensorflow:loss = 0.5007484, step = 37001 (12.264 sec)\n",
            "INFO:tensorflow:global_step/sec: 8.15868\n",
            "INFO:tensorflow:loss = 0.40927497, step = 37101 (12.254 sec)\n",
            "INFO:tensorflow:global_step/sec: 8.1532\n",
            "INFO:tensorflow:loss = 0.43817374, step = 37201 (12.267 sec)\n",
            "INFO:tensorflow:global_step/sec: 8.16071\n",
            "INFO:tensorflow:loss = 0.39278162, step = 37301 (12.252 sec)\n",
            "INFO:tensorflow:global_step/sec: 8.15239\n",
            "INFO:tensorflow:loss = 0.41007382, step = 37401 (12.266 sec)\n",
            "INFO:tensorflow:global_step/sec: 8.14178\n",
            "INFO:tensorflow:loss = 0.727339, step = 37501 (12.283 sec)\n",
            "INFO:tensorflow:global_step/sec: 8.12789\n",
            "INFO:tensorflow:loss = 0.47928256, step = 37601 (12.302 sec)\n",
            "INFO:tensorflow:global_step/sec: 8.0384\n",
            "INFO:tensorflow:loss = 0.37355134, step = 37701 (12.442 sec)\n",
            "INFO:tensorflow:global_step/sec: 7.80343\n",
            "INFO:tensorflow:loss = 0.37899798, step = 37801 (12.816 sec)\n",
            "INFO:tensorflow:global_step/sec: 8.13216\n",
            "INFO:tensorflow:loss = 0.43265274, step = 37901 (12.295 sec)\n",
            "INFO:tensorflow:global_step/sec: 8.12223\n",
            "INFO:tensorflow:loss = 1.6698052, step = 38001 (12.314 sec)\n",
            "INFO:tensorflow:global_step/sec: 8.08343\n",
            "INFO:tensorflow:loss = 0.41034824, step = 38101 (12.368 sec)\n",
            "INFO:tensorflow:global_step/sec: 8.13723\n",
            "INFO:tensorflow:loss = 0.39196074, step = 38201 (12.289 sec)\n",
            "INFO:tensorflow:global_step/sec: 8.15566\n",
            "INFO:tensorflow:loss = 0.45079958, step = 38301 (12.263 sec)\n",
            "INFO:tensorflow:global_step/sec: 8.1361\n",
            "INFO:tensorflow:loss = 0.40161505, step = 38401 (12.290 sec)\n",
            "INFO:tensorflow:global_step/sec: 8.09745\n",
            "INFO:tensorflow:loss = 0.43184823, step = 38501 (12.353 sec)\n",
            "INFO:tensorflow:global_step/sec: 8.09017\n",
            "INFO:tensorflow:loss = 0.41543815, step = 38601 (12.358 sec)\n",
            "INFO:tensorflow:global_step/sec: 8.13198\n",
            "INFO:tensorflow:loss = 0.45349133, step = 38701 (12.300 sec)\n",
            "INFO:tensorflow:global_step/sec: 8.14032\n",
            "INFO:tensorflow:loss = 0.4244972, step = 38801 (12.283 sec)\n",
            "INFO:tensorflow:Saving checkpoints for 38868 into /tmp/tmpkwuSs0/model.ckpt.\n",
            "INFO:tensorflow:global_step/sec: 7.94214\n",
            "INFO:tensorflow:loss = 0.42638052, step = 38901 (12.589 sec)\n",
            "INFO:tensorflow:global_step/sec: 8.11048\n",
            "INFO:tensorflow:loss = 0.4360477, step = 39001 (12.332 sec)\n",
            "INFO:tensorflow:global_step/sec: 8.14362\n",
            "INFO:tensorflow:loss = 0.4730014, step = 39101 (12.277 sec)\n",
            "INFO:tensorflow:global_step/sec: 8.15999\n",
            "INFO:tensorflow:loss = 0.49718463, step = 39201 (12.254 sec)\n",
            "INFO:tensorflow:global_step/sec: 8.15526\n",
            "INFO:tensorflow:loss = 0.42668626, step = 39301 (12.263 sec)\n",
            "INFO:tensorflow:global_step/sec: 8.14366\n",
            "INFO:tensorflow:loss = 0.27226487, step = 39401 (12.279 sec)\n",
            "INFO:tensorflow:global_step/sec: 8.14459\n",
            "INFO:tensorflow:loss = 0.4261002, step = 39501 (12.280 sec)\n",
            "INFO:tensorflow:global_step/sec: 8.14466\n",
            "INFO:tensorflow:loss = 0.38072813, step = 39601 (12.276 sec)\n",
            "INFO:tensorflow:global_step/sec: 8.15448\n",
            "INFO:tensorflow:loss = 0.44392613, step = 39701 (12.266 sec)\n",
            "INFO:tensorflow:global_step/sec: 8.15084\n",
            "INFO:tensorflow:loss = 0.46896046, step = 39801 (12.266 sec)\n",
            "INFO:tensorflow:global_step/sec: 8.17117\n",
            "INFO:tensorflow:loss = 0.51448846, step = 39901 (12.242 sec)\n",
            "INFO:tensorflow:Saving checkpoints for 40000 into /tmp/tmpkwuSs0/model.ckpt.\n",
            "INFO:tensorflow:Loss for final step: 0.639796.\n"
          ],
          "name": "stdout"
        },
        {
          "output_type": "execute_result",
          "data": {
            "text/plain": [
              "4941.9500069618225"
            ]
          },
          "metadata": {
            "tags": []
          },
          "execution_count": 33
        }
      ]
    },
    {
      "metadata": {
        "id": "0fAaZIClyOI0",
        "colab_type": "code",
        "colab": {
          "base_uri": "https://localhost:8080/",
          "height": 190
        },
        "outputId": "c6c800d2-d4f4-4620-ce49-04e16bcc7c1e"
      },
      "cell_type": "code",
      "source": [
        "#training accuracy\n",
        "dnn_clf.score(X_train,y_train)"
      ],
      "execution_count": 34,
      "outputs": [
        {
          "output_type": "stream",
          "text": [
            "WARNING:tensorflow:float64 is not supported by many models, consider casting to float32.\n",
            "INFO:tensorflow:Starting evaluation at 2018-08-17-01:35:24\n",
            "INFO:tensorflow:Graph was finalized.\n",
            "INFO:tensorflow:Restoring parameters from /tmp/tmpkwuSs0/model.ckpt-40000\n",
            "INFO:tensorflow:Running local_init_op.\n",
            "INFO:tensorflow:Done running local_init_op.\n",
            "INFO:tensorflow:Finished evaluation at 2018-08-17-01:35:26\n",
            "INFO:tensorflow:Saving dict for global step 40000: accuracy = 0.664375, global_step = 40000, loss = 0.67856246\n"
          ],
          "name": "stdout"
        },
        {
          "output_type": "execute_result",
          "data": {
            "text/plain": [
              "{'accuracy': 0.664375, 'global_step': 40000, 'loss': 0.67856246}"
            ]
          },
          "metadata": {
            "tags": []
          },
          "execution_count": 34
        }
      ]
    },
    {
      "metadata": {
        "id": "o5PGLTBKyfVT",
        "colab_type": "code",
        "colab": {
          "base_uri": "https://localhost:8080/",
          "height": 119
        },
        "outputId": "365e900e-c2f1-401a-8619-6316ea2e675b"
      },
      "cell_type": "code",
      "source": [
        "yt_pred = dnn_clf.predict(X_train)\n",
        "accuracy_score(y_train, yt_pred['classes'])"
      ],
      "execution_count": 35,
      "outputs": [
        {
          "output_type": "stream",
          "text": [
            "WARNING:tensorflow:float64 is not supported by many models, consider casting to float32.\n",
            "INFO:tensorflow:Graph was finalized.\n",
            "INFO:tensorflow:Restoring parameters from /tmp/tmpkwuSs0/model.ckpt-40000\n",
            "INFO:tensorflow:Running local_init_op.\n",
            "INFO:tensorflow:Done running local_init_op.\n"
          ],
          "name": "stdout"
        },
        {
          "output_type": "execute_result",
          "data": {
            "text/plain": [
              "0.664375"
            ]
          },
          "metadata": {
            "tags": []
          },
          "execution_count": 35
        }
      ]
    },
    {
      "metadata": {
        "id": "wZIupFGGysOx",
        "colab_type": "code",
        "colab": {
          "base_uri": "https://localhost:8080/",
          "height": 190
        },
        "outputId": "5e250cdd-f2df-4fa8-99f5-caca3f34afd5"
      },
      "cell_type": "code",
      "source": [
        "#test accuracy\n",
        "dnn_clf.score(X_test,y_test)"
      ],
      "execution_count": 36,
      "outputs": [
        {
          "output_type": "stream",
          "text": [
            "WARNING:tensorflow:float64 is not supported by many models, consider casting to float32.\n",
            "INFO:tensorflow:Starting evaluation at 2018-08-17-01:35:33\n",
            "INFO:tensorflow:Graph was finalized.\n",
            "INFO:tensorflow:Restoring parameters from /tmp/tmpkwuSs0/model.ckpt-40000\n",
            "INFO:tensorflow:Running local_init_op.\n",
            "INFO:tensorflow:Done running local_init_op.\n",
            "INFO:tensorflow:Finished evaluation at 2018-08-17-01:35:34\n",
            "INFO:tensorflow:Saving dict for global step 40000: accuracy = 0.6175, global_step = 40000, loss = 0.8353316\n"
          ],
          "name": "stdout"
        },
        {
          "output_type": "execute_result",
          "data": {
            "text/plain": [
              "{'accuracy': 0.6175, 'global_step': 40000, 'loss': 0.8353316}"
            ]
          },
          "metadata": {
            "tags": []
          },
          "execution_count": 36
        }
      ]
    },
    {
      "metadata": {
        "id": "ztE-tmYszQQM",
        "colab_type": "code",
        "colab": {
          "base_uri": "https://localhost:8080/",
          "height": 119
        },
        "outputId": "628e926c-4e8d-4f50-9923-37770ca8ff46"
      },
      "cell_type": "code",
      "source": [
        "y_pred = dnn_clf.predict(X_test)\n",
        "accuracy_score(y_test, y_pred['classes'])"
      ],
      "execution_count": 37,
      "outputs": [
        {
          "output_type": "stream",
          "text": [
            "WARNING:tensorflow:float64 is not supported by many models, consider casting to float32.\n",
            "INFO:tensorflow:Graph was finalized.\n",
            "INFO:tensorflow:Restoring parameters from /tmp/tmpkwuSs0/model.ckpt-40000\n",
            "INFO:tensorflow:Running local_init_op.\n",
            "INFO:tensorflow:Done running local_init_op.\n"
          ],
          "name": "stdout"
        },
        {
          "output_type": "execute_result",
          "data": {
            "text/plain": [
              "0.6175"
            ]
          },
          "metadata": {
            "tags": []
          },
          "execution_count": 37
        }
      ]
    },
    {
      "metadata": {
        "id": "OU73_7jg1wPs",
        "colab_type": "code",
        "colab": {}
      },
      "cell_type": "code",
      "source": [
        ""
      ],
      "execution_count": 0,
      "outputs": []
    },
    {
      "metadata": {
        "id": "bXyyd3w12GwR",
        "colab_type": "code",
        "colab": {}
      },
      "cell_type": "code",
      "source": [
        ""
      ],
      "execution_count": 0,
      "outputs": []
    },
    {
      "metadata": {
        "id": "d14FnLCd2K2Y",
        "colab_type": "code",
        "colab": {}
      },
      "cell_type": "code",
      "source": [
        ""
      ],
      "execution_count": 0,
      "outputs": []
    },
    {
      "metadata": {
        "id": "IY_cG51Tz_Fh",
        "colab_type": "code",
        "colab": {}
      },
      "cell_type": "code",
      "source": [
        ""
      ],
      "execution_count": 0,
      "outputs": []
    }
  ]
}